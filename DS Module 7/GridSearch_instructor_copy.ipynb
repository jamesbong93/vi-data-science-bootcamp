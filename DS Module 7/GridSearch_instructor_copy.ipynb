{
 "cells": [
  {
   "cell_type": "markdown",
   "metadata": {
    "id": "qFKaoeBEdFgU"
   },
   "source": [
    "<img src=\"./img/vi_logo.png\" style=\"float: left; margin: 10px; height: 45px\">\n",
    "\n",
    "\n",
    "\n",
    "\n",
    "# Vertical Institute Data Science Bootcamp\n",
    "# Lesson 7: Advanced Model Evaluation\n",
    "\n",
    "\n",
    "---"
   ]
  },
  {
   "cell_type": "markdown",
   "metadata": {
    "id": "5CX_GeOGdFge"
   },
   "source": [
    "\n",
    "### Learning Objectives\n",
    "\n",
    "**After this lesson, you will be able to:**\n",
    "- Review initial EDA strategies\n",
    "- Intuition behind GridSearch\n",
    "- Implement changes and updates to KNN model using gridsearch\n",
    "- Find optimal hyperparameters of a model"
   ]
  },
  {
   "cell_type": "markdown",
   "metadata": {
    "id": "CU4Y873AdFgh"
   },
   "source": [
    "<a name=\"prologue\"></a>\n",
    "## Prologue to Gridsearch \n",
    "\n",
    "When doing exploratory analysis and starting to think about model selection, we have a few good starting points.\n",
    "\n",
    "* Looking at coefficient matrices\n",
    "* Selecting features (variables) to use in our models\n",
    "* Considering parameters that might work, in a broad sense\n",
    "* Validation strategy\n",
    "\n",
    "A **correlation matrix** is used to investigate the **dependence between multiple variables at the same time**. The result is a table containing the correlation coefficients between each variable and the others. **This is ideal for feature selection when deciding which features to use in a predictive model.**"
   ]
  },
  {
   "cell_type": "markdown",
   "metadata": {
    "id": "5IiPlNXqdFgk"
   },
   "source": [
    "<a id=\"gs\"></a>\n",
    "## Intro to Gridsearch\n",
    "\n",
    "What is \"gridsearch\"? Gridsearch is the process of searching for the optimal set of tuning parameters for a model. It searches across values of parameters and uses cross-validation to evaluate the effect. It's called gridsearch because the idea is that there is a \"grid\" of parameters that are iteratively searched.\n"
   ]
  },
  {
   "cell_type": "markdown",
   "metadata": {
    "id": "gQDADKagdFgo"
   },
   "source": [
    "### A Hypothetical Example\n",
    "\n",
    "Consider these **KNearest Neighbors** parameters:\n",
    "\n",
    "| Parameter | Potential Values |\n",
    "| --- | ---|\n",
    "| **n_neighbors** | int range 1-150 |\n",
    "| **weights** | strs:  \"uniform\", \"distance\" or user defined function |\n",
    "| **algorithm** | strs: \"ball_tree\", \"kd_tree\", \"brute\", \"auto\" |\n",
    "| **leaf_size** | int range 0-150 | \n",
    "| **metric** | str: \"minkowski\" or DistanceObject type |\n",
    "| **p** | int: 1=manhattan_distance, 2= euclidean_distance |\n",
    "\n",
    "```python\n",
    "from sklearn import neighbors\n",
    "\n",
    "# Search - 1\n",
    "neighbors.KNeighborsClassifier(n_neighbors=1, weights=\"uniform\", algorithm=\"ball_tree\", leaf_size=30, etc...)\n",
    "# Search - 2\n",
    "neighbors.KNeighborsClassifier(n_neighbors=2, weights=\"uniform\", algorithm=\"ball_tree\", leaf_size=30, etc...)\n",
    "# Search - 3\n",
    "neighbors.KNeighborsClassifier(n_neighbors=3, weights=\"uniform\", algorithm=\"ball_tree\", leaf_size=30, etc...)\n",
    "...\n",
    "... ** chunk chunk chunk -- hours later **\n",
    "...\n",
    "# Search - 300,000+\n",
    "neighbors.KNeighborsClassifier(n_neighbors=150, weights=\"distance\", algorithm=\"auto\", leaf_size=150, etc...)\n",
    "```"
   ]
  },
  {
   "cell_type": "markdown",
   "metadata": {
    "id": "KW5vuYLFdFgr"
   },
   "source": [
    "<a id= \"iris\"></a>\n",
    "## Using GridSearch to Loan Approval dataset"
   ]
  },
  {
   "cell_type": "code",
   "execution_count": null,
   "metadata": {
    "ExecuteTime": {
     "end_time": "2021-11-13T05:14:12.288281Z",
     "start_time": "2021-11-13T05:14:12.285555Z"
    },
    "id": "jSQwFPQAdFgv"
   },
   "outputs": [],
   "source": [
    "import pandas as pd\n",
    "import numpy as np"
   ]
  },
  {
   "cell_type": "code",
   "execution_count": null,
   "metadata": {
    "ExecuteTime": {
     "end_time": "2021-11-13T07:07:36.759096Z",
     "start_time": "2021-11-13T07:07:36.750393Z"
    },
    "id": "6BxI4fK3dFgx"
   },
   "outputs": [],
   "source": [
    "# Load gridsearch\n",
    "from sklearn import datasets\n",
    "from sklearn.model_selection import GridSearchCV # import GridSearchCV\n",
    "from sklearn.neighbors import KNeighborsClassifier\n",
    "\n",
    "# Load loan dataset\n",
    "df = pd.read_csv('clean_loan_approval.csv')\n",
    "\n",
    "# Creating X and y\n",
    "y = df['Loan_Status']\n",
    "X = df[['ApplicantIncome', 'CoapplicantIncome', 'LoanAmount',\n",
    "       'Loan_Amount_Term', 'Credit_History']]"
   ]
  },
  {
   "cell_type": "code",
   "execution_count": null,
   "metadata": {},
   "outputs": [],
   "source": [
    "X.head()"
   ]
  },
  {
   "cell_type": "code",
   "execution_count": null,
   "metadata": {
    "ExecuteTime": {
     "end_time": "2021-11-13T07:07:37.999816Z",
     "start_time": "2021-11-13T07:07:37.985590Z"
    },
    "id": "oOg5-1qYdFg6",
    "outputId": "e3962172-73f2-47d4-cf9b-3c717097f579",
    "scrolled": true
   },
   "outputs": [],
   "source": [
    "y.head()"
   ]
  },
  {
   "cell_type": "code",
   "execution_count": null,
   "metadata": {},
   "outputs": [],
   "source": [
    "# Check out the KNeighborsClassifier parameters\n",
    "# Don't run this code. We are asking you to shift tab to study the documentation here!\n",
    "KNeighborsClassifier( <shift tab here!> )"
   ]
  },
  {
   "cell_type": "code",
   "execution_count": null,
   "metadata": {
    "ExecuteTime": {
     "end_time": "2021-11-13T07:07:38.420595Z",
     "start_time": "2021-11-13T07:07:38.417559Z"
    },
    "id": "oMwyQk6SdFg-"
   },
   "outputs": [],
   "source": [
    "# In practice, we will pick and choose the important hyperparameters to tune\n",
    "# Important is based on theory, experience and common knowledge (a lot of information in Google)\n",
    "# Setup our GridSearch Parameters\n",
    "search_parameters = {\n",
    "    'n_neighbors':  [3, 50], \n",
    "    'weights':      [\"uniform\", \"distance\"],\n",
    "    'algorithm':    [\"ball_tree\", \"kd_tree\", \"brute\", \"auto\"],\n",
    "}"
   ]
  },
  {
   "cell_type": "code",
   "execution_count": null,
   "metadata": {
    "ExecuteTime": {
     "end_time": "2021-11-13T07:08:34.209271Z",
     "start_time": "2021-11-13T07:08:32.754445Z"
    },
    "id": "CH1fORjYdFhA",
    "outputId": "69c111f2-79be-4f2b-a37b-071f7c949b7b"
   },
   "outputs": [],
   "source": [
    "# Initialize KNN \n",
    "knn = KNeighborsClassifier()\n",
    "\n",
    "# Initialize GridSearchCV\n",
    "# Feed in the model to tune, the hyper parameters to tune\n",
    "# Verbose > 0 will give us more details in the output below!\n",
    "clf = GridSearchCV(knn, search_parameters, verbose=1)   \n",
    "\n",
    "# Fit our training data\n",
    "# We are building a lot of models here and finding the best one!\n",
    "clf.fit(X, y)  "
   ]
  },
  {
   "cell_type": "markdown",
   "metadata": {
    "id": "l-ohr24mdFhJ"
   },
   "source": [
    "### At this point, GridSearch has:\n",
    "- Performed all of the permutations upon all instances of potential parameters\n",
    "- Building a model for each set of unqiue parameters\n",
    "- Sets the class attributes for best params, score, and estimator object for further evaluation"
   ]
  },
  {
   "cell_type": "code",
   "execution_count": null,
   "metadata": {
    "ExecuteTime": {
     "end_time": "2021-11-13T05:40:50.541365Z",
     "start_time": "2021-11-13T05:40:50.515418Z"
    },
    "id": "IFQbOA_rdFhL",
    "outputId": "32485f1a-9161-4b5d-8b9a-842e2658f7b6",
    "scrolled": false
   },
   "outputs": [],
   "source": [
    "print(\"Best Params:\", clf.best_params_) # best model's parameters\n",
    "print(\"Best Score:\", clf.best_score_) # best model's accuracy\n",
    "\n",
    "# Look at the first 5 experiments/models\n",
    "pd.DataFrame(clf.cv_results_).head()"
   ]
  },
  {
   "cell_type": "markdown",
   "metadata": {
    "id": "L-SNQk-sdFhO"
   },
   "source": [
    "### Keep in mind\n",
    "\n",
    "- This is a small dataset\n",
    "- It's the minimum number of steps to perform this function"
   ]
  },
  {
   "cell_type": "markdown",
   "metadata": {
    "id": "pmZjvhgcdYOx"
   },
   "source": [
    "### Exercise\n",
    "### Using Grid Search to Improve Predicting Loan Approval (Decision Tree) In Lesson 6\n",
    "- We have learnt how to apply GridSearch on kNN, \n",
    "- Recall that in lesson 6, we predicted Loan Approval using a decision tree.\n",
    "- Below are the steps we took to predict loan approval."
   ]
  },
  {
   "cell_type": "code",
   "execution_count": null,
   "metadata": {
    "ExecuteTime": {
     "end_time": "2021-11-13T01:44:47.501642Z",
     "start_time": "2021-11-13T01:44:47.470470Z"
    },
    "id": "yq78l4KWdoKS"
   },
   "outputs": [],
   "source": [
    "# Load loan dataset again just in case\n",
    "df = pd.read_csv('clean_loan_approval.csv')\n",
    "\n",
    "# Creating X and y\n",
    "y = df['Loan_Status']\n",
    "X = df[['ApplicantIncome', 'CoapplicantIncome', 'LoanAmount',\n",
    "       'Loan_Amount_Term', 'Credit_History']]"
   ]
  },
  {
   "cell_type": "code",
   "execution_count": null,
   "metadata": {
    "ExecuteTime": {
     "end_time": "2021-11-13T01:44:52.386244Z",
     "start_time": "2021-11-13T01:44:52.365001Z"
    },
    "id": "P4euE6q-dpX0"
   },
   "outputs": [],
   "source": [
    "# Let's building a baseline Decision Tree model with DEFAULT hyperparameters\n",
    "from sklearn.model_selection import train_test_split\n",
    "from sklearn.tree import DecisionTreeClassifier\n",
    "from sklearn.metrics import accuracy_score\n",
    "\n",
    "# Split into train test dataset\n",
    "X_train, X_test, y_train, y_test = train_test_split(X, y, test_size = 0.20, random_state = 42)\n",
    "\n",
    "# Creating DecisionTreeClassifier model object\n",
    "tree = DecisionTreeClassifier(random_state = 42)\n",
    "\n",
    "# Training the model with X_train and y_train\n",
    "tree.fit(X_train, y_train)\n",
    "\n",
    "# Predict using X_test\n",
    "y_preds = tree.predict(X_test)\n",
    "\n",
    "# Compute the accuracy score\n",
    "accuracy_score(y_test,y_preds)"
   ]
  },
  {
   "cell_type": "markdown",
   "metadata": {
    "id": "f-7XBRZBdw1l"
   },
   "source": [
    "### Use GridSearch to Improve the Model\n",
    "- It can be seen that our accuracy score is around 0.7317 (Same for all of us because we set the random_state/seed)\n",
    "- Now, using GridSearch, find better parameters for this Decision Tree to reduce overfitting and improve the accuracy score.\n",
    "\n",
    "#### Parameters on GridSearchCV\n",
    "GridSearchCV implements a “fit” and a “score” method.\n",
    "Use the below link to help you with exercise\n",
    "- GridSearchCV Parameters: https://scikit-learn.org/stable/modules/generated/sklearn.model_selection.GridSearchCV.html\n",
    "- Scoring Parameters: https://scikit-learn.org/stable/modules/model_evaluation.html#scoring-parameter`"
   ]
  },
  {
   "cell_type": "code",
   "execution_count": null,
   "metadata": {
    "id": "PDlUm0god3K7"
   },
   "outputs": [],
   "source": [
    "from sklearn.metrics import make_scorer\n",
    "from sklearn.model_selection import GridSearchCV\n",
    "from sklearn.metrics import accuracy_score # Note that accuracy_score is by default chosen as the scoring object\n",
    "\n",
    "clf = DecisionTreeClassifier(random_state=42)\n",
    "\n",
    "# Create the parameters list we wish to tune.\n",
    "parameters = {_________________________________________}\n",
    "\n",
    "# Make an accuracy scoring object.\n",
    "scorer = make_scorer(accuracy_score) #there are many other scoring objects refer to link above\n",
    "\n",
    "# Perform grid search on the classifier using 'scorer' as the scoring method.\n",
    "# Create the object.\n",
    "grid_obj = GridSearchCV(_______, _____, scoring=_______, cv=20,n_jobs=-1)\n",
    "\n",
    "# Fit the grid search object to the training data and find the optimal parameters.\n",
    "# Fit the data\n",
    "grid_fit = grid_obj.fit(_____, _____)\n",
    "\n",
    "# View results of GridSearchCV in DataFrame\n",
    "pd.concat([pd.DataFrame(grid_fit.cv_results_[\"params\"]),pd.DataFrame(grid_fit.cv_results_[\"mean_test_score\"], columns=[\"Accuracy\"])],axis=1)\n",
    "\n",
    "# Get the estimator.\n",
    "best_clf = grid_fit.best_estimator_\n",
    "\n",
    "# Fit the new model.\n",
    "best_clf.fit(_____, _____)\n",
    "\n",
    "# Make predictions using the new model.\n",
    "best_test_predictions = best_clf.predict(X_test)\n",
    "\n",
    "# Get the accuracy score\n",
    "_______________(y_test,best_test_predictions)"
   ]
  },
  {
   "cell_type": "markdown",
   "metadata": {
    "id": "hlVTL9KPd6d6"
   },
   "source": [
    "#### Solution"
   ]
  },
  {
   "cell_type": "code",
   "execution_count": null,
   "metadata": {
    "ExecuteTime": {
     "end_time": "2021-11-13T06:23:49.022253Z",
     "start_time": "2021-11-13T06:23:46.348247Z"
    },
    "id": "ay08cyp0d8y1",
    "scrolled": true
   },
   "outputs": [],
   "source": [
    "from sklearn.metrics import make_scorer\n",
    "from sklearn.model_selection import GridSearchCV\n",
    "from sklearn.metrics import accuracy_score\n",
    "\n",
    "# Create model object\n",
    "clf = DecisionTreeClassifier(random_state=42)\n",
    "\n",
    "# Create the parameters list we wish to tune.\n",
    "parameters = {\n",
    "              'max_depth':[1, 2, 3, 4, 5, 6],\n",
    "              'min_samples_leaf':[2, 3, 4], \n",
    "              'min_samples_split':[10, 20, 30]\n",
    "             }\n",
    "\n",
    "\n",
    "# Make an accuracy scoring object. \n",
    "# We are asking the CV to evaluate using Accuracy\n",
    "scorer = make_scorer(accuracy_score)\n",
    "\n",
    "# Perform grid search on the classifier using 'scorer' as the scoring method.\n",
    "# Create the grid search object. Feed the model object, parameters and the scoring object into the function\n",
    "grid_obj = GridSearchCV(clf, parameters, scoring = scorer, cv = 5, verbose=1)\n",
    "\n",
    "# Fit the grid search object to the training data and find the optimal parameters.\n",
    "grid_fit = grid_obj.fit(X_train, y_train)\n",
    "\n",
    "# View results of GridSearchCV in DataFrame\n",
    "pd.concat([pd.DataFrame(grid_fit.cv_results_[\"params\"]),   \n",
    "           pd.DataFrame(grid_fit.cv_results_[\"mean_test_score\"], columns=[\"Accuracy\"])],axis=1)\n"
   ]
  },
  {
   "cell_type": "code",
   "execution_count": null,
   "metadata": {},
   "outputs": [],
   "source": [
    "# Get the estimator (the model object with the BEST hyperparameters)\n",
    "best_clf = grid_fit.best_estimator_\n",
    "print(best_clf)\n",
    "\n",
    "# Fit the new model.\n",
    "best_clf.fit(X_train, y_train)\n",
    "\n",
    "# Make predictions using the new model.\n",
    "best_test_predictions = best_clf.predict(X_test)\n",
    "\n",
    "# Print the accuracy\n",
    "accuracy_score(y_test,best_test_predictions)"
   ]
  },
  {
   "cell_type": "markdown",
   "metadata": {
    "id": "2JGzfe1DdFhP"
   },
   "source": [
    "## Sklearn Pipelines\n",
    "\n",
    "<img src=\"img/pipe.png\" style=\"height: 600px\">"
   ]
  },
  {
   "cell_type": "code",
   "execution_count": null,
   "metadata": {
    "ExecuteTime": {
     "end_time": "2021-11-13T06:29:53.557624Z",
     "start_time": "2021-11-13T06:29:53.554909Z"
    },
    "id": "UI6vbUoxdFhQ"
   },
   "outputs": [],
   "source": [
    "from sklearn.pipeline import Pipeline\n",
    "from sklearn.preprocessing import StandardScaler"
   ]
  },
  {
   "cell_type": "code",
   "execution_count": null,
   "metadata": {
    "ExecuteTime": {
     "end_time": "2021-11-13T06:29:55.957123Z",
     "start_time": "2021-11-13T06:29:55.951818Z"
    },
    "id": "PhA_BdA4dFhR"
   },
   "outputs": [],
   "source": [
    "# Load loan dataset just in case\n",
    "df = pd.read_csv('clean_loan_approval.csv')\n",
    "\n",
    "# Creating X and y\n",
    "y = df['Loan_Status']\n",
    "X = df[['ApplicantIncome', 'CoapplicantIncome', 'LoanAmount',\n",
    "       'Loan_Amount_Term', 'Credit_History']]"
   ]
  },
  {
   "cell_type": "code",
   "execution_count": null,
   "metadata": {
    "ExecuteTime": {
     "end_time": "2021-11-13T06:29:57.421186Z",
     "start_time": "2021-11-13T06:29:57.416677Z"
    },
    "id": "wIkj7S1IdFhT"
   },
   "outputs": [],
   "source": [
    "# train test split\n",
    "X_train,X_test,y_train,y_test = train_test_split(X, y, random_state=42)\n",
    "\n",
    "# We can use the pipeline function to chain different processes in a particular order\n",
    "# This is just something nice to do to make your code look cleaner\n",
    "# Optional\n",
    "# General flow\n",
    "pipe = Pipeline([('scaler', StandardScaler()), \n",
    "                 ('knn', KNeighborsClassifier())])\n",
    "\n",
    "# Fit the data into the pipeline in the order\n",
    "pipe.fit(X_train, y_train)\n",
    "\n",
    "# Score/Make predictions using the test data\n",
    "pipe.score(X_test, y_test)"
   ]
  },
  {
   "cell_type": "markdown",
   "metadata": {
    "id": "Zau_ZRw3dFhW"
   },
   "source": [
    "### Inspecting pipelines"
   ]
  },
  {
   "cell_type": "code",
   "execution_count": null,
   "metadata": {
    "ExecuteTime": {
     "end_time": "2021-11-13T06:33:01.630109Z",
     "start_time": "2021-11-13T06:33:01.625850Z"
    },
    "id": "Ywq2G5AOdFhX",
    "outputId": "2f10820f-6f44-4fdf-dd5e-246b32b637b8"
   },
   "outputs": [],
   "source": [
    "# For you to look at the steps if you want to inspect\n",
    "pipe.named_steps"
   ]
  },
  {
   "cell_type": "markdown",
   "metadata": {
    "id": "80ky3KhidFhb"
   },
   "source": [
    "### GridSearchCV on  pipelines"
   ]
  },
  {
   "cell_type": "code",
   "execution_count": null,
   "metadata": {
    "ExecuteTime": {
     "end_time": "2021-11-13T06:39:55.456970Z",
     "start_time": "2021-11-13T06:39:55.454036Z"
    },
    "id": "MIA5BKFrdFhc"
   },
   "outputs": [],
   "source": [
    "search_parameters = {'scaler__with_mean':[True,False],\n",
    "                     'knn__n_neighbors':  [3,10,30,50],\n",
    "                     'knn__weights': [\"uniform\", \"distance\"],\n",
    "                    }"
   ]
  },
  {
   "cell_type": "code",
   "execution_count": null,
   "metadata": {
    "ExecuteTime": {
     "end_time": "2021-11-13T06:42:39.001516Z",
     "start_time": "2021-11-13T06:42:38.999061Z"
    },
    "id": "3lNBGPladFhd"
   },
   "outputs": [],
   "source": [
    "gs = GridSearchCV(pipe, search_parameters)\n",
    "\n",
    "gs.fit(X_train, y_train)\n",
    "\n",
    "print(gs.best_params_)\n",
    "print(gs.best_estimator_)"
   ]
  },
  {
   "cell_type": "markdown",
   "metadata": {
    "id": "120_Y5indFhl"
   },
   "source": [
    "\n",
    "<a name=\"conclusion\"></a>\n",
    "## Lesson Summary\n",
    "\n",
    "\n",
    "Let's review what we learned today. We:\n",
    "\n",
    "- Reviewed initial EDA strategies to do model selection\n",
    "- Went through gridsearch as an optimization method for our estimator\n",
    "- Found the optimal hyperparameters by tuning the parameters and checking which churns out the best metric score\n",
    "- Conduct statistical modelling with optimization for the Iris dataset"
   ]
  }
 ],
 "metadata": {
  "colab": {
   "collapsed_sections": [
    "hlVTL9KPd6d6"
   ],
   "name": "GridSearch.ipynb",
   "provenance": []
  },
  "kernelspec": {
   "display_name": "Python 3",
   "language": "python",
   "name": "python3"
  },
  "language_info": {
   "codemirror_mode": {
    "name": "ipython",
    "version": 3
   },
   "file_extension": ".py",
   "mimetype": "text/x-python",
   "name": "python",
   "nbconvert_exporter": "python",
   "pygments_lexer": "ipython3",
   "version": "3.8.5"
  },
  "toc": {
   "base_numbering": 1,
   "nav_menu": {},
   "number_sections": true,
   "sideBar": true,
   "skip_h1_title": false,
   "title_cell": "Table of Contents",
   "title_sidebar": "Contents",
   "toc_cell": false,
   "toc_position": {
    "height": "calc(100% - 180px)",
    "left": "10px",
    "top": "150px",
    "width": "479.484px"
   },
   "toc_section_display": true,
   "toc_window_display": false
  },
  "varInspector": {
   "cols": {
    "lenName": 16,
    "lenType": 16,
    "lenVar": 40
   },
   "kernels_config": {
    "python": {
     "delete_cmd_postfix": "",
     "delete_cmd_prefix": "del ",
     "library": "var_list.py",
     "varRefreshCmd": "print(var_dic_list())"
    },
    "r": {
     "delete_cmd_postfix": ") ",
     "delete_cmd_prefix": "rm(",
     "library": "var_list.r",
     "varRefreshCmd": "cat(var_dic_list()) "
    }
   },
   "types_to_exclude": [
    "module",
    "function",
    "builtin_function_or_method",
    "instance",
    "_Feature"
   ],
   "window_display": false
  }
 },
 "nbformat": 4,
 "nbformat_minor": 1
}
