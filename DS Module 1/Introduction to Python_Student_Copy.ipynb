{
 "cells": [
  {
   "cell_type": "markdown",
   "metadata": {
    "id": "9LzAa9Pw5jjy"
   },
   "source": [
    "<img src=\"img/vi_logo.png\" style=\"float: left; margin: 10px; height: 45px\">\n",
    "\n",
    "# Vertical Institute Data Science 101\n",
    "# Lesson 1: Introduction to Python\n",
    "\n",
    "---"
   ]
  },
  {
   "cell_type": "markdown",
   "metadata": {
    "ExecuteTime": {
     "end_time": "2021-10-10T04:53:55.774189Z",
     "start_time": "2021-10-10T04:53:55.769189Z"
    },
    "id": "5LKFcyhq5jj5"
   },
   "source": [
    "<img src=\"img/data-science-in-banking.jpg\" style=\"height: 500px\">\n",
    "\n",
    "Source: https://techvidvan.com/tutorials/wp-content/uploads/sites/2/2020/03/data-science-in-banking.jpg"
   ]
  },
  {
   "cell_type": "markdown",
   "metadata": {
    "id": "PvCNIwsA5jj6"
   },
   "source": [
    "\n",
    "## Learning Objectives\n",
    "\n",
    "**At the end of this lesson, you should understand:**\n",
    "- Overview of Python and Its Syntax.\n",
    "- Work with **primitives** (integers, floats, strings, booleans) and **containers** (lists, tuples, sets, and dictionaries)\n",
    "- Variables and Operators"
   ]
  },
  {
   "cell_type": "markdown",
   "metadata": {
    "id": "sud3rnRN5jj6"
   },
   "source": [
    "## Jupyter Notebook\n",
    "\n",
    "Jupyter (or iPython) Notebooks are ideal environments to run Python code. Just like a notebook, you are encouraged to write personal learning notes as we go along\n",
    "\n",
    "Code cells are run by pressing `shift + enter` or using the Play button in the toolbar."
   ]
  },
  {
   "cell_type": "markdown",
   "metadata": {
    "id": "ASa80v-a5jj7"
   },
   "source": [
    "Key buttons\n",
    "- New code cell\n",
    "- Cut, copy, paste \n",
    "- Move cell up and down\n",
    "- Run\n",
    "- Kernel > Restart & Clear All Output"
   ]
  },
  {
   "cell_type": "code",
   "execution_count": null,
   "metadata": {
    "ExecuteTime": {
     "end_time": "2021-10-14T17:58:40.513810Z",
     "start_time": "2021-10-14T17:58:40.510763Z"
    },
    "id": "xb9eivWO5jj7"
   },
   "outputs": [],
   "source": [
    "# This is a cell.\n",
    "# Try inserting new cells above, below, and deleting them with Esc + a, Esc + b, Esc + dd"
   ]
  },
  {
   "cell_type": "code",
   "execution_count": null,
   "metadata": {
    "ExecuteTime": {
     "end_time": "2021-10-14T17:58:40.522299Z",
     "start_time": "2021-10-14T17:58:40.518924Z"
    },
    "id": "aTpBaram5jj8",
    "outputId": "e7987268-a319-4cb3-eb61-f7277a785a2d"
   },
   "outputs": [],
   "source": [
    "# To run this cell, either click the 'Run' button above \n",
    "# or use the shortcut 'Shift-Enter'\n",
    "\n",
    "print('Welcome!')"
   ]
  },
  {
   "cell_type": "markdown",
   "metadata": {
    "heading_collapsed": true,
    "id": "szxPmlWT5jj-"
   },
   "source": [
    "### Exercise: Shortcut your learning \n",
    "\n",
    "- Create new cells above and below this cell using shortcuts\n",
    "- Delete those cells\n",
    "- Esc + h to open command palette, learn how to `change cell to code` and `change cell to markdown` from there"
   ]
  },
  {
   "cell_type": "markdown",
   "metadata": {
    "id": "F-8pjAkW5jkE"
   },
   "source": [
    "\n",
    "## Python Data Types \n",
    "\n",
    "- Python has 4 primitive data types\n",
    "    - Integers: `-1,0,1,2`\n",
    "    - Floats: `2.1, 1.0, -3.`\n",
    "    - Strings: `\"name\", 'number_in_string_form',\"spaces allowed\"`\n",
    "    - Boolean: `True,False`\n",
    "\n",
    "- Python also has other non-primitive data types, some commonly used ones are called **Containers**\n",
    "    - Lists: `[],[1,1],[[1,2],[3,4]],['any type','can go in lists']`\n",
    "    - Dictionaries: `{'account_id':'123','amount':200}`"
   ]
  },
  {
   "cell_type": "markdown",
   "metadata": {
    "id": "TuOkyuMJ5jkE"
   },
   "source": [
    "### Details of datatypes"
   ]
  },
  {
   "cell_type": "markdown",
   "metadata": {
    "ExecuteTime": {
     "end_time": "2021-10-07T02:22:57.007813Z",
     "start_time": "2021-10-07T02:22:56.998171Z"
    },
    "id": "1l6I1HzR5jkF"
   },
   "source": [
    "**Integers:** \n",
    "- Whole numbers from negative infinity to infinity, such as 1, 0, -5, \n",
    "- Used for counting how many times something has been done, how many objects there are in a collection\n",
    "- E.g. customer vintage - 1, 2, 3, ...\n",
    "\n",
    "**Floats:** \n",
    "- Short for \"floating point number,\" usually used with decimals such as -2.1, 2.8 or 3.14159.\n",
    "- Can be created from operations on two integers eg. 2/3\n",
    "- Used to represent information of higher granularity than integers. \n",
    "- E.g. bank deposit balance - 1245.50, 86581.44, ...\n",
    "\n",
    "**Strings:** \n",
    "- A set of letters, numbers, or other characters, e.g., `\"The fox is quick.\"`. Can be empty string too `\"\"`\n",
    "- Used to make information readable in python, and to tell the computer what information to manipulate\n",
    "- Commonly used as keys in Dictionaries, Column names in pandas dataframes (2D tables of data)\n",
    "- E.g. bank customer occupation - student, unemployed, director, ...\n",
    "\n",
    "**Booleans**  \n",
    "- True,False\n",
    "- Usually used in controlling flow of program, also commonly seen in data analysis to indicate whether a row fulfils a condition\n",
    "- `bool(any_object)` to find it's truthiness/falsiness (different from True/False) \n",
    "- e.g. minimum deposit met - true, false\n",
    "    \n",
    "**Lists:** \n",
    "- An ordered sequence without a fixed number of elements, e.g., `x = [1, 2, 3]`. Note the square brackets. `x = [\"Lord\", \"of\", \"the\", \"Rings\"]`\n",
    "- Used to collect and organize information to prepare for further processing\n",
    "- If not concerned with mutability, lists and tuples have no practical difference\n",
    "\n",
    "**Dictionaries**: \n",
    "- An unordered collection of key-value pairs, e.g., `x = {'Mark': 'Twain', 'Apples': 5}`. To retrieve each value (the part after each colon), use its key (the part before each colon). For example, `x['Apples']` retrieves the value 5.\n",
    "- Used to map information from keys to values\n",
    "- Most important data structure in Python\n",
    "- Dictionary keys cannot be duplicated, 1 key only maps to 1 value, thus it's another deduplication tool like set\n",
    "\n",
    "**Tuples:**\n",
    "- An ordered sequence with a fixed number of elements (cannot add/remove without creating new tuple), e.g., in `x = (1, 2, 3)`, the parentheses makes it a tuple. `x = (\"Kirk\", \"Picard\", \"Spock\")`\n",
    "- Used to store information in a structure that cannot be editted (mutability is a big python topic: https://towardsdatascience.com/https-towardsdatascience-com-python-basics-mutable-vs-immutable-objects-829a0cb1530a)\n",
    "- Usually how databases return their result\n",
    "\n",
    "**Sets**\n",
    "- Unordered group of items eg. `s = set([1,2,3])`\n",
    "- Used for deduplication, adding an item already existing in set does not create a 2nd copy of it in the container, only 1 of each can exist (eg. Quora wants to deduplicate questions)\n",
    "\n",
    "\n",
    "Throughout this lesson, we will review each data type more in depth and discuss common ways of interacting with each of them.\n",
    "\n",
    "[Python's basic data types](https://en.wikiversity.org/wiki/Python/Basic_data_types)."
   ]
  },
  {
   "cell_type": "markdown",
   "metadata": {
    "id": "UdeZLIgO5jkF"
   },
   "source": [
    "**None**\n",
    "- A special object representing null/nothing, it is unequal to any other object\n",
    "- Used as a indicator value for controlling program flow\n",
    "- Automatically returned by functions if no return value is specified --> Frequent cause of bugs if you don't know None is implicitly returned by functions (usually happens when forget to write return statement)"
   ]
  },
  {
   "cell_type": "markdown",
   "metadata": {
    "heading_collapsed": true,
    "id": "SzAd5ybh5jkH"
   },
   "source": [
    "## Summary: Why primitives vs containers \n",
    "- Primitives represent mathematical ideas and real world concepts (1+2=3, 'My name is'+ 'insert_name' = 'My name isinsert_name')\n",
    "\n",
    "- Containers contain other containers/primitives\n",
    "- Containers help organize data, usually contain data of the same type, waiting to be processed in a loop by same code operating on its items 1 by 1\n",
    "    - `len(any_container)` (get the length) is usually of interest, to ensure you created the correct number of elements in the container"
   ]
  },
  {
   "cell_type": "markdown",
   "metadata": {
    "id": "SLL2_iuw5jkH"
   },
   "source": [
    "## Variables\n",
    "\n",
    "Variables are names that have been assigned to specific values or data. These names can be almost anything you want, but there are some restrictions and best practices.\n",
    "\n",
    "**Restrictions**\n",
    "- Variable names cannot be just a number (i.e., `2`, `0.01`, `10000`).\n",
    "- Variables should not be assigned the same name as a default or imported function (i.e., '`type`', '`print`', '`for`').\n",
    "- Variable names cannot contain spaces.\n",
    "\n",
    "**Best Practices**\n",
    "- Variable names should be lowercase.\n",
    "- A variable's name should be representative of the value(s) it has been assigned.\n",
    "- If you must use multiple words in your variable name, use an underscore to separate them."
   ]
  },
  {
   "cell_type": "code",
   "execution_count": null,
   "metadata": {
    "ExecuteTime": {
     "end_time": "2021-10-14T17:58:40.567946Z",
     "start_time": "2021-10-14T17:58:40.565403Z"
    },
    "id": "jUmyKeIc5jkH"
   },
   "outputs": [],
   "source": [
    "# This is an example of a variable\n",
<<<<<<< HEAD
    "# We have assigned a variable named x, with the value of 9.\n",
    "x = 9"
=======
    "# We have assigned a variable named x, with the value of 9.\n"
>>>>>>> d7b861289df566c3a9f0ce3f1743fab0c3d707d2
   ]
  },
  {
   "cell_type": "code",
   "execution_count": null,
   "metadata": {
    "ExecuteTime": {
     "end_time": "2021-10-14T17:58:40.573128Z",
     "start_time": "2021-10-14T17:58:40.569753Z"
    },
    "id": "dUasJONQ5jkH",
    "outputId": "8bcedc54-ea8b-41d5-ccea-6711dfd75f07"
   },
   "outputs": [],
   "source": [
<<<<<<< HEAD
    "# Anytime we call x, we will print out that value (9) assigned to this variable\n",
    "print(x)"
=======
    "# Anytime we call x, we will print out that value (9) assigned to this variable\n"
>>>>>>> d7b861289df566c3a9f0ce3f1743fab0c3d707d2
   ]
  },
  {
   "cell_type": "code",
   "execution_count": null,
   "metadata": {
    "ExecuteTime": {
     "end_time": "2021-10-14T17:58:40.579324Z",
     "start_time": "2021-10-14T17:58:40.575621Z"
    },
    "id": "ZWquN5fB5jkI",
    "outputId": "3a410fee-4b63-41ea-ca8b-e5d336a83b73"
   },
   "outputs": [],
   "source": [
    "# Variables allow us to encode more complex ideas. \n",
<<<<<<< HEAD
    "# Here are some simple algebraic representations using our variable x.\n",
    "print(x/3)"
=======
    "# Here are some simple algebraic representations using our variable x.\n"
>>>>>>> d7b861289df566c3a9f0ce3f1743fab0c3d707d2
   ]
  },
  {
   "cell_type": "code",
   "execution_count": null,
   "metadata": {
    "ExecuteTime": {
     "end_time": "2021-10-14T17:58:40.585030Z",
     "start_time": "2021-10-14T17:58:40.581738Z"
    },
    "id": "oNZxNOhM5jkI",
    "outputId": "99b8e545-7920-4013-c968-5b8723d89ef7"
   },
   "outputs": [],
   "source": [
    "# If needed, we can also overwrite the value of x by reassigning a new value.\n",
    "x = 17\n",
    "print(x)"
   ]
  },
  {
   "cell_type": "code",
   "execution_count": null,
   "metadata": {
    "ExecuteTime": {
     "end_time": "2021-10-14T17:58:40.590307Z",
     "start_time": "2021-10-14T17:58:40.586695Z"
    },
    "id": "SiTbp5o85jkI",
    "outputId": "37cf8760-0515-48f6-cd10-6fa77d656a88"
   },
   "outputs": [],
   "source": [
    "# We can also reassign the value using an equation, instead of an explicit value\n",
<<<<<<< HEAD
    "# We increment the current x by 1 = 18. Then reassign 18 to x.\n",
    "x = x + 1\n",
    "print(x)"
=======
    "# We increment the current x by 1 = 18. Then reassign 18 to x.\n"
>>>>>>> d7b861289df566c3a9f0ce3f1743fab0c3d707d2
   ]
  },
  {
   "cell_type": "markdown",
   "metadata": {
    "id": "ySJJ1-De5jkK"
   },
   "source": [
    "## Built-in Functions\n",
    "Functions are statements that run a specific computation on the input you give it. Functions are identifiable by the function name followed by round brackets. (https://docs.python.org/3/library/functions.html)\n",
    "\n",
    "- Commonly Used built-ins\n",
    " - sorted()\n",
    " - len()\n",
    " - zip()\n",
    " \n",
    "- Built-ins used to construct the previous containers you saw\n",
    " - tuple()\n",
    " - list()\n",
    " - set()\n",
    " - dict()\n",
    " - _Note: Most of the time these work the same as literal construction (`(,)`,`[]`,`{}`), but not always_\n",
    "\n",
    "Eg: `print(3)` is the print function which was given the input of 3"
   ]
  },
  {
   "cell_type": "markdown",
   "metadata": {
    "id": "VoWFkjM45jkL"
   },
   "source": [
    "There are many in-built functions in Python which we will slowly introduce to the class. You are already familiar with `print()`, now let's learn about `type()`"
   ]
  },
  {
   "cell_type": "markdown",
   "metadata": {
    "id": "X_jDdbRr5jkL"
   },
   "source": [
    "### type() \n",
    "- returns the data type of the given input\n",
    "---\n",
    "**Why knowing the type is important** \n",
    "- You will be using functions from libraries later (numpy, pandas, sklearn), and you may not know what types the library designers are returning from those functions\n",
    "- Knowing the type helps you debug problems, it determines what the object can do and what other objects can do with it (eg. sum, sort, iterate over it)"
   ]
  },
  {
   "cell_type": "code",
   "execution_count": null,
   "metadata": {
    "ExecuteTime": {
     "end_time": "2021-10-14T17:58:40.609316Z",
     "start_time": "2021-10-14T17:58:40.600123Z"
    },
    "id": "uIHqDpUL5jkL",
    "outputId": "bf38592b-f4aa-40c7-cacf-e8e8441287c1"
   },
   "outputs": [],
   "source": [
    "# Assigning a float:\n",
    "x = 1.0\n",
    "\n",
    "# below print out the type of x\n",
<<<<<<< HEAD
    "print(type(x))"
=======
    "_______"
>>>>>>> d7b861289df566c3a9f0ce3f1743fab0c3d707d2
   ]
  },
  {
   "cell_type": "code",
   "execution_count": null,
   "metadata": {
    "ExecuteTime": {
     "end_time": "2021-10-14T17:58:40.614855Z",
     "start_time": "2021-10-14T17:58:40.611210Z"
    },
    "id": "mrSFe3t-5jkM",
    "outputId": "2e9165c6-0ca4-41d0-a184-d1881110058b"
   },
   "outputs": [],
   "source": [
    "# Assigning an int:\n",
    "y = 1\n",
    "\n",
    "# below print out the type of y\n",
<<<<<<< HEAD
    "print(type(y))"
=======
    "________"
>>>>>>> d7b861289df566c3a9f0ce3f1743fab0c3d707d2
   ]
  },
  {
   "cell_type": "code",
   "execution_count": null,
   "metadata": {
    "ExecuteTime": {
     "end_time": "2021-10-14T17:58:40.620529Z",
     "start_time": "2021-10-14T17:58:40.616879Z"
    },
    "id": "MbYEK4Jx5jkM",
    "outputId": "754f2a46-5b03-495c-e779-ccbf7ac04e04"
   },
   "outputs": [],
   "source": [
    "# Assigning a string:\n",
    "z = '1'\n",
    "\n",
    "# below print out the type of z\n",
    "print(type(z))"
   ]
  },
  {
   "cell_type": "code",
   "execution_count": null,
   "metadata": {
    "ExecuteTime": {
     "end_time": "2021-10-14T17:58:40.626210Z",
     "start_time": "2021-10-14T17:58:40.622237Z"
    },
    "id": "jWVP1ERT5jkN",
    "outputId": "83223ff6-8ba4-4865-e046-21b39617fd4b"
   },
   "outputs": [],
   "source": [
<<<<<<< HEAD
    "# Assigning a boolean:\n",
=======
    "#Assigning a boolean:\n",
>>>>>>> d7b861289df566c3a9f0ce3f1743fab0c3d707d2
    "valid = True\n",
    "\n",
    "# below print out the type of valid\n",
    "print(type(valid))"
   ]
  },
  {
   "cell_type": "markdown",
   "metadata": {
    "id": "dh3Ki2OK5jkN"
   },
   "source": [
    "- **You can change the type of variables by casting (more later)**"
   ]
  },
  {
   "cell_type": "markdown",
   "metadata": {
    "id": "AYeiSniL5jkN"
   },
   "source": [
    "**Mental model of assignment**\n",
    "\n",
    "When we're assigning variables, we are not stating that \"_x equals 1_,\" we're stating that \"_x has been assigned the value of 1_.\"\n",
    "- x can later be assigned something else too, think of \"assignment\" as sticking a post-it with the variable name on it onto an object, and that post-it can be torn off and stuck to a new object anytime you want\n",
    "- There can be multiple stickers on the same object\n",
    "- Stickers can be stuck onto another sticker, instead of the object itself. (a=2, b=a same as b=a=2 same as a=2, b=2)\n",
    "- We set up variables to refer to objects we care about, and manipulate variables to process objects"
   ]
  },
  {
   "cell_type": "markdown",
   "metadata": {},
   "source": [
    "### Comments\n",
    "- Comments are instructions that get ignored by the Python interpreter, making them the perfect tool to annotate our code\n",
    "- Code expresses what, comments express why\n",
    "- Code you see is only tip of iceberg, there may be whole history of unseen design decisions that led to code\n",
    "- Comments usually link to possibly lengthy backstories from a community: https://github.com/pandas-dev/pandas/issues?q=is%3Aissue+is%3Aclosed"
   ]
  },
  {
   "cell_type": "markdown",
   "metadata": {},
   "source": [
    "### Errors (Gotta catch em all!)\n",
    "- Errors are part and parcel of programming. Errors are a useful feedback mechanism that usually tells us which part of our code needs fixing.\n",
    "- So many Errors!: https://docs.python.org/3/library/exceptions.html#exception-hierarchy"
   ]
  },
  {
   "cell_type": "markdown",
   "metadata": {},
   "source": [
    "###  Notes on errors"
   ]
  },
  {
   "cell_type": "markdown",
   "metadata": {},
   "source": [
    "- Errors that beginners usually see \n",
    "    - SyntaxError --> Code that can't be interpreted by Python, not runnable `[].3`\n",
    "    - AttributeError --> Trying to do something that's not defined `[].app`\n",
    "    - NameError --> Using variables that don't exist yet `print(this_name_is_not_defined)`\n",
    "    - TypeError --> Doing operations on operands that don't make sense together `[] + 3`\n",
    "    - ZeroDivisionError -> When the number is trying to divide by 0\n",
    "- The more you see, the better instinct you build on what could be wrong. "
   ]
  },
  {
   "cell_type": "code",
   "execution_count": null,
   "metadata": {},
   "outputs": [],
   "source": [
    "# If you forgot to add '#', Python assumes you giving it coding instructions\n",
    "For example, running this code block should throw an error."
   ]
  },
  {
   "cell_type": "code",
   "execution_count": null,
   "metadata": {},
   "outputs": [],
   "source": [
    "# Speaking of errors...\n",
    "# Errors are a common thing to see when you're coding\n",
    "# Often, Python's error message gives us hints on what to fix in our code\n",
<<<<<<< HEAD
    "print('Something about this line is incorrect...')"
=======
    "print('Something about this line is incorrect...'"
>>>>>>> d7b861289df566c3a9f0ce3f1743fab0c3d707d2
   ]
  },
  {
   "cell_type": "code",
   "execution_count": null,
   "metadata": {},
   "outputs": [],
   "source": [
    "# Try running this code. \n",
    "# Use the hint in the error message to fix the code\n",
<<<<<<< HEAD
    "print('What went wrong?')"
=======
    "print 'What went wrong?'"
>>>>>>> d7b861289df566c3a9f0ce3f1743fab0c3d707d2
   ]
  },
  {
   "cell_type": "code",
   "execution_count": null,
   "metadata": {},
   "outputs": [],
   "source": [
    "# Type Error: You can't add int type to the string type!\n",
    "a = 40\n",
    "b ='40'\n",
    "\n",
    "print(a + b)"
   ]
  },
  {
   "cell_type": "code",
   "execution_count": null,
   "metadata": {},
   "outputs": [],
   "source": [
    "# Name Error: Did we create variable A???\n",
    "print(A)"
   ]
  },
  {
   "cell_type": "markdown",
   "metadata": {
    "id": "AYk8baN15jkN"
   },
   "source": [
    "## Operators\n",
    "\n",
    "\"Operators are the constructs (that) can manipulate the value of operands.\" — [Tutorials Point: Python](https://www.tutorialspoint.com/python/python_basic_operators.htm)"
   ]
  },
  {
   "cell_type": "markdown",
   "metadata": {
    "id": "YHwSijcP5jkO"
   },
   "source": [
    "### Arithmetic Operators"
   ]
  },
  {
   "cell_type": "markdown",
   "metadata": {
    "id": "qzPXkYdy5jkO"
   },
   "source": [
    "<img src=\"img/arithmetic_operators.png\" style=\"margin: 20px; height: 300px\">"
   ]
  },
  {
   "cell_type": "markdown",
   "metadata": {
    "id": "7E6VTWzW5jkO"
   },
   "source": [
    "## Python as a powerful calculator\n",
    "\n",
    "One of the best uses of Python is as a **powerful and expressive** calculator."
   ]
  },
  {
   "cell_type": "code",
   "execution_count": null,
   "metadata": {
    "ExecuteTime": {
     "end_time": "2021-10-14T17:58:40.633579Z",
     "start_time": "2021-10-14T17:58:40.629300Z"
    },
    "colab": {
     "base_uri": "https://localhost:8080/"
    },
    "executionInfo": {
     "elapsed": 12,
     "status": "ok",
     "timestamp": 1634705528316,
     "user": {
      "displayName": "Louis reinaldo",
      "photoUrl": "https://lh3.googleusercontent.com/a-/AOh14Ggf3SpltmmtDBqf3mgwHXCksZv1dJmsAcTHg2UQ=s64",
      "userId": "08337447071234864737"
     },
     "user_tz": -480
    },
    "id": "rtiuBrbH5jkO",
    "outputId": "fa4277ee-043d-41ff-9085-4b40039d0ee3"
   },
   "outputs": [],
   "source": [
    "# Basic math operations\n",
    "print(2 + 5)\n",
    "print(3 - 10)\n",
    "print(2 * 13)\n",
    "print(20 / 4)\n",
    "print(5.0 + 5)"
   ]
  },
  {
   "cell_type": "code",
   "execution_count": null,
   "metadata": {
    "ExecuteTime": {
     "end_time": "2021-10-14T17:58:40.638710Z",
     "start_time": "2021-10-14T17:58:40.635168Z"
    },
    "id": "KMsSz0Se5jkO",
    "outputId": "5eb0f88f-9bbd-4eae-ef9f-26c1ae6632f5"
   },
   "outputs": [],
   "source": [
    "# We can use brackets to express more complex operations\n",
    "(50 - 5 * 6)/ 4"
   ]
  },
  {
   "cell_type": "code",
   "execution_count": null,
   "metadata": {
    "ExecuteTime": {
     "end_time": "2021-10-14T17:58:40.646596Z",
     "start_time": "2021-10-14T17:58:40.640550Z"
    },
    "id": "wn-VnlP65jkP",
    "outputId": "c488d309-7b93-4338-aaea-7430eb479060"
   },
   "outputs": [],
   "source": [
    "# For special use cases, Python gives us some advanced operators\n",
    "# the modulus % operator returns the remainder of the division\n",
    "print(17 % 3)"
   ]
  },
  {
   "cell_type": "code",
   "execution_count": null,
   "metadata": {
    "ExecuteTime": {
     "end_time": "2021-10-14T17:58:40.651989Z",
     "start_time": "2021-10-14T17:58:40.648721Z"
    },
    "id": "_RF9XgPA5jkP",
    "outputId": "dc417217-8bad-40c4-f238-434f8898858f"
   },
   "outputs": [],
   "source": [
    "# Calculate 2 to the power of 4\n",
    "print(2**4)"
   ]
  },
  {
   "cell_type": "markdown",
   "metadata": {
    "id": "dqvTnkd35jkP"
   },
   "source": [
    "- All examples above used the numbers directly, but you could have assigned them to variables and manipulated the variables refering to them\n",
    "```\n",
    "x = 17\n",
    "y = 3\n",
    "x/y\n",
    "```\n",
    "- This is how we usually work with data, not directly manipulating literal numbers, but variables instead\n",
    "- Variables allow us to not hard-code us(https://runestone.academy/runestone/books/published/fopp/SimplePythonData/HardCoding.html)\n",
    "- All programming is simply defining a pipeline of operations through variables, we change the input and let the computer do the hard work to give an output"
   ]
  },
  {
   "cell_type": "markdown",
   "metadata": {
    "id": "japUXX_m5jkP"
   },
   "source": [
    "### Interest Rate Exercise: Implementing ideas using python\n",
    "\n",
    "- **Question 1**: If an amount of $5,000 is deposited into a savings account at an annual interest rate of 5%, compounded monthly, calculate the value of the investment after 10 years \n",
    "- **Question 2**: If the investor targets an investment value of 10000 after 10 years, what must the annual interest rate be?\n",
    "\n",
    "<img src=\"img/compound-interest-formula-diagram.png\" style=\"margin: 20px; height: 300px\">\n",
    "\n",
    "- Explanation of finance terms at https://www.thecalculatorsite.com/articles/finance/compound-interest-formula.php\n",
    "\n",
    "Hints \n",
    "- Use variables \n",
    "- Breaking down the formula and creating intermediate variables help readability and eliminates need for parenthesis (eg. `num_times_compounded = n*t` and so on)"
   ]
  },
  {
   "cell_type": "code",
   "execution_count": null,
   "metadata": {
    "ExecuteTime": {
     "end_time": "2021-10-14T17:58:40.656768Z",
     "start_time": "2021-10-14T17:58:40.653908Z"
    },
    "id": "yeL2vE-25jkQ"
   },
   "outputs": [],
   "source": [
    "# We defined some variables for you already. Please use them\n",
    "P = 5000\n",
    "r = 5/100\n",
    "n = 12\n",
    "t = 10\n",
    "\n",
    "# Your code here\n",
    "# Question 1\n",
<<<<<<< HEAD
    "A = P * ((1 + (r / n)) ** (n * t))\n",
    "print(f\"${A:.2f}\")"
=======
    "A = ___________________\n",
    "print(A)"
>>>>>>> d7b861289df566c3a9f0ce3f1743fab0c3d707d2
   ]
  },
  {
   "cell_type": "code",
   "execution_count": null,
   "metadata": {},
   "outputs": [],
   "source": [
    "# Question 2\n",
    "# Please use more steps (lines of codes) if you need. This maybe a bit hard to manage with just one line\n",
    "\n",
<<<<<<< HEAD
    "expected_amount = 10000\n",
    "annual_interest = (((expected_amount / P) ** (1 / (t * n)) - 1) * n ) * 100\n",
    "print(f\"{annual_interest:.2f}%\")"
=======
    "A = 10000\n",
    "annual_interest = ______________\n",
    "print(annual_interest)"
>>>>>>> d7b861289df566c3a9f0ce3f1743fab0c3d707d2
   ]
  },
  {
   "cell_type": "markdown",
   "metadata": {
    "id": "1UrO7OZC5jkR"
   },
   "source": [
    "### Relational Operators\n",
    "- Operators can also be used to compare objects\n",
    "- Comparison is required for sorting, sorting helps searching, both of which are fundamental information processing tools\n",
    "- Takes in 2 operands, returns a boolean (True, False) which is later **used to control program flow**, or **filter rows** during analytics\n",
    "---\n",
    "- You cannot compare different types eg 2 > '3'\n",
    "- You can compare containers too instead of just primitives\n",
    "- For containers, equality checks are more common than size comparisons, for testing what you have actually created is what you expected\n",
    "\n",
    "---\n",
    "**Note**\n",
    "- = is assignment, == is equality, completely unrelated things"
   ]
  },
  {
   "cell_type": "markdown",
   "metadata": {
    "id": "jooPesaX5jkR"
   },
   "source": [
    "<img src=\"img/relational_operators.png\" style=\"margin: 20px; height: 330px\">"
   ]
  },
  {
   "cell_type": "code",
   "execution_count": null,
   "metadata": {
    "ExecuteTime": {
     "end_time": "2021-10-14T17:58:40.680827Z",
     "start_time": "2021-10-14T17:58:40.673138Z"
    },
    "id": "nuzqJ-j05jkR",
    "outputId": "965df84c-a545-457f-b360-091109c8db6e"
   },
   "outputs": [],
   "source": [
    "# try running the next few cells \n",
    "1 < 2"
   ]
  },
  {
   "cell_type": "code",
   "execution_count": null,
   "metadata": {},
   "outputs": [],
   "source": [
    "# why false?\n",
    "'a' > 'c'"
   ]
  },
  {
   "cell_type": "code",
   "execution_count": null,
   "metadata": {},
   "outputs": [],
   "source": [
    "2.0 == 2"
   ]
  },
  {
   "cell_type": "markdown",
   "metadata": {
    "id": "4Yg2psVx5jkS"
   },
   "source": [
    "### Logical Operators"
   ]
  },
  {
   "cell_type": "markdown",
   "metadata": {
    "id": "9rwhO1JL5jkS"
   },
   "source": [
    "**Boolean Evaluation Operators** \n",
    "\n",
    "- Each comparison operator creates a single Boolean, logical operators combined booleans to implement logical concepts\n",
    "\n",
    "---\n",
    "- These operators are used during data analysis in pandas later for selecting relevant rows that we want to study, based on a logical combination of multiple conditions\n",
    "- Eg. Age > 5 and gender = 'Male'"
   ]
  },
  {
   "cell_type": "markdown",
   "metadata": {
    "id": "Ct-ZF25y5jkS"
   },
   "source": [
    "<img src=\"img/logical_operators.png\" style=\"margin: 20px; height: 150px\">"
   ]
  },
  {
   "cell_type": "markdown",
   "metadata": {
    "id": "MjoJ4sD_5jkS"
   },
   "source": [
    "Python also has two binary logical operators and one unary logical operator shown below.\n",
    "- Binary means take in 2 operands (2 Booleans in this case)\n",
    "- Unary means take in 1 operand (Flipping the logical value of a single Boolean in this case)\n",
    " - True --> False, False --> True"
   ]
  },
  {
   "cell_type": "markdown",
   "metadata": {
    "id": "fQcdOiqK5jkS"
   },
   "source": [
    "<img src=\"img/logical_operators_1.png\" style=\"margin: 20px; height: 120px\">"
   ]
  },
  {
   "cell_type": "markdown",
   "metadata": {
    "id": "nOTJZaNE5jkS"
   },
   "source": [
    "### Exercise: Getting started with Relational operators\n",
    "- Guess the following output before running it, and explain why that is the output through the evaluation process from values to booleans to the combination of booleans.\n",
    "- How do you break down the 3rd line to check if you're correct? (very important skill, in future you will need to break down much more complex expressions)"
   ]
  },
  {
   "cell_type": "code",
   "execution_count": null,
   "metadata": {
    "ExecuteTime": {
     "end_time": "2021-10-14T17:58:40.697143Z",
     "start_time": "2021-10-14T17:58:40.693068Z"
    },
    "id": "LFM5pW7V5jkT",
    "outputId": "518c3b33-7ce0-465d-dddf-2ffbe4fc96d6"
   },
   "outputs": [],
   "source": [
    "a = 2\n",
    "b = 3\n",
    "\n",
<<<<<<< HEAD
    "# False and True\n",
    "print((a < 1) and (b > 2))\n",
    "print(False and True)"
=======
    "(a < 1) and (b > 2)"
>>>>>>> d7b861289df566c3a9f0ce3f1743fab0c3d707d2
   ]
  },
  {
   "cell_type": "markdown",
   "metadata": {
    "id": "iZjGdFmp5jkY"
   },
   "source": [
    "## CRUD Framework for learning data structures\n",
    "- C --> Create\n",
    "- R --> Read\n",
    "- U --> Update\n",
    "- D --> Delete\n",
    "---\n",
    "- Acronyms comes from actions you do with a datebase\n",
    "- Also relevant framework to help you check if you know how to work with container data structures\n",
    "\n",
    "--- \n",
    "**Why learning data structures is important**\n",
    "\n",
    "- Storing information in different containers allows different operations on them\n",
    "- Some problems can be solved using less time/memory with certain data structures\n",
    "- Data structures can help represent information and help the coder think about problem solving\n"
   ]
  },
  {
   "cell_type": "markdown",
   "metadata": {
    "id": "OM0_cYDB5jkY"
   },
   "source": [
    "## Lists\n",
    "\n",
    "- Lists are a means of storing ordered data.\n",
    "\n",
    "- Lists can be composed of ints, floats, strings, or other lists, as well as other data types we haven't covered yet.\n",
    "- They can start empty [], or be initialized with values [1,2]"
   ]
  },
  {
   "cell_type": "markdown",
   "metadata": {},
   "source": [
    "<img src=\"img/list.png\" style=\"height: 600px\">\n",
    "\n",
    "Source: https://www.programminghunk.com/2020/02/lists-in-python.html"
   ]
  },
  {
   "cell_type": "markdown",
   "metadata": {
    "id": "ZezvUkNk5jkY"
   },
   "source": [
    "### Create "
   ]
  },
  {
   "cell_type": "code",
   "execution_count": null,
   "metadata": {
    "ExecuteTime": {
     "end_time": "2021-10-14T17:58:40.779087Z",
     "start_time": "2021-10-14T17:58:40.779064Z"
    },
    "id": "s1pbRJ9S5jkY"
   },
   "outputs": [],
   "source": [
    "# creating a list with some values\n",
    "l = [20, 30, 40, 50]\n",
    "\n",
    "print(l)\n",
    "print(type(l))"
   ]
  },
  {
   "cell_type": "code",
   "execution_count": null,
   "metadata": {},
   "outputs": [],
   "source": [
    "# a list can store strings as well\n",
    "list_of_strings = ['a', 'b', 'c', 'd']\n",
    "\n",
    "print(list_of_strings)"
   ]
  },
  {
   "cell_type": "code",
   "execution_count": null,
   "metadata": {},
   "outputs": [],
   "source": [
    "# a list can store other lists\n",
    "details = [['a',20], \n",
    "           ['b',30], \n",
    "           ['c',40], \n",
    "           ['d', 50]]\n",
    "print(details)"
   ]
  },
  {
   "cell_type": "markdown",
   "metadata": {
    "id": "ywVQNR_D5jkY"
   },
   "source": [
    "### Read \n",
    "- You are looking at numbers as list contents now because they are simple examples for teaching, but they can really be any python object \n",
    "    - Queue of people\n",
    "    - list of to-do tasks\n",
    "    - list of books to read"
   ]
  },
  {
   "cell_type": "code",
   "execution_count": null,
   "metadata": {
    "ExecuteTime": {
     "end_time": "2021-10-14T17:58:40.785467Z",
     "start_time": "2021-10-14T17:58:40.785451Z"
    },
    "id": "ds-fm8Xm5jkZ"
   },
   "outputs": [],
   "source": [
    "# We can retrieve individual elements in \n",
    "# a list by calling it's index (start counting from 0)\n",
    "list_numbers = [10, 20, 30, 40]\n",
    "\n",
    "print(list_numbers[0])\n",
    "print(list_numbers[1])"
   ]
  },
  {
   "cell_type": "code",
   "execution_count": null,
   "metadata": {
    "ExecuteTime": {
     "end_time": "2021-10-14T17:58:40.786638Z",
     "start_time": "2021-10-14T17:58:40.786626Z"
    },
    "id": "zlPgXWvF5jkZ"
   },
   "outputs": [],
   "source": [
    "# negative indexing is possible\n",
    "# useful when you use a variable to get elements and that variable got updated from 0 to -1, effect is to wrap\n",
    "# Counting backwards!\n",
    "print(list_numbers[-1])  # last value\n",
    "print(list_numbers[-2])  # second last value"
   ]
  },
  {
   "cell_type": "code",
   "execution_count": null,
   "metadata": {},
   "outputs": [],
   "source": [
    "# What happens when we try this?\n",
    "print(list_numbers[4])"
   ]
  },
  {
   "cell_type": "markdown",
   "metadata": {},
   "source": [
    "#### Chained Indexing \n",
    "- To get information from nested container structures \n",
    "- Any container can nest any other container including itself "
   ]
  },
  {
   "cell_type": "code",
   "execution_count": null,
   "metadata": {
    "ExecuteTime": {
     "end_time": "2021-10-23T11:05:47.314634Z",
     "start_time": "2021-10-23T11:05:47.300718Z"
    }
   },
   "outputs": [],
   "source": [
    "details = [[\"Blossom\",20],\n",
    "           [\"Bubbles\",30],\n",
    "           [\"Buttercup\",40],\n",
    "           [\"Mojo\",50]]\n",
    "print(details)\n",
    "print(details[0])\n",
    "print(details[0][0]) # chained indexing, this concept can be applied to any nested container\n",
    "print(details[0][1])"
   ]
  },
  {
   "cell_type": "markdown",
   "metadata": {},
   "source": [
    "#### Membership testing \n",
    "- Common operation for any container, used to see if something is inside or not "
   ]
  },
  {
   "cell_type": "code",
   "execution_count": null,
   "metadata": {
    "ExecuteTime": {
     "end_time": "2021-10-14T17:58:40.787834Z",
     "start_time": "2021-10-14T17:58:40.787811Z"
    },
    "id": "2QhjuGLQ5jkZ"
   },
   "outputs": [],
   "source": [
    "# membership testing\n",
    "list_numbers = [10, 20, 30, 40]\n",
    "\n",
    "print(10 in list_numbers)\n",
    "print(5 in list_numbers)"
   ]
  },
  {
   "cell_type": "code",
   "execution_count": null,
   "metadata": {
    "id": "rPfBCWi1DYfB"
   },
   "outputs": [],
   "source": [
    "# We can also check membership of strings in a list\n",
    "stock_list = ['FB', 'AMZN', 'TSLA']\n",
    "\n",
    "# You do. Fill in the blank to check if 'AAPL' in stock_list \n",
    "'______' in stock_list"
   ]
  },
  {
   "cell_type": "markdown",
   "metadata": {
    "id": "Vf7Po_-25jkZ"
   },
   "source": [
    "#### Slicing - Reading multiple items at once\n",
    "- syntax is `list[start:end:step]`\n",
    "- each of start,end,step can be positive or negative numbers, not specifying them means they take on defaults \n",
    "    - start (default includes first element)\n",
    "    - end (default includes last element)\n",
    "    - default (jump by 1)\n",
    "    \n",
    "- start is inclusive, end is exclusive --> Allows clean break of list into lis[:2] and lis[2:] \n",
    "- **Common Mistake**: Don't name your variable as `list`. It will overwrite the built-in `list()` constructor --> Restart jupyter kernel (Esc+00) to fix\n",
    "\n",
    "---\n",
    "**Why this is important**\n",
    "- We normally do not work with individual values, but rather slices of data, by defining the properties of the slice before getting it\n",
    "- You will use this again and again in numpy and pandas later"
   ]
  },
  {
   "cell_type": "markdown",
   "metadata": {},
   "source": [
    "### A few more interesting behaviours"
   ]
  },
  {
   "cell_type": "code",
<<<<<<< HEAD
   "execution_count": 2,
=======
   "execution_count": null,
>>>>>>> d7b861289df566c3a9f0ce3f1743fab0c3d707d2
   "metadata": {},
   "outputs": [],
   "source": [
    "# creating a list again\n",
    "list_numbers = [10, 20, 30, 40, 50, 60, 70, 80]"
   ]
  },
  {
   "cell_type": "code",
<<<<<<< HEAD
   "execution_count": 3,
   "metadata": {},
   "outputs": [
    {
     "data": {
      "text/plain": [
       "[10, 20, 30, 40]"
      ]
     },
     "execution_count": 3,
     "metadata": {},
     "output_type": "execute_result"
    }
   ],
=======
   "execution_count": null,
   "metadata": {},
   "outputs": [],
>>>>>>> d7b861289df566c3a9f0ce3f1743fab0c3d707d2
   "source": [
    "# Slicing the data\n",
    "list_numbers[0:4] # from index 0 up to but not including index 4"
   ]
  },
  {
   "cell_type": "code",
<<<<<<< HEAD
   "execution_count": 4,
   "metadata": {},
   "outputs": [
    {
     "data": {
      "text/plain": [
       "[30, 40, 50]"
      ]
     },
     "execution_count": 4,
     "metadata": {},
     "output_type": "execute_result"
    }
   ],
=======
   "execution_count": null,
   "metadata": {},
   "outputs": [],
>>>>>>> d7b861289df566c3a9f0ce3f1743fab0c3d707d2
   "source": [
    "# Slicing the data\n",
    "list_numbers[2:5] # from index 2 up to but not including index 5"
   ]
  },
  {
   "cell_type": "code",
<<<<<<< HEAD
   "execution_count": 5,
   "metadata": {},
   "outputs": [
    {
     "data": {
      "text/plain": [
       "[10, 20, 30, 40, 50, 60, 70]"
      ]
     },
     "execution_count": 5,
     "metadata": {},
     "output_type": "execute_result"
    }
   ],
   "source": [
    "# -1 in the STEP will reverse the list\n",
    "list_numbers[:-1]"
   ]
  },
  {
   "cell_type": "markdown",
   "metadata": {
    "scrolled": true
   },
=======
   "execution_count": null,
   "metadata": {},
   "outputs": [],
   "source": [
    "# -1 in the STEP will reverse the list\n",
    "list_numbers[::-1]"
   ]
  },
  {
   "cell_type": "code",
   "execution_count": null,
   "metadata": {
    "scrolled": true
   },
   "outputs": [],
>>>>>>> d7b861289df566c3a9f0ce3f1743fab0c3d707d2
   "source": [
    "# 2 in the STEP will give you every 2nd value\n",
    "list_numbers[::2]"
   ]
  },
  {
   "cell_type": "code",
<<<<<<< HEAD
   "execution_count": 9,
   "metadata": {},
   "outputs": [
    {
     "data": {
      "text/plain": [
       "[20, 40, 60]"
      ]
     },
     "execution_count": 9,
     "metadata": {},
     "output_type": "execute_result"
    }
   ],
=======
   "execution_count": null,
   "metadata": {},
   "outputs": [],
>>>>>>> d7b861289df566c3a9f0ce3f1743fab0c3d707d2
   "source": [
    "# Study this code and the output. Why?\n",
    "list_numbers[1:6:2]"
   ]
  },
  {
   "cell_type": "code",
<<<<<<< HEAD
   "execution_count": 7,
   "metadata": {},
   "outputs": [
    {
     "data": {
      "text/plain": [
       "[40, 50, 60]"
      ]
     },
     "execution_count": 7,
     "metadata": {},
     "output_type": "execute_result"
    }
   ],
   "source": [
    "# You try! How do you print the values from index 3 to index 5\n",
    "# Expected output should be [40, 50, 60]\n",
    "list_numbers[3:6]"
=======
   "execution_count": null,
   "metadata": {},
   "outputs": [],
   "source": [
    "# You try! How do you print the values from index 3 to index 5\n",
    "# Expected output should be [40, 50, 60]\n",
    "list_numbers[__:__]"
>>>>>>> d7b861289df566c3a9f0ce3f1743fab0c3d707d2
   ]
  },
  {
   "cell_type": "markdown",
   "metadata": {
    "id": "0ui1LUTy5jka"
   },
   "source": [
    "### Update \n",
    "- .append()\n",
    "- .extend()\n",
    "- list_a + list_b\n",
    "\n",
    "---\n",
    "**Why do we use this**\n",
    "- We do not have all the data at a single point in time, so we append things that come later, or from a different data source, into a single list before processing them"
   ]
  },
  {
   "cell_type": "code",
<<<<<<< HEAD
   "execution_count": 10,
=======
   "execution_count": null,
>>>>>>> d7b861289df566c3a9f0ce3f1743fab0c3d707d2
   "metadata": {
    "ExecuteTime": {
     "end_time": "2021-10-14T17:58:40.792244Z",
     "start_time": "2021-10-14T17:58:40.792230Z"
    },
    "id": "sBw_7joF5jka"
   },
<<<<<<< HEAD
   "outputs": [
    {
     "name": "stdout",
     "output_type": "stream",
     "text": [
      "[10, 999, 30, 40, 50, 60, 70, 80]\n"
     ]
    }
   ],
=======
   "outputs": [],
>>>>>>> d7b861289df566c3a9f0ce3f1743fab0c3d707d2
   "source": [
    "# We can also replace elements in the same way\n",
    "# Usually, the index(s) will be programmatically calculated instead of hard-coded like this\n",
    "list_numbers[1] = 999\n",
    "print(list_numbers)"
   ]
  },
  {
   "cell_type": "markdown",
   "metadata": {
    "id": "a8dXAidK5jka"
   },
   "source": [
    "Lists also have several methods that allow us to alter them, such as the `.append()` method, which allows us to add another element to the end of a list.\n",
    "- For full list of what you can do with a list, do `dir(any_python_object)`"
   ]
  },
  {
   "cell_type": "code",
<<<<<<< HEAD
   "execution_count": 11,
=======
   "execution_count": null,
>>>>>>> d7b861289df566c3a9f0ce3f1743fab0c3d707d2
   "metadata": {
    "ExecuteTime": {
     "end_time": "2021-10-23T11:14:11.729312Z",
     "start_time": "2021-10-23T11:14:11.723882Z"
    }
   },
<<<<<<< HEAD
   "outputs": [
    {
     "name": "stdout",
     "output_type": "stream",
     "text": [
      "['Tom', 'James', 'Joe']\n"
     ]
    }
   ],
=======
   "outputs": [],
>>>>>>> d7b861289df566c3a9f0ce3f1743fab0c3d707d2
   "source": [
    "names = [\"Tom\", \"James\", \"Joe\"]\n",
    "print(names)"
   ]
  },
  {
   "cell_type": "code",
<<<<<<< HEAD
   "execution_count": 17,
=======
   "execution_count": null,
>>>>>>> d7b861289df566c3a9f0ce3f1743fab0c3d707d2
   "metadata": {
    "ExecuteTime": {
     "end_time": "2021-10-23T11:14:11.928572Z",
     "start_time": "2021-10-23T11:14:11.921417Z"
    },
    "id": "9T8tIeSR5jka"
   },
<<<<<<< HEAD
   "outputs": [
    {
     "name": "stdout",
     "output_type": "stream",
     "text": [
      "['Tom', 'James', 'Joe', 'john', 'Chris', 'extend1', 'extend2', 'Chris', 'Chris', 'Chris']\n"
     ]
    }
   ],
   "source": [
    "# append takes a value as input to add to the list (append one at a time)\n",
    "names.append(\"Chris\")\n",
=======
   "outputs": [],
   "source": [
    "# append takes a value as input to add to the list (append one at a time)\n",
    "names.______(\"Chris\")\n",
>>>>>>> d7b861289df566c3a9f0ce3f1743fab0c3d707d2
    "print(names)"
   ]
  },
  {
   "cell_type": "code",
<<<<<<< HEAD
   "execution_count": 13,
=======
   "execution_count": null,
>>>>>>> d7b861289df566c3a9f0ce3f1743fab0c3d707d2
   "metadata": {
    "ExecuteTime": {
     "end_time": "2021-10-23T11:14:12.495403Z",
     "start_time": "2021-10-23T11:14:12.484790Z"
    }
   },
<<<<<<< HEAD
   "outputs": [
    {
     "name": "stdout",
     "output_type": "stream",
     "text": [
      "['Tom', 'James', 'Joe', 'Chris', 'extend1', 'extend2']\n"
     ]
    }
   ],
   "source": [
    "# extend takes a LIST of values as input to add to the list (extend the list)\n",
    "names.extend(['extend1','extend2'])\n",
=======
   "outputs": [],
   "source": [
    "# extend takes a LIST of values as input to add to the list (extend the list)\n",
    "names.______(['extend1','extend2'])\n",
>>>>>>> d7b861289df566c3a9f0ce3f1743fab0c3d707d2
    "print(names)"
   ]
  },
  {
   "cell_type": "code",
<<<<<<< HEAD
   "execution_count": 14,
   "metadata": {
    "id": "WA6dI1P1EVgW"
   },
   "outputs": [
    {
     "name": "stdout",
     "output_type": "stream",
     "text": [
      "['Tom', 'James', 'Joe', 'john', 'Chris', 'extend1', 'extend2']\n"
     ]
    }
   ],
=======
   "execution_count": null,
   "metadata": {
    "id": "WA6dI1P1EVgW"
   },
   "outputs": [],
>>>>>>> d7b861289df566c3a9f0ce3f1743fab0c3d707d2
   "source": [
    "# insert a value at a particular index\n",
    "names.insert(3,'john') # insert john at index 3\n",
    "print(names)"
   ]
  },
  {
   "cell_type": "markdown",
   "metadata": {
    "id": "V4Jk2grD5jka"
   },
   "source": [
    "### Delete \n",
    "- .remove() --> delete something by name\n",
    "- .pop() --> delete something by position\n",
    "\n",
    "---\n",
    "**When is this used**\n",
    "- This is helpful when we want to remove people/tasks from a queue after they have been dealt with\n",
    "- Lists are usually intermediate structures acting as input for downstream tasks (eg. removing some column names from a list of columns to extract from a 2D table)"
   ]
  },
  {
   "cell_type": "code",
<<<<<<< HEAD
   "execution_count": 28,
=======
   "execution_count": null,
>>>>>>> d7b861289df566c3a9f0ce3f1743fab0c3d707d2
   "metadata": {
    "ExecuteTime": {
     "end_time": "2021-10-14T17:58:40.810751Z",
     "start_time": "2021-10-14T17:58:40.801463Z"
    },
    "id": "71kmgbgR5jka",
    "outputId": "7f4caad8-41b7-4c97-b4ff-49835a8dde05"
   },
<<<<<<< HEAD
   "outputs": [
    {
     "name": "stdout",
     "output_type": "stream",
     "text": [
      "None\n",
      "['Tom', 'James', 'Joe', 'Chris', 'Extended_2']\n"
     ]
    }
   ],
=======
   "outputs": [],
>>>>>>> d7b861289df566c3a9f0ce3f1743fab0c3d707d2
   "source": [
    "# create a fresh list again\n",
    "names = ['Tom', 'James', 'Joe', 'Chris', 'Extended_1', 'Extended_2']\n",
    "\n",
    "# remove the value 'Extended_1'\n",
<<<<<<< HEAD
    "removed_name = names.remove('Extended_1')\n",
    "print(removed_name)\n",
=======
    "names._____('Extended_1')\n",
>>>>>>> d7b861289df566c3a9f0ce3f1743fab0c3d707d2
    "print(names)"
   ]
  },
  {
   "cell_type": "code",
<<<<<<< HEAD
   "execution_count": 27,
   "metadata": {},
   "outputs": [
    {
     "name": "stdout",
     "output_type": "stream",
     "text": [
      "Chris\n",
      "['Tom', 'James', 'Extended_2']\n"
     ]
    }
   ],
=======
   "execution_count": null,
   "metadata": {},
   "outputs": [],
>>>>>>> d7b861289df566c3a9f0ce3f1743fab0c3d707d2
   "source": [
    "# We can also pop the values out\n",
    "# For example, we pop the value at index 2\n",
    "popped_item = names.pop(2)\n",
    "print(popped_item)\n",
    "print(names)"
   ]
  },
  {
   "cell_type": "markdown",
   "metadata": {
    "id": "RZsI9quc5jkb"
   },
   "source": [
    "## Dictionaries\n",
    "\n",
    "Dictionaries are a non-ordered Python data type. Instead of using an ordered index to access data stored in a dictionary, we use a system of key-value pairs.\n",
    "\n",
    "- A key is similar to a variable name. \n",
    "- A value is similar to the value assigned to the variable.\n",
    "\n",
    "- Keys cannot be mutable objects\n",
    "- Values can be any data structure"
   ]
  },
  {
   "cell_type": "markdown",
   "metadata": {
    "ExecuteTime": {
     "end_time": "2021-11-04T10:15:34.904925Z",
     "start_time": "2021-11-04T10:15:34.900698Z"
    }
   },
   "source": [
    "<img src=\"img/dict.jpg\" style=\"height: 200px\">\n",
    "\n",
    "Source: https://pythonwife.com/dictionaries-in-python/"
   ]
  },
  {
   "cell_type": "markdown",
   "metadata": {
    "id": "DnJPwbK35jkb"
   },
   "source": [
    "### Create "
   ]
  },
  {
   "cell_type": "code",
<<<<<<< HEAD
   "execution_count": 29,
=======
   "execution_count": null,
>>>>>>> d7b861289df566c3a9f0ce3f1743fab0c3d707d2
   "metadata": {
    "ExecuteTime": {
     "end_time": "2021-10-24T13:48:19.372114Z",
     "start_time": "2021-10-24T13:48:19.367757Z"
    },
    "id": "psDIRuHT5jkb",
    "outputId": "6c5e488b-94aa-4fe2-8f09-066ef9f3d725"
   },
<<<<<<< HEAD
   "outputs": [
    {
     "name": "stdout",
     "output_type": "stream",
     "text": [
      "<class 'dict'>\n",
      "{'name': 'Kim', 'age': 29, 'gender': 'F', 'product_holding': {'deposit_accounts': 2, 'credit_cards': 3}}\n"
     ]
    }
   ],
=======
   "outputs": [],
>>>>>>> d7b861289df566c3a9f0ce3f1743fab0c3d707d2
   "source": [
    "customer = {\"name\" : \"Kim\",\n",
    "           \"age\" : 29,\n",
    "           \"gender\" : \"F\",\n",
    "           \"product_holding\":{\"deposit_accounts\": 2,\n",
    "                              \"credit_cards\": 3}\n",
    "          }\n",
    "\n",
    "print(type(customer))\n",
    "print(customer)"
   ]
  },
  {
   "cell_type": "code",
<<<<<<< HEAD
   "execution_count": 30,
=======
   "execution_count": null,
>>>>>>> d7b861289df566c3a9f0ce3f1743fab0c3d707d2
   "metadata": {
    "ExecuteTime": {
     "end_time": "2021-10-23T10:53:40.994304Z",
     "start_time": "2021-10-23T10:53:40.987607Z"
    },
    "id": "QNRBVsoN5jkb"
   },
<<<<<<< HEAD
   "outputs": [
    {
     "name": "stdout",
     "output_type": "stream",
     "text": [
      "M\n"
     ]
    }
   ],
=======
   "outputs": [],
>>>>>>> d7b861289df566c3a9f0ce3f1743fab0c3d707d2
   "source": [
    "# You can't have more than one key of the same name. That's confusing\n",
    "customer = {\"gender\" : \"F\",\n",
    "           \"gender\" : \"M\" # always reads last inserted value \n",
    "          }\n",
    "print(customer[\"gender\"])"
   ]
  },
  {
   "cell_type": "markdown",
   "metadata": {
    "id": "geCRoVZz5jkb"
   },
   "source": [
    "### Read "
   ]
  },
  {
   "cell_type": "code",
<<<<<<< HEAD
   "execution_count": 32,
   "metadata": {},
   "outputs": [
    {
     "name": "stdout",
     "output_type": "stream",
     "text": [
      "<class 'dict'>\n",
      "{'name': 'Kim', 'age': 29, 'gender': 'F', 'product_holding': {'deposit_accounts': 2, 'credit_cards': 3}}\n"
     ]
    }
   ],
=======
   "execution_count": null,
   "metadata": {},
   "outputs": [],
>>>>>>> d7b861289df566c3a9f0ce3f1743fab0c3d707d2
   "source": [
    "customer = {\"name\" : \"Kim\",\n",
    "           \"age\" : 29,\n",
    "           \"gender\" : \"F\",\n",
    "           \"product_holding\":{\"deposit_accounts\": 2,\n",
    "                              \"credit_cards\": 3}\n",
    "          }\n",
    "\n",
    "print(type(customer))\n",
    "print(customer)"
   ]
  },
  {
   "cell_type": "code",
<<<<<<< HEAD
   "execution_count": 33,
=======
   "execution_count": null,
>>>>>>> d7b861289df566c3a9f0ce3f1743fab0c3d707d2
   "metadata": {
    "ExecuteTime": {
     "end_time": "2021-10-24T13:50:00.820497Z",
     "start_time": "2021-10-24T13:50:00.807697Z"
    },
    "id": "Ft0ya1px5jkb",
    "outputId": "286c73cc-c0f2-4ced-a513-f6f1e283e812"
   },
<<<<<<< HEAD
   "outputs": [
    {
     "name": "stdout",
     "output_type": "stream",
     "text": [
      "Customer name:  Kim\n",
      "Deposit Accounts:  2\n",
      "Credit Cards:  3\n"
     ]
    }
   ],
=======
   "outputs": [],
>>>>>>> d7b861289df566c3a9f0ce3f1743fab0c3d707d2
   "source": [
    "# Value for parameter2 in the params dictionary:\n",
    "print('Customer name: ',customer[\"name\"])\n",
    "print('Deposit Accounts: ',customer[\"product_holding\"][\"deposit_accounts\"])\n",
    "print('Credit Cards: ',customer[\"product_holding\"][\"credit_cards\"])"
   ]
  },
  {
   "cell_type": "markdown",
   "metadata": {
    "id": "1mq5xY5O5jkb"
   },
   "source": [
    "### Update "
   ]
  },
  {
   "cell_type": "code",
<<<<<<< HEAD
   "execution_count": 35,
=======
   "execution_count": null,
>>>>>>> d7b861289df566c3a9f0ce3f1743fab0c3d707d2
   "metadata": {
    "ExecuteTime": {
     "end_time": "2021-10-14T17:58:40.829642Z",
     "start_time": "2021-10-14T17:58:40.827105Z"
    },
    "id": "gWZv4bps5jkc"
   },
   "outputs": [],
   "source": [
    "# Adding a new dictionary entry:\n",
    "customer['occupation'] = \"analyst\""
   ]
  },
  {
   "cell_type": "code",
<<<<<<< HEAD
   "execution_count": 34,
=======
   "execution_count": null,
>>>>>>> d7b861289df566c3a9f0ce3f1743fab0c3d707d2
   "metadata": {
    "ExecuteTime": {
     "end_time": "2021-10-14T17:58:40.841301Z",
     "start_time": "2021-10-14T17:58:40.836598Z"
    },
    "id": "TNMsb7b85jkc",
    "outputId": "bd5bbae1-2910-4dcf-b115-4f3c10391399"
   },
<<<<<<< HEAD
   "outputs": [
    {
     "name": "stdout",
     "output_type": "stream",
     "text": [
      "{'name': 'Kim', 'age': 30, 'gender': 'F', 'product_holding': {'deposit_accounts': 2, 'credit_cards': 3}, 'occupation': 'director'}\n"
     ]
    }
   ],
=======
   "outputs": [],
>>>>>>> d7b861289df566c3a9f0ce3f1743fab0c3d707d2
   "source": [
    "# Reassigning the value of a key-value pair in the dictionary:\n",
    "customer['age'] = 30\n",
    "customer['occupation'] = 'director'\n",
    "print(customer)"
   ]
  },
  {
   "cell_type": "markdown",
   "metadata": {
    "id": "MDmAHdLB5jkc"
   },
   "source": [
    "### Delete "
   ]
  },
  {
   "cell_type": "code",
   "execution_count": null,
   "metadata": {},
   "outputs": [],
   "source": [
    "# We can also pop the value out using the key\n",
<<<<<<< HEAD
    "age = customer.pop('age')\n",
    "del customer['occupation']"
=======
    "customer.pop('age')"
>>>>>>> d7b861289df566c3a9f0ce3f1743fab0c3d707d2
   ]
  },
  {
   "cell_type": "code",
   "execution_count": null,
   "metadata": {},
   "outputs": [],
   "source": [
<<<<<<< HEAD
    "print(\"Age popped out: \", age)\n",
=======
>>>>>>> d7b861289df566c3a9f0ce3f1743fab0c3d707d2
    "print(customer)"
   ]
  },
  {
   "cell_type": "markdown",
   "metadata": {
    "collapsed": true,
    "id": "OvqTiVEs5jkd"
   },
   "source": [
    "<a name=\"conclusion\"></a>\n",
    "## Lesson Summary\n",
    "\n",
    "\n",
    "Let's review what we learned today. We:\n",
    "\n",
    "- Discussed the overview of Python and Its Syntax.\n",
    "- Define integers, floats strings, booleans, tuples, lists, sets and dictionaries.\n",
    "- Variables, Operators (arithmetic, relational, logical)\n",
    "- Comparison between uses of data structures"
   ]
  },
  {
   "cell_type": "markdown",
   "metadata": {
    "id": "ls2Q0UkK5jkd"
   },
   "source": [
    "# For your interest \n",
    "- Name Binding in python (how variables work)\n",
    "    - https://mathieularose.com/python-variables\n",
    "    - https://www.youtube.com/watch?v=0Om2gYU6clE&t=299s (advanced)\n",
    "\n",
    "- Mutability\n",
    "    - https://medium.datadriveninvestor.com/mutable-and-immutable-python-2093deeac8d9\n",
    "    \n",
    "- Packing and unpacking\n",
    "    - https://stackabuse.com/unpacking-in-python-beyond-parallel-assignment/\n",
    "    \n",
    "- Reflections from teaching a bootcamp\n",
    "    - https://community.dataquest.io/t/reflections-from-teaching-a-data-science-bootcamp/555220\n",
    "    \n",
    "- Cheatsheets\n",
    "    - https://www.linkedin.com/posts/ravitjain_python-cheat-sheet-activity-6810994775928434689-JfDK\n",
    "    - https://www.linkedin.com/feed/update/urn:li:activity:6861344240606289921/"
   ]
  }
 ],
 "metadata": {
  "anaconda-cloud": {},
  "colab": {
   "collapsed_sections": [
    "F-8pjAkW5jkE",
    "TuOkyuMJ5jkE",
    "FU_7Zb7F5jkG",
    "SzAd5ybh5jkH",
    "SLL2_iuw5jkH",
    "eyegBP8V5jkJ",
    "ySJJ1-De5jkK",
    "X_jDdbRr5jkL",
    "YHwSijcP5jkO",
    "japUXX_m5jkP",
    "IhyVkrQ_5jkQ",
    "nOTJZaNE5jkS",
    "XcsLOK8D5jkT",
    "WlrJVi075jkU",
    "TV14jufv5jkV",
    "m_ssAcst5jkV",
    "Mv_yKgbm5jkV",
    "HIJ_SLjH5jkV",
    "CA4e5KWo5jkX",
    "FvYxh5OB5jkX",
    "iZjGdFmp5jkY",
    "OM0_cYDB5jkY",
    "ZezvUkNk5jkY",
    "ywVQNR_D5jkY",
    "Vf7Po_-25jkZ",
    "0ui1LUTy5jka",
    "V4Jk2grD5jka",
    "RZsI9quc5jkb",
    "DnJPwbK35jkb",
    "geCRoVZz5jkb",
    "1mq5xY5O5jkb",
    "MDmAHdLB5jkc",
    "Nq6hYiRP5jkd",
    "OvqTiVEs5jkd"
   ],
   "name": "Introduction to Python.ipynb",
   "provenance": [],
   "toc_visible": true
  },
  "kernelspec": {
   "display_name": "Python 3",
   "language": "python",
   "name": "python3"
  },
  "language_info": {
   "codemirror_mode": {
    "name": "ipython",
    "version": 3
   },
   "file_extension": ".py",
   "mimetype": "text/x-python",
   "name": "python",
   "nbconvert_exporter": "python",
   "pygments_lexer": "ipython3",
   "version": "3.8.5"
  },
  "toc": {
   "base_numbering": 1,
   "nav_menu": {},
   "number_sections": true,
   "sideBar": true,
   "skip_h1_title": false,
   "title_cell": "Table of Contents",
   "title_sidebar": "Contents",
   "toc_cell": false,
   "toc_position": {
    "height": "calc(100% - 180px)",
    "left": "10px",
    "top": "150px",
    "width": "383.976px"
   },
   "toc_section_display": true,
   "toc_window_display": true
  },
  "varInspector": {
   "cols": {
    "lenName": 16,
    "lenType": 16,
    "lenVar": 40
   },
   "kernels_config": {
    "python": {
     "delete_cmd_postfix": "",
     "delete_cmd_prefix": "del ",
     "library": "var_list.py",
     "varRefreshCmd": "print(var_dic_list())"
    },
    "r": {
     "delete_cmd_postfix": ") ",
     "delete_cmd_prefix": "rm(",
     "library": "var_list.r",
     "varRefreshCmd": "cat(var_dic_list()) "
    }
   },
   "types_to_exclude": [
    "module",
    "function",
    "builtin_function_or_method",
    "instance",
    "_Feature"
   ],
   "window_display": false
  }
 },
 "nbformat": 4,
 "nbformat_minor": 1
}
