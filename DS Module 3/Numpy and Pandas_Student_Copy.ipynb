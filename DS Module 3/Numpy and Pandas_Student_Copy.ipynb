{
 "cells": [
  {
   "cell_type": "markdown",
   "metadata": {
    "id": "goAQpEmj1De1"
   },
   "source": [
    "<img src=\"./img/vi_logo.png\" style=\"float: left; margin: 10px; height: 45px\">\n",
    "\n",
    "# Vertical Institute Data Science 101\n",
    "# Lesson 3: Numpy and Pandas\n",
    "\n",
    "\n",
    "---"
   ]
  },
  {
   "cell_type": "markdown",
   "metadata": {
    "id": "RS9f4lCL1De7"
   },
   "source": [
    "\n",
    "### Learning Objectives\n",
    "\n",
    "#### Part 1: Numpy\n",
    "**After this lesson, you will be able to:**\n",
    "- Use Python data science libraries to perform common data analytics tasks easily\n",
    "- Use basic operation of ndarrays\n",
    "- Index and iterate through numpy arrays\n",
    "\n",
    "#### Part 2: Pandas\n",
    "**After this lesson, you will be able to:**\n",
    "- Understand series and dataframes\n",
    "- Use functions such as unique, value_counts and mathematical operations\n",
    "- Use basic operations of dataframes for data analysis\n",
    "- Join tables using pandas\n",
    "\n",
    "These are important packages in Python especially in the Financial services"
   ]
  },
  {
   "cell_type": "markdown",
   "metadata": {
    "id": "aMIUzR851DfD"
   },
   "source": [
    "## Importing packages\n",
    "\n",
    "By default, we can call in-built functions from Python's default library. Examples include `print` or `type`.\n",
    "\n",
    "As we want to start using other functions, we need to first import the appropriate libraries.\n",
    "\n",
    "By installing the Anaconda distribution, all the libraries we need are already installed on your computer. \n",
    "\n",
    "So to use them in our notebook, we only have to call the library out via `import <library>`"
   ]
  },
  {
   "cell_type": "markdown",
   "metadata": {
    "id": "qslzaPnp1DfA"
   },
   "source": [
    "Some of the core packages include:\n",
    "- ***NumPy*** : Base N-dimensional array package\n",
    "- ***Pandas*** : Data Analysis\n",
    "- ***Matplotlib*** : Comprehensive plotting\n",
    "- ***SciPy***: Used for scientific computing and technical computing"
   ]
  },
  {
   "cell_type": "code",
   "execution_count": null,
   "metadata": {
    "ExecuteTime": {
     "end_time": "2021-10-29T09:26:01.211257Z",
     "start_time": "2021-10-29T09:26:01.209163Z"
    },
    "id": "YhG0D7501DfG"
   },
   "outputs": [],
   "source": [
    "#import the package\n",
    "import numpy as np"
   ]
  },
  {
   "cell_type": "markdown",
   "metadata": {
    "id": "rSDzwigr1DfO"
   },
   "source": [
    "<a id='numpy'></a>\n",
    "\n",
    "## Part 1: NumPy"
   ]
  },
  {
   "cell_type": "markdown",
   "metadata": {
    "id": "M8vnCq621DfR"
   },
   "source": [
    "- ***NumPy*** is the basic package for scientific computing in Python\n",
    "- Pandas and Sklearn represent information using NumPy under the hood\n",
    "- NumPy library is based on a main object ***ndarray*** which stands for __N-dimensional array__\n"
   ]
  },
  {
   "cell_type": "markdown",
   "metadata": {
    "id": "P-N3uorB1DfU"
   },
   "source": [
    "### Ndarray \n",
    "    \n",
    "- Designed for fast vectorized numerical computations\n",
    "- The data type is specified by the dtype attribute\n",
    "- The ***array()*** function is used to define a new ***ndarray*** by passing in a Python list containing the elements to be included."
   ]
  },
  {
   "cell_type": "markdown",
   "metadata": {
    "id": "nX_2caeZ1DfW"
   },
   "source": [
    "## What is the difference between a list and an array?"
   ]
  },
  {
   "cell_type": "markdown",
   "metadata": {
    "id": "aDNz0S6r1DfX"
   },
   "source": [
    "Lists and Numpy arrays look very similar as containers of variables"
   ]
  },
  {
   "cell_type": "code",
   "execution_count": null,
   "metadata": {
    "ExecuteTime": {
     "end_time": "2021-10-29T09:26:09.959693Z",
     "start_time": "2021-10-29T09:26:09.956178Z"
    },
    "id": "Tn-LEl3u1DfZ",
    "outputId": "a3204b33-e9cb-4152-abc1-12137b96ffe0"
   },
   "outputs": [],
   "source": [
    "# To create a list, we use square brackets\n",
    "my_list=[10, 20, 30, 40]\n",
    "my_list"
   ]
  },
  {
   "cell_type": "code",
   "execution_count": null,
   "metadata": {
    "ExecuteTime": {
     "end_time": "2021-10-29T09:26:10.209191Z",
     "start_time": "2021-10-29T09:26:10.204118Z"
    },
    "id": "xobD8LEw1Dfb",
    "outputId": "9e37c030-9c4b-4184-b4ea-405a594f3938"
   },
   "outputs": [],
   "source": [
    "# To create an array, we use the `np.array()` function and pass in a list\n",
    "my_array = __._____(my_list)\n",
    "my_array"
   ]
  },
  {
   "cell_type": "code",
   "execution_count": null,
   "metadata": {
    "ExecuteTime": {
     "end_time": "2021-10-29T09:26:10.375765Z",
     "start_time": "2021-10-29T09:26:10.372219Z"
    },
    "id": "7UpAEcL-1Dfc",
    "outputId": "84c310d1-0643-4fa4-9d0c-d0524466e43a"
   },
   "outputs": [],
   "source": [
    "## Similarities\n",
    "print(my_list[0])\n",
    "print(my_array[0])"
   ]
  },
  {
   "cell_type": "markdown",
   "metadata": {
    "id": "Mb07GpmM1Dfe"
   },
   "source": [
    "### What are the differences?\n",
    "\n",
    "1. Numpy vs python list: https://webcourses.ucf.edu/courses/1249560/pages/python-lists-vs-numpy-arrays-what-is-the-difference\n",
    "2. How python variables work, their overhead contained: https://www.youtube.com/watch?v=0Om2gYU6clE&t=56s\n",
    "\n",
    "- We start to utilize numpy arrays instead of lists as we start working with larger datasets\n",
    "- `pandas` and `scikit-learn` uses numpy under the hood\n",
    "\n",
    "This efficiency comes with a strict rule. In a Numpy array, we can only put variables of the **same data type**.\n",
    "\n",
    "Whereas in a list, we can add variables of different data types."
   ]
  },
  {
   "cell_type": "code",
   "execution_count": null,
   "metadata": {
    "ExecuteTime": {
     "end_time": "2021-10-29T09:26:10.722894Z",
     "start_time": "2021-10-29T09:26:10.719882Z"
    },
    "id": "ovqMOXjT1Dff"
   },
   "outputs": [],
   "source": [
    "my_list=[10, 2.0, \"bank\"] # this works\n",
    "my_list"
   ]
  },
  {
   "cell_type": "code",
   "execution_count": null,
   "metadata": {
    "ExecuteTime": {
     "end_time": "2021-10-29T09:26:11.655928Z",
     "start_time": "2021-10-29T09:26:11.653362Z"
    },
    "id": "NANnd__c1Dfg"
   },
   "outputs": [],
   "source": [
    "my_array=np.array([10, 2.0, \"bank\"]) #this doesn't\n",
    "my_array"
   ]
  },
  {
   "cell_type": "markdown",
   "metadata": {
    "id": "29Hd59d71Dfi"
   },
   "source": [
    "### Properties of a ndarray"
   ]
  },
  {
   "cell_type": "markdown",
   "metadata": {},
   "source": [
    "#### 1-dimensional "
   ]
  },
  {
   "cell_type": "code",
   "execution_count": null,
   "metadata": {
    "ExecuteTime": {
     "end_time": "2021-10-29T09:26:12.748659Z",
     "start_time": "2021-10-29T09:26:12.746056Z"
    },
    "id": "HC5Bbj_Q1Dfi"
   },
   "outputs": [],
   "source": [
    "a = np.array([10, 20, 30, 40])"
   ]
  },
  {
   "cell_type": "code",
   "execution_count": null,
   "metadata": {
    "ExecuteTime": {
     "end_time": "2021-10-29T09:26:13.230693Z",
     "start_time": "2021-10-29T09:26:13.227263Z"
    },
    "id": "WN2sz0ef1Dfj",
    "outputId": "0be13d5e-8cb9-43b5-f7e2-4f7025461a0f"
   },
   "outputs": [],
   "source": [
    "# print the array\n",
    "print(_)"
   ]
  },
  {
   "cell_type": "code",
   "execution_count": null,
   "metadata": {
    "ExecuteTime": {
     "end_time": "2021-10-29T09:26:13.735397Z",
     "start_time": "2021-10-29T09:26:13.731645Z"
    },
    "id": "WpU5HcxG1Dfl",
    "outputId": "d29dbdc2-595c-45e6-b984-ea00aaf7d901"
   },
   "outputs": [],
   "source": [
    "# print the type\n",
    "print(____(a))"
   ]
  },
  {
   "cell_type": "code",
   "execution_count": null,
   "metadata": {},
   "outputs": [],
   "source": [
    "# let's print some numpy array attributes: values data type\n",
    "print(a.dtype)"
   ]
  },
  {
   "cell_type": "code",
   "execution_count": null,
   "metadata": {},
   "outputs": [],
   "source": [
    "# let's print some numpy array attributes: shape\n",
    "print(a.____)"
   ]
  },
  {
   "cell_type": "markdown",
   "metadata": {},
   "source": [
    "#### 2-dimensional "
   ]
  },
  {
   "cell_type": "code",
   "execution_count": null,
   "metadata": {
    "ExecuteTime": {
     "end_time": "2021-10-29T09:26:15.222320Z",
     "start_time": "2021-10-29T09:26:15.219657Z"
    },
    "id": "sP3cRUOh1Dfp"
   },
   "outputs": [],
   "source": [
    "b = np.array([[1.2, 3.4],\n",
    "              [0.1, 0.2]])"
   ]
  },
  {
   "cell_type": "code",
   "execution_count": null,
   "metadata": {
    "ExecuteTime": {
     "end_time": "2021-10-29T09:26:15.436682Z",
     "start_time": "2021-10-29T09:26:15.432497Z"
    },
    "id": "bpVxOS6B1Dfp",
    "outputId": "074ffbfd-dfee-4c7d-b7c0-555d1a4ad9ca"
   },
   "outputs": [],
   "source": [
    "print(b) # print array\n",
    "print(type(b)) # print variable type\n",
    "print(b.dtype) # print the values data types\n",
    "print(b.shape) # print the shape\n",
    "print(b.ndim) # print the number of dimensions"
   ]
  },
  {
   "cell_type": "markdown",
   "metadata": {
    "id": "MwwJkpUt1Dfp"
   },
   "source": [
    "<a id='ops_arr'></a>\n",
    "### Basic Operations of ndarray object\n",
    "- __Arithmetic operations__ can be performed with arithmetic operators between an array and a scalar or array\n",
    "- Operations between arrays are ***element-wise***, which means operators are applied only between corresponding elements that occupy the same position"
   ]
  },
  {
   "cell_type": "markdown",
   "metadata": {
    "id": "ZfbHo2ON1Dfq"
   },
   "source": [
    "<img src=\"img/arithmetic.png\" style=\"margin: 20px; height: 400px\">"
   ]
  },
  {
   "cell_type": "markdown",
   "metadata": {
    "id": "m-wS027l1Dfq"
   },
   "source": [
    "### Broadcasting and Vectorization\n",
    "\n",
    "- 2 Rules of broadcasting with examples: https://numpy.org/doc/stable/user/basics.broadcasting.html#general-broadcasting-rules\n",
    "- Lower dimensions can be broadcasted more than 1 dimension up\n",
    "    - A scalar 0D can be broadcast into 1D or 2D or any D depending on other operand\n",
    "    - a 1D can be broadcast into 2D, 3D and so on\n",
    "    \n",
    "- For data manipulation with pandas, you only need to know broadcasting of scalars to 1D, more complex broadcasting is for implementations of machine learning algorithms"
   ]
  },
  {
   "cell_type": "code",
   "execution_count": null,
   "metadata": {
    "ExecuteTime": {
     "end_time": "2021-10-29T09:26:16.347266Z",
     "start_time": "2021-10-29T09:26:16.344187Z"
    },
    "id": "fGfQxnxp1Dfr",
    "outputId": "fbaeee04-ae6c-4317-dc00-fc834f3a0ff3"
   },
   "outputs": [],
   "source": [
    "a = np.array([10, 20, 30, 40])\n",
    "print(a)"
   ]
  },
  {
   "cell_type": "code",
   "execution_count": null,
   "metadata": {
    "ExecuteTime": {
     "end_time": "2021-10-29T09:26:17.147970Z",
     "start_time": "2021-10-29T09:26:17.144977Z"
    },
    "id": "-3LbyINb1Dfs",
    "outputId": "4e01b375-5656-47e0-cedf-9885800f5de1"
   },
   "outputs": [],
   "source": [
    "# multiply each value in array a by 4\n",
    "print(______)"
   ]
  },
  {
   "cell_type": "code",
   "execution_count": null,
   "metadata": {
    "ExecuteTime": {
     "end_time": "2021-10-29T09:26:17.598185Z",
     "start_time": "2021-10-29T09:26:17.595339Z"
    },
    "id": "ZDtJUW411Dfv",
    "outputId": "592e98be-bea5-426f-e527-9e9da63e3992"
   },
   "outputs": [],
   "source": [
    "b = np.array([4, 5, 6, 7])\n",
    "print(b)"
   ]
  },
  {
   "cell_type": "code",
   "execution_count": null,
   "metadata": {
    "ExecuteTime": {
     "end_time": "2021-10-29T09:26:18.419139Z",
     "start_time": "2021-10-29T09:26:18.415778Z"
    },
    "id": "o5Mr6Htd1Dfv",
    "outputId": "fd1fbe5e-6ed8-497b-cf4d-2084ef3ade5c"
   },
   "outputs": [],
   "source": [
    "# add a and b together element-wise\n",
    "print(a + b)"
   ]
  },
  {
   "cell_type": "code",
   "execution_count": null,
   "metadata": {
    "ExecuteTime": {
     "end_time": "2021-10-29T09:26:18.613270Z",
     "start_time": "2021-10-29T09:26:18.610129Z"
    },
    "id": "q10cpeq41Dfw",
    "outputId": "44430bcf-2a17-4a9e-e4c4-f97b45d07deb"
   },
   "outputs": [],
   "source": [
    "# multiply a and b together element-wise\n",
    "print(_______)"
   ]
  },
  {
   "cell_type": "markdown",
   "metadata": {},
   "source": [
    "### Exercise\n",
    "- 1. Given arrays a and b, create c using arithmetic operators\n",
    "- 2. Do the same without using b this time, by making use of broadcasting"
   ]
  },
  {
   "cell_type": "code",
   "execution_count": null,
   "metadata": {
    "ExecuteTime": {
     "end_time": "2021-10-29T09:26:19.662458Z",
     "start_time": "2021-10-29T09:26:19.654771Z"
    }
   },
   "outputs": [],
   "source": [
    "a = np.array([2, 3, 4])\n",
    "b = np.array([1, 1, 1])\n",
    "c = np.array([0, 1, 2])\n",
    "print(a)\n",
    "print(b)\n",
    "print(c)"
   ]
  },
  {
   "cell_type": "markdown",
   "metadata": {},
   "source": [
    "#### Solution "
   ]
  },
  {
   "cell_type": "code",
   "execution_count": null,
   "metadata": {
    "ExecuteTime": {
     "end_time": "2021-10-29T09:26:20.953007Z",
     "start_time": "2021-10-29T09:26:20.948405Z"
    }
   },
   "outputs": [],
   "source": []
  },
  {
   "cell_type": "markdown",
   "metadata": {},
   "source": [
    "### Mind the axis! \n",
    "- applies to pandas later too\n",
    "    - except that pandas only uses axis 0 (default) or 1, no aggregations over both axis at once like numpy does"
   ]
  },
  {
   "cell_type": "code",
   "execution_count": null,
   "metadata": {
    "ExecuteTime": {
     "end_time": "2021-10-29T09:26:39.922670Z",
     "start_time": "2021-10-29T09:26:39.913716Z"
    }
   },
   "outputs": [],
   "source": [
    "axis_demo = np.array([[1, 2, 3],\n",
    "                      [4, 5, 6]])\n",
    "axis_demo"
   ]
  },
  {
   "cell_type": "code",
   "execution_count": null,
   "metadata": {},
   "outputs": [],
   "source": [
    "# consider all 6\n",
    "axis_demo._____() "
   ]
  },
  {
   "cell_type": "code",
   "execution_count": null,
   "metadata": {},
   "outputs": [],
   "source": [
    "# consider column by column\n",
    "axis_demo.sum(______) \n"
   ]
  },
  {
   "cell_type": "code",
   "execution_count": null,
   "metadata": {},
   "outputs": [],
   "source": [
    "# consider row by row\n",
    "axis_demo.sum(_______) "
   ]
  },
  {
   "cell_type": "markdown",
   "metadata": {
    "id": "p8fq8oZx1Dfz"
   },
   "source": [
    "### How do we know all the functions within new libraries?"
   ]
  },
  {
   "cell_type": "code",
   "execution_count": null,
   "metadata": {
    "ExecuteTime": {
     "end_time": "2021-08-01T04:26:09.242111Z",
     "start_time": "2021-08-01T04:26:09.239519Z"
    },
    "id": "XERsCGVc1Df0"
   },
   "outputs": [],
   "source": [
    "# Method 1: Tab completion\n",
    "\n",
    "# Tab on the keyboard \n",
    "\n",
    "# Method 2: Documentation\n",
    "# https://numpy.org/doc/1.18/"
   ]
  },
  {
   "cell_type": "markdown",
   "metadata": {
    "id": "jHAXkWG71Df1"
   },
   "source": [
    "<a id='index'></a>\n",
    "### Indexing and Iterating an array"
   ]
  },
  {
   "cell_type": "markdown",
   "metadata": {
    "id": "mMqd2WX61Df2"
   },
   "source": [
    "Similar to how we indexed Python strings, lists, etc, array indexing allows us to extract a value, select items and assign new values to the array"
   ]
  },
  {
   "cell_type": "markdown",
   "metadata": {
    "id": "5RX5HaFw1Df2"
   },
   "source": [
    "***Indexing***"
   ]
  },
  {
   "cell_type": "code",
   "execution_count": null,
   "metadata": {
    "ExecuteTime": {
     "end_time": "2021-08-01T04:26:11.457966Z",
     "start_time": "2021-08-01T04:26:11.451177Z"
    },
    "id": "l4utQwgl1Df2",
    "outputId": "4afc9f6b-63df-4ff9-eba6-17501c07814b"
   },
   "outputs": [],
   "source": [
    "# Indexing a monodimensional array\n",
    "a = np.array([10, 20, 30, 40])\n",
    "print(a)"
   ]
  },
  {
   "cell_type": "code",
   "execution_count": null,
   "metadata": {
    "ExecuteTime": {
     "end_time": "2021-08-01T04:26:11.895259Z",
     "start_time": "2021-08-01T04:26:11.890625Z"
    },
    "id": "oRb8Lp2p1Df2",
    "outputId": "5165457b-fee7-4137-efca-6f97f4d5d6e8"
   },
   "outputs": [],
   "source": [
    "# Get the 3rd value of the array\n"
   ]
  },
  {
   "cell_type": "code",
   "execution_count": null,
   "metadata": {
    "ExecuteTime": {
     "end_time": "2021-10-24T14:14:03.079756Z",
     "start_time": "2021-10-24T14:14:03.074614Z"
    },
    "id": "l5fC3ASS1Df3",
    "outputId": "4006e49d-44df-49c6-d525-e721775d0d81"
   },
   "outputs": [],
   "source": [
    "A = np.array([[10, 20, 30], \n",
    "              [40, 50, 60], \n",
    "              [70, 80, 90]])\n",
    "print(A)"
   ]
  },
  {
   "cell_type": "markdown",
   "metadata": {
    "id": "Bs7-HYsD1Df3"
   },
   "source": [
    "<img src=\"img/ndarray_index.png\" style=\"margin: 20px; height: 400px\">"
   ]
  },
  {
   "cell_type": "markdown",
   "metadata": {},
   "source": [
    "#### Getting 1 value\n",
    "\n",
    "- Syntax is `A[row_index, col_index]`"
   ]
  },
  {
   "cell_type": "code",
   "execution_count": null,
   "metadata": {
    "ExecuteTime": {
     "end_time": "2021-10-24T14:14:08.211982Z",
     "start_time": "2021-10-24T14:14:08.205407Z"
    },
    "id": "lzF-4GCI1Df4",
    "outputId": "272959b3-9a0f-4bc1-fd17-57003887f065"
   },
   "outputs": [],
   "source": [
    "# get first row first column's value - row index 0, col index 0\n",
    "print(A[0, 0])\n"
   ]
  },
  {
   "cell_type": "code",
   "execution_count": null,
   "metadata": {},
   "outputs": [],
   "source": [
    "# get second row second column's value - row index 1, col index 1\n",
    "print(A[1, 1])\n"
   ]
  },
  {
   "cell_type": "code",
   "execution_count": null,
   "metadata": {},
   "outputs": [],
   "source": [
    "# You try\n",
    "# get third row third column's value - row index 2, col index 2\n",
    "print(A[_, _])"
   ]
  },
  {
   "cell_type": "markdown",
   "metadata": {},
   "source": [
    "#### Getting list of values \n",
    "- syntax is `arr[row_index]`"
   ]
  },
  {
   "cell_type": "code",
   "execution_count": null,
   "metadata": {
    "ExecuteTime": {
     "end_time": "2021-10-24T14:14:26.625720Z",
     "start_time": "2021-10-24T14:14:26.612549Z"
    }
   },
   "outputs": [],
   "source": [
    "# getting the first row - row index 0\n",
    "\n",
    "print(A[0])\n",
    "print(A[0, :]) # same output. The colon : means all columns if it is AFTER the comma"
   ]
  },
  {
   "cell_type": "code",
   "execution_count": null,
   "metadata": {
    "ExecuteTime": {
     "end_time": "2021-10-24T14:24:15.512426Z",
     "start_time": "2021-10-24T14:24:15.504591Z"
    }
   },
   "outputs": [],
   "source": [
    "# getting the first column - column index 0\n",
    "\n",
    "print(A[:, 0])  # The colon : means all columns if it is BEFORE the comma"
   ]
  },
  {
   "cell_type": "code",
   "execution_count": null,
   "metadata": {},
   "outputs": [],
   "source": [
    "# now you try getting the entire third column - column index ?what?\n",
    "# fill in the blanks\n",
    "\n",
    "print(A[_____])"
   ]
  },
  {
   "cell_type": "markdown",
   "metadata": {
    "heading_collapsed": true
   },
   "source": [
    "### Slicing works on numpy arrays too \n",
    "- Syntax is `arr[row_slice, col_slice]` or `arr[start:stop:step, start:stop:step]`\n",
    "- Remember slice syntax is `start:stop:step`"
   ]
  },
  {
   "cell_type": "code",
   "execution_count": null,
   "metadata": {
    "ExecuteTime": {
     "end_time": "2021-10-24T14:19:59.845747Z",
     "start_time": "2021-10-24T14:19:59.831005Z"
    },
    "hidden": true
   },
   "outputs": [],
   "source": [
    "# recreating the same 2-d array\n",
    "A = np.array([10, 20, 30, 40, 50, 60, 70, 80, 90]).reshape(3,3)\n",
    "print(A)"
   ]
  },
  {
   "cell_type": "code",
   "execution_count": null,
   "metadata": {},
   "outputs": [],
   "source": [
    "# select row index 0 and 1, each row is a 1d array\n",
    "print(A[:2])"
   ]
  },
  {
   "cell_type": "code",
   "execution_count": null,
   "metadata": {},
   "outputs": [],
   "source": [
    "# or \n",
    "print(A[0:2]) # both are the same. we can leave out the START if we are ok to start from the beginning."
   ]
  },
  {
   "cell_type": "code",
   "execution_count": null,
   "metadata": {},
   "outputs": [],
   "source": [
    "# how about this?\n",
    "print(A[::2]) # start from the first row, step 2 (skip) "
   ]
  },
  {
   "cell_type": "code",
   "execution_count": null,
   "metadata": {},
   "outputs": [],
   "source": [
    "# another example using the step option\n",
    "B = np.array([10, 20, 30, 40, 50, 60, 70, 80, 90])\n",
    "print(B[::2])"
   ]
  },
  {
   "cell_type": "code",
   "execution_count": null,
   "metadata": {},
   "outputs": [],
   "source": [
    "# how about this?\n",
    "print(B[::3])"
   ]
  },
  {
   "cell_type": "markdown",
   "metadata": {},
   "source": [
    "### Exercise \n",
    "- Slice the given array A on both it's rows and columns to extract \n",
    "```\n",
    "[[40, 50],   \n",
    " [70, 80]] \n",
    "```"
   ]
  },
  {
   "cell_type": "code",
   "execution_count": null,
   "metadata": {
    "ExecuteTime": {
     "end_time": "2021-10-24T14:07:51.440966Z",
     "start_time": "2021-10-24T14:07:51.435871Z"
    }
   },
   "outputs": [],
   "source": [
    "# creating the array again\n",
    "A = np.array([10, 20, 30, 40, 50, 60, 70, 80, 90]).reshape(3,3)\n",
    "print(A)"
   ]
  },
  {
   "cell_type": "code",
   "execution_count": null,
   "metadata": {},
   "outputs": [],
   "source": [
    "# write the slicing logic to get the result in the question\n",
    "A[___, ____]"
   ]
  },
  {
   "cell_type": "markdown",
   "metadata": {
    "id": "UNaTY4-j1Df7"
   },
   "source": [
    "## Part 2: Pandas"
   ]
  },
  {
   "cell_type": "markdown",
   "metadata": {
    "id": "C8OvjUzu1Df8"
   },
   "source": [
    "### Overview of Pandas\n",
    "\n",
    "- Pandas is a Python library for performing data analysis, built upon the NumPy library\n",
    "- Better than NumPy because pandas allows different data types, and can label-indexing on top of position index\n",
    "- Main objects\n",
    "    - Series (1 column)\n",
    "    - DataFrame (horizontally stacked collection of Series)\n",
    "    \n",
    "- Allows vectorized operations and broacasting beneath the hood\n",
    "- Flexible in manipulating and generating new columns/rows, renaming indexes pivoting from rows to cols and vice versa\n",
    "- Index Alignment feature (depends on having row/col labels) saves manual row/col alignment as required in numpy"
   ]
  },
  {
   "cell_type": "markdown",
   "metadata": {
    "id": "AsZaa_sY1Df8"
   },
   "source": [
    "**Pandas data structures**\n",
    "- **Series** (data, index, name)\n",
    "- **DataFrame** (many Series horizontally joined together, each name of Series becoming column name)"
   ]
  },
  {
   "cell_type": "code",
   "execution_count": null,
   "metadata": {},
   "outputs": [],
   "source": [
    "# to ensure that all of us have the same pandas version, run the following.\n",
    "# this code will install a specific pandas version. You don't have to run this ever again to use pandas.\n",
    "!pip install pandas==1.3.5"
   ]
  },
  {
   "cell_type": "markdown",
   "metadata": {
    "id": "SaNpd-mq1Df9"
   },
   "source": [
    "<a id='series'></a>\n",
    "## Series\n",
    "A Series is a one-dimensional object similar to an array, list or column of a table."
   ]
  },
  {
   "cell_type": "code",
   "execution_count": null,
   "metadata": {
    "ExecuteTime": {
     "end_time": "2021-10-26T03:26:32.259919Z",
     "start_time": "2021-10-26T03:26:31.809005Z"
    },
    "id": "mFmRRI-B1Df9"
   },
   "outputs": [],
   "source": [
    "import pandas as pd"
   ]
  },
  {
   "cell_type": "code",
   "execution_count": null,
   "metadata": {
    "ExecuteTime": {
     "end_time": "2021-10-25T12:46:53.470573Z",
     "start_time": "2021-10-25T12:46:53.465569Z"
    },
    "id": "hPYSAE7x1Df9"
   },
   "outputs": [],
   "source": [
    "# Series\n",
    "deposits = pd.Series([4502, 234, 9582, 7], name='Balances')\n",
    "deposits"
   ]
  },
  {
   "cell_type": "markdown",
   "metadata": {
    "id": "-ch4LFtg1Df-"
   },
   "source": [
    "### Getting details about the series "
   ]
  },
  {
   "cell_type": "code",
   "execution_count": null,
   "metadata": {
    "ExecuteTime": {
     "end_time": "2021-10-25T12:46:53.809865Z",
     "start_time": "2021-10-25T12:46:53.805714Z"
    },
    "id": "SYNkLXXb1Df-",
    "outputId": "0e5b027f-3408-4e0d-a14f-2f86c0343251"
   },
   "outputs": [],
   "source": [
    "# print out some attributes of the pandas series\n",
    "print(deposits.values) # numpy array under the hood\n",
    "print(deposits.index) \n",
    "print(deposits.name)"
   ]
  },
  {
   "cell_type": "code",
   "execution_count": null,
   "metadata": {
    "ExecuteTime": {
     "end_time": "2021-10-25T12:46:53.967814Z",
     "start_time": "2021-10-25T12:46:53.962630Z"
    },
    "id": "3YNpKef21Df-",
    "outputId": "251febda-7021-41df-dbce-f0e7705e38e6"
   },
   "outputs": [],
   "source": [
    "# If we want, we can relabel the index\n",
    "customer_names = [\"Arya\",\"Sansa\",\"Robb\",\"Bran\"]\n",
    "deposits.______ = customer_names\n",
    "deposits"
   ]
  },
  {
   "cell_type": "markdown",
   "metadata": {
    "id": "gs_rNJaN1Df_"
   },
   "source": [
    "### Reading data from the grades\n",
    "- **Position** (**end-exclusive**) or **Label** (**end-inclusive**)\n",
    "    - **single** `deposits[1]`, `deposits['Arya']`\n",
    "    - **slice**  `deposits[1:3]`, `deposits['Arya':'Robb']`\n",
    "        - for consecutive ranges\n",
    "        - you don't know exactly which rows but know endpoints\n",
    "    - **list** `deposits[1,3,2]`,`deposits[['Sansa','Bran','Robb']]`\n",
    "        - for non-consecutive\n",
    "        - you know exactly what you want\n",
    "        - you want to select in random order\n",
    "- labels are more intuitive and common way to select, who can remember position!?"
   ]
  },
  {
   "cell_type": "code",
   "execution_count": null,
   "metadata": {
    "ExecuteTime": {
     "end_time": "2021-10-25T12:47:04.116655Z",
     "start_time": "2021-10-25T12:47:04.110376Z"
    }
   },
   "outputs": [],
   "source": [
    "deposits"
   ]
  },
  {
   "cell_type": "markdown",
   "metadata": {},
   "source": [
    "#### Select by single position "
   ]
  },
  {
   "cell_type": "code",
   "execution_count": null,
   "metadata": {
    "ExecuteTime": {
     "end_time": "2021-10-25T12:47:24.957055Z",
     "start_time": "2021-10-25T12:47:24.951244Z"
    },
    "id": "8E1eZcxG1Df_",
    "outputId": "eaa9c2a1-5278-4e58-82d8-3e0be797c955"
   },
   "outputs": [],
   "source": [
    "deposits[2]"
   ]
  },
  {
   "cell_type": "markdown",
   "metadata": {},
   "source": [
    "#### Select by single label"
   ]
  },
  {
   "cell_type": "code",
   "execution_count": null,
   "metadata": {
    "ExecuteTime": {
     "end_time": "2021-10-25T12:47:05.779368Z",
     "start_time": "2021-10-25T12:47:05.775369Z"
    },
    "id": "xNnTF3551Df_",
    "outputId": "ffae2340-39a8-4309-ba65-545d39d2ec5e"
   },
   "outputs": [],
   "source": [
    "deposits[\"Sansa\"]"
   ]
  },
  {
   "cell_type": "markdown",
   "metadata": {},
   "source": [
    "#### Select by slice of positions "
   ]
  },
  {
   "cell_type": "code",
   "execution_count": null,
   "metadata": {
    "ExecuteTime": {
     "end_time": "2021-10-24T14:48:20.410858Z",
     "start_time": "2021-10-24T14:48:20.406117Z"
    },
    "id": "-0rjtRP91DgA",
    "outputId": "2513c3e9-2ee6-42a2-e0ec-db25e17e2678"
   },
   "outputs": [],
   "source": [
    "# We can select a range of elements (end index is exclusive)\n",
    "deposits[0:2]"
   ]
  },
  {
   "cell_type": "markdown",
   "metadata": {},
   "source": [
    "#### Select by slice of labels "
   ]
  },
  {
   "cell_type": "code",
   "execution_count": null,
   "metadata": {
    "ExecuteTime": {
     "end_time": "2021-10-24T14:48:56.751549Z",
     "start_time": "2021-10-24T14:48:56.746941Z"
    },
    "id": "4iosj83y1DgA",
    "outputId": "85e441ec-1ced-409c-d8c2-05a07c649b89"
   },
   "outputs": [],
   "source": [
    "# We can select a range of index names (end index is inclusive)\n",
    "deposits['____':'_____']"
   ]
  },
  {
   "cell_type": "markdown",
   "metadata": {},
   "source": [
    "#### Select by list of positions "
   ]
  },
  {
   "cell_type": "code",
   "execution_count": null,
   "metadata": {
    "ExecuteTime": {
     "end_time": "2021-10-25T12:49:38.478743Z",
     "start_time": "2021-10-25T12:49:38.471555Z"
    }
   },
   "outputs": [],
   "source": [
    "deposits[[0,2]]"
   ]
  },
  {
   "cell_type": "markdown",
   "metadata": {},
   "source": [
    "#### Select by list of labels "
   ]
  },
  {
   "cell_type": "code",
   "execution_count": null,
   "metadata": {
    "ExecuteTime": {
     "end_time": "2021-10-25T12:49:18.317041Z",
     "start_time": "2021-10-25T12:49:18.308473Z"
    },
    "id": "ovHYCJF41DgA",
    "outputId": "5b08ed15-fa70-4c2d-cced-e907a05766bc"
   },
   "outputs": [],
   "source": [
    "# use a list to select specific labels\n",
    "customers_to_check = [\"Robb\",\"Bran\"] \n",
    "deposits[customers_to_check]  # no need [[]] since using list variable already"
   ]
  },
  {
   "cell_type": "markdown",
   "metadata": {
    "id": "rjdvvlK31DgA"
   },
   "source": [
    "### Assigning new values \n",
    "- Appearing on right side of assignment operator means selection\n",
    "    - `third_customer_balance = deposits[2]`\n",
    "- Appearing on left side of assignment operator means update/insert \n",
    "    - `deposits[2] = 0`"
   ]
  },
  {
   "cell_type": "markdown",
   "metadata": {
    "id": "aMpyyg4M1DgA"
   },
   "source": [
    "#### Individual values "
   ]
  },
  {
   "cell_type": "code",
   "execution_count": null,
   "metadata": {
    "ExecuteTime": {
     "end_time": "2021-10-24T14:48:58.530440Z",
     "start_time": "2021-10-24T14:48:58.526555Z"
    },
    "id": "ZroxfoY71DgB"
   },
   "outputs": [],
   "source": [
    "# assigning new values to an element\n",
    "# try to assign 0 to Arya label\n",
    "deposits['____'] = __\n",
    "deposits"
   ]
  },
  {
   "cell_type": "markdown",
   "metadata": {
    "id": "9-DOofBh1DgC"
   },
   "source": [
    "#### Range of values "
   ]
  },
  {
   "cell_type": "code",
   "execution_count": null,
   "metadata": {
    "ExecuteTime": {
     "end_time": "2021-10-24T14:49:01.476780Z",
     "start_time": "2021-10-24T14:49:01.468372Z"
    },
    "id": "cwq0NuS91DgC",
    "outputId": "3bc121b2-41b5-4d0e-fe3c-903c2d8cea95"
   },
   "outputs": [],
   "source": [
    "deposits['Arya':'Robb'] = 0 # side note: you can pick specific people by doing this too - deposits[['Sansa','Robb']]\n",
    "\n",
    "deposits"
   ]
  },
  {
   "cell_type": "code",
   "execution_count": null,
   "metadata": {
    "ExecuteTime": {
     "end_time": "2021-10-24T14:49:02.339187Z",
     "start_time": "2021-10-24T14:49:02.331903Z"
    }
   },
   "outputs": [],
   "source": [
    "# creating a new index\n",
    "deposits['NewCustomer'] = 100\n",
    "deposits"
   ]
  },
  {
   "cell_type": "markdown",
   "metadata": {
    "id": "rvpdkNwv1DgD"
   },
   "source": [
    "### Boolean indexing\n",
    "- Most common way to select/update\n",
    "- Used when slice endpoints are unknown, and what's read/updated depends on contained values"
   ]
  },
  {
   "cell_type": "code",
   "execution_count": null,
   "metadata": {
    "ExecuteTime": {
     "end_time": "2021-10-24T15:17:44.548197Z",
     "start_time": "2021-10-24T15:17:44.529437Z"
    },
    "id": "YY-ozju01DgD",
    "outputId": "b7e13f49-ec97-4fc7-c227-62826586229f"
   },
   "outputs": [],
   "source": [
    "deposits = pd.Series([4502, 234, 9582, 7], name='Balances')\n",
    "\n",
    "print(deposits > 2500) # you can create a boolean series for filtering easily"
   ]
  },
  {
   "cell_type": "code",
   "execution_count": null,
   "metadata": {},
   "outputs": [],
   "source": [
    "# try this\n",
    "\n",
    "mask = deposits > 2500\n",
    "print(deposits[mask])"
   ]
  },
  {
   "cell_type": "markdown",
   "metadata": {},
   "source": [
    "### Exercise \n",
    "\n",
    "- Use boolean indexing to filter bank products that have exactly 7 letters\n",
    "- Hint use `series.str.len()`: https://pandas.pydata.org/docs/reference/api/pandas.Series.str.len.html \n"
   ]
  },
  {
   "cell_type": "code",
   "execution_count": null,
   "metadata": {},
   "outputs": [],
   "source": [
    "# you are given a panda series with 5 values\n",
    "bank_products = pd.Series(['deposit', 'lending', 'creditcard', 'installment', 'advance'],name='Bank Products')\n",
    "bank_products"
   ]
  },
  {
   "cell_type": "code",
   "execution_count": null,
   "metadata": {},
   "outputs": [],
   "source": [
    "# clue 1: try to run the code below\n",
    "bank_products.str.len()\n",
    "\n",
    "# how can you use this result to complete the exercise?"
   ]
  },
  {
   "cell_type": "code",
   "execution_count": null,
   "metadata": {},
   "outputs": [],
   "source": [
    "# write your code below\n",
    "\n"
   ]
  },
  {
   "cell_type": "markdown",
   "metadata": {},
   "source": [
    "### Multiple Conditions using logical and, or, not\n",
    "- and is now `cond1 & cond2`\n",
    "- or is now `cond1 | cond2`\n",
    "- not is now `~cond`"
   ]
  },
  {
   "cell_type": "code",
   "execution_count": null,
   "metadata": {
    "ExecuteTime": {
     "end_time": "2021-10-24T15:19:40.630896Z",
     "start_time": "2021-10-24T15:19:40.623763Z"
    }
   },
   "outputs": [],
   "source": [
    "deposits = pd.Series([4502, 2655, 9582, 7], name='Balances')\n",
    "deposits"
   ]
  },
  {
   "cell_type": "code",
   "execution_count": null,
   "metadata": {
    "ExecuteTime": {
     "end_time": "2021-10-24T15:21:48.064330Z",
     "start_time": "2021-10-24T15:21:48.052068Z"
    }
   },
   "outputs": [],
   "source": [
    "above_2500 = deposits > 2500\n",
    "below_3000 = deposits < 3000\n",
    "\n",
    "# Code below\n",
    "# Can you filter deposits rows that is between 2500 and 3000?\n",
    "inside_range = ______ & _______\n",
    "print(inside_range)\n",
    "print(deposits[inside_range])"
   ]
  },
  {
   "cell_type": "code",
   "execution_count": null,
   "metadata": {
    "ExecuteTime": {
     "end_time": "2021-10-24T15:23:48.613343Z",
     "start_time": "2021-10-24T15:23:48.600801Z"
    }
   },
   "outputs": [],
   "source": [
    "outside_range = above_2500 | below_3000\n",
    "print(outside_range)\n",
    "\n",
    "deposits[outside_range]\n",
    "print(deposits[outside_range])"
   ]
  },
  {
   "cell_type": "markdown",
   "metadata": {},
   "source": [
    "### Exercise \n",
    "- Select rows with values 2,3,4,5 from the series to practice boolean indexing\n",
    "- Stretch: Once you can do it with boolean indexing, get creative and practice label/positional indexing too to solve the above"
   ]
  },
  {
   "cell_type": "code",
   "execution_count": null,
   "metadata": {
    "ExecuteTime": {
     "end_time": "2021-10-24T15:56:11.985217Z",
     "start_time": "2021-10-24T15:56:11.976708Z"
    }
   },
   "outputs": [],
   "source": [
    "s = pd.Series(index=['a','b','c','d','e','f','g','h'],\n",
    "              data=[1,2,3,4,5,6,7,8])\n",
    "print(s)\n",
    "# your code below"
   ]
  },
  {
   "cell_type": "code",
   "execution_count": null,
   "metadata": {},
   "outputs": [],
   "source": [
    "# Answer\n"
   ]
  },
  {
   "cell_type": "code",
   "execution_count": null,
   "metadata": {},
   "outputs": [],
   "source": [
    "# Stretch\n"
   ]
  },
  {
   "cell_type": "markdown",
   "metadata": {
    "id": "C84qBZHh1DgE"
   },
   "source": [
    "### Basic Operations\n",
    "***Mathematical operations and functions***\n",
    "- Broadcasting from numpy happening here (**We have seen this before in numpy!**)"
   ]
  },
  {
   "cell_type": "code",
   "execution_count": null,
   "metadata": {},
   "outputs": [],
   "source": [
    "deposits"
   ]
  },
  {
   "cell_type": "code",
   "execution_count": null,
   "metadata": {
    "ExecuteTime": {
     "end_time": "2021-10-24T16:03:37.898529Z",
     "start_time": "2021-10-24T16:03:37.891307Z"
    },
    "id": "7TXovc7d1DgF",
    "outputId": "3db33d98-ecbb-4ba1-8626-595253eb61bb"
   },
   "outputs": [],
   "source": [
    "# we can use various operations on series, \n",
    "# used to generate new columns of information during feature engineering in machine learning\n",
    "print(deposits / 100)  # pandas uses numpy, numpy using broadcasting here 100 becomes 100,100,100,100\n",
    "print(deposits * 2)\n"
   ]
  },
  {
   "cell_type": "code",
   "execution_count": null,
   "metadata": {
    "ExecuteTime": {
     "end_time": "2021-10-25T16:30:08.225204Z",
     "start_time": "2021-10-25T16:30:08.212252Z"
    },
    "id": "wjNpP7xU1DgF",
    "outputId": "4aa5f218-8a24-4361-d308-9359193ba201"
   },
   "outputs": [],
   "source": [
    "# getting some statistics, for more of what you can do, dot-tab, or dir(), \n",
    "# or look at left side panel of https://pandas.pydata.org/docs/reference/api/pandas.Series.html\n",
    "\n",
    "print(deposits.mean()) # average\n",
    "print(deposits.std())  # standard deviation\n",
    "print(deposits.var())"
   ]
  },
  {
   "cell_type": "markdown",
   "metadata": {
    "id": "FrzsUnxS1DgH"
   },
   "source": [
    "### Common analytics tools\n",
    "- unique()\n",
    "- value_counts() --> same as unique but also shows number of each unique\n",
    "    - Usually chained with sort_index/values"
   ]
  },
  {
   "cell_type": "code",
   "execution_count": null,
   "metadata": {
    "ExecuteTime": {
     "end_time": "2021-10-25T16:35:59.098849Z",
     "start_time": "2021-10-25T16:35:59.094687Z"
    },
    "id": "mJfHKfow1DgI"
   },
   "outputs": [],
   "source": [
    "s = pd.Series([10, 20, 30, 0, 10, 20, 0],\n",
    "              index=['a','b','c','d','e','f','g']) "
   ]
  },
  {
   "cell_type": "code",
   "execution_count": null,
   "metadata": {
    "ExecuteTime": {
     "end_time": "2021-10-25T16:35:59.263208Z",
     "start_time": "2021-10-25T16:35:59.259692Z"
    },
    "id": "yzPZmSek1DgI",
    "outputId": "12968436-4bc4-45dc-8a13-e008f0879f7a"
   },
   "outputs": [],
   "source": [
    "print(s)"
   ]
  },
  {
   "cell_type": "code",
   "execution_count": null,
   "metadata": {
    "ExecuteTime": {
     "end_time": "2021-10-25T16:35:59.434701Z",
     "start_time": "2021-10-25T16:35:59.429759Z"
    },
    "id": "eiOBaXA91DgI",
    "outputId": "ac8f32b2-695c-475e-ec53-44fedfbdeeee"
   },
   "outputs": [],
   "source": [
    "# Return all unique values as numpy array, note the change in type, meaning you can no longer chain series methods, but only numpy array methods\n"
   ]
  },
  {
   "cell_type": "code",
   "execution_count": null,
   "metadata": {
    "ExecuteTime": {
     "end_time": "2021-10-25T16:36:51.704678Z",
     "start_time": "2021-10-25T16:36:51.690909Z"
    },
    "id": "y5_3LVlH1DgJ",
    "outputId": "cadfc54e-a1df-4ec0-f458-becac8d6e917"
   },
   "outputs": [],
   "source": [
    "# Count the frequence for each unique value --> Used to plot histograms \n",
    "print(s.value_counts())  # default sorts values descending\n",
    "print(s.value_counts().sort_index())\n",
    "print(s.value_counts().sort_values())"
   ]
  },
  {
   "cell_type": "markdown",
   "metadata": {
    "id": "oxK19Ufc1DgJ"
   },
   "source": [
    "<a id='dataframe'></a>\n",
    "## DataFrame\n",
    "\n",
    "- Tabular data structure very similar to spreadsheet or relational database table\n",
    "- Series in multiple dimensions\n",
    "- Essentially an ordered collection of columns, each of which can contain values of different types"
   ]
  },
  {
   "cell_type": "code",
   "execution_count": null,
   "metadata": {
    "ExecuteTime": {
     "end_time": "2021-10-25T17:02:42.098413Z",
     "start_time": "2021-10-25T17:02:42.088688Z"
    },
    "id": "kbpaqeNW1DgJ",
    "outputId": "541d43c1-b524-42f7-9180-752c21bebbdc"
   },
   "outputs": [],
   "source": [
    "# common way to manually create a pandas dataframe\n",
    "# is through a dictionary with key as column name, value as nested list of values\n",
    "# the list of values can be any 1D sequence (eg. ndarray, pd.Series, tuple,) usually created programmatically\n",
    "\n",
    "data = {\"cust_id\": [1,2,3,4,5,6],\n",
    "       \"cust_name\": [\"Carl\", \"Aladdin\", \"Simba\", \"Rapunzel\", \"Cinderella\", \"Coco\"],\n",
    "       \"savings\": [25.99,31.99,20.99,25.99,20.99,26.99]}\n",
    "\n",
    "df = pd.DataFrame(data)\n",
    "df"
   ]
  },
  {
   "cell_type": "code",
   "execution_count": null,
   "metadata": {
    "ExecuteTime": {
     "end_time": "2021-10-25T14:33:33.360326Z",
     "start_time": "2021-10-25T14:33:33.355578Z"
    },
    "id": "gPVC58441DgM",
    "outputId": "9264be37-494e-472d-84b8-7845d314afb4"
   },
   "outputs": [],
   "source": [
    "#data structure\n",
    "print(type(df))"
   ]
  },
  {
   "cell_type": "code",
   "execution_count": null,
   "metadata": {
    "ExecuteTime": {
     "end_time": "2021-10-25T14:33:55.823324Z",
     "start_time": "2021-10-25T14:33:55.805060Z"
    },
    "id": "a2gjIF7M1DgN",
    "outputId": "6e0e3854-4bf4-495e-e15f-4040014a62b1"
   },
   "outputs": [],
   "source": [
    "# look at the first 5 items of your dataframe, put a number in head(n)/tail(n) to see top/last n rows\n"
   ]
  },
  {
   "cell_type": "code",
   "execution_count": null,
   "metadata": {},
   "outputs": [],
   "source": [
    "# last 5 items of df\n"
   ]
  },
  {
   "cell_type": "markdown",
   "metadata": {},
   "source": [
    "### Selecting column(s) "
   ]
  },
  {
   "cell_type": "code",
   "execution_count": null,
   "metadata": {
    "ExecuteTime": {
     "end_time": "2021-10-25T14:33:56.245923Z",
     "start_time": "2021-10-25T14:33:56.230633Z"
    },
    "id": "2DAxt_Lf1DgO",
    "outputId": "74339d75-ab8e-40d7-96ae-08a473e9295f"
   },
   "outputs": [],
   "source": [
    "# Retrieve the column 'cust_name'\n",
    "df['cust_name']\n",
    "\n",
    "\n",
    "# OR df.cust_name also works (dot notation)"
   ]
  },
  {
   "cell_type": "code",
   "execution_count": null,
   "metadata": {
    "ExecuteTime": {
     "end_time": "2021-08-01T04:30:50.313756Z",
     "start_time": "2021-08-01T04:30:50.295526Z"
    },
    "id": "4V0SEy341DgP",
    "outputId": "9a255df6-729b-4c14-b111-f9364200a1ce"
   },
   "outputs": [],
   "source": [
    "# Retrieve the column 'cust_name' and 'savings', note the list used again, but now along columns (2nd dimension)\n",
    "df[['cust_name','savings']]   "
   ]
  },
  {
   "cell_type": "markdown",
   "metadata": {},
   "source": [
    "#### Boolean Indexing "
   ]
  },
  {
   "cell_type": "code",
   "execution_count": null,
   "metadata": {
    "ExecuteTime": {
     "end_time": "2021-08-01T04:30:50.510923Z",
     "start_time": "2021-08-01T04:30:50.502779Z"
    },
    "id": "_dZnDixX1DgP",
    "outputId": "c51b76d6-b389-4d01-f8c0-13df1425df66"
   },
   "outputs": [],
   "source": [
    "# Evaluate if savings is > $23\n",
    "df['savings'] ______"
   ]
  },
  {
   "cell_type": "code",
   "execution_count": null,
   "metadata": {},
   "outputs": [],
   "source": [
    "# If customer name length is less than 6 characters\n",
    "df['cust_name'].str.len() < 6"
   ]
  },
  {
   "cell_type": "code",
   "execution_count": null,
   "metadata": {},
   "outputs": [],
   "source": [
    "# use variables for better code\n",
    "saving_over_23 = df['savings']>23\n",
    "short_cust_name = df['cust_name'].str.len() < 6\n",
    "\n",
    "# Enter the boolean series in the blank\n",
    "df[_________ & _________]  # different from series, now each condition can be generated from different columns\n"
   ]
  },
  {
   "cell_type": "markdown",
   "metadata": {},
   "source": [
    "### Exercise  \n",
    "- Find customers where the name is one of `['Simba','Coco']` (Stretch: use `series.isin(['Simba','Coco']`) and savings is less than 30"
   ]
  },
  {
   "cell_type": "code",
   "execution_count": null,
   "metadata": {
    "ExecuteTime": {
     "end_time": "2021-10-26T03:26:36.270167Z",
     "start_time": "2021-10-26T03:26:36.250611Z"
    }
   },
   "outputs": [],
   "source": [
    "data = {\"cust_id\": [1,2,3,4,5,6],\n",
    "       \"cust_name\": [\"Carl\", \"Aladdin\", \"Simba\", \"Rapunzel\", \"Cinderella\", \"Coco\"],\n",
    "       \"savings\": [25.99,31.99,20.99,25.99,20.99,26.99]}\n",
    "\n",
    "df = pd.DataFrame(data)\n",
    "df"
   ]
  },
  {
   "cell_type": "code",
   "execution_count": null,
   "metadata": {
    "ExecuteTime": {
     "end_time": "2021-10-25T17:07:12.214431Z",
     "start_time": "2021-10-25T17:07:12.211479Z"
    }
   },
   "outputs": [],
   "source": [
    "# your code \n"
   ]
  },
  {
   "cell_type": "markdown",
   "metadata": {},
   "source": [
    "### Some attributes of a DataFrame"
   ]
  },
  {
   "cell_type": "code",
   "execution_count": null,
   "metadata": {
    "ExecuteTime": {
     "end_time": "2021-08-01T04:31:04.619131Z",
     "start_time": "2021-08-01T04:31:04.610879Z"
    },
    "id": "NywhcGgO1DgS",
    "outputId": "e713fa70-224f-4fca-87fa-c1b6f4d06220"
   },
   "outputs": [],
   "source": [
    "# VERY USEFUL!\n",
    "df.info() # more information than df.dtypes, used to find number of missing values under \"Non-Null Count\""
   ]
  },
  {
   "cell_type": "code",
   "execution_count": null,
   "metadata": {},
   "outputs": [],
   "source": [
    "# check number of rows and columns\n",
    "df.shape # used for checking you got the correct number of rows, columns after some filtering/generation operation"
   ]
  },
  {
   "cell_type": "markdown",
   "metadata": {
    "id": "R5RupZpt1DgS"
   },
   "source": [
    "### Indexing \n",
    "\n",
    "- use the __iloc__ (**end-exclusive**) attribute with the required positional index \n",
    "- use the __loc__ (**end-inclusive**) attribute with the requied label index"
   ]
  },
  {
   "cell_type": "code",
   "execution_count": null,
   "metadata": {
    "ExecuteTime": {
     "end_time": "2021-10-25T17:18:01.505003Z",
     "start_time": "2021-10-25T17:18:01.492877Z"
    },
    "id": "wn33FKVN1DgS",
    "outputId": "3d2aa0d5-a163-4591-a238-0d2306271f00"
   },
   "outputs": [],
   "source": [
    "data = {\"cust_id\": [1,2,3,4,5,6],\n",
    "       \"cust_name\": [\"Carl\", \"Aladdin\", \"Simba\", \"Rapunzel\", \"Cinderella\", \"Coco\"],\n",
    "       \"savings\": [25.99,31.99,20.99,25.99,20.99,26.99]}\n",
    "\n",
    "df = pd.DataFrame(data)\n",
    "df = df.set_index('cust_name') # moving a column into index to demonstrate position vs label indexing\n",
    "\n",
    "df"
   ]
  },
  {
   "cell_type": "code",
   "execution_count": null,
   "metadata": {
    "ExecuteTime": {
     "end_time": "2021-10-25T17:18:01.902422Z",
     "start_time": "2021-10-25T17:18:01.886774Z"
    },
    "cell_style": "split",
    "id": "2-EsSrKh1DgT",
    "outputId": "17046a63-2fc0-43c5-9e8e-b411264ebf9b",
    "scrolled": false
   },
   "outputs": [],
   "source": [
    "# using iloc - index locate\n",
    "# print the example and study the output\n",
    "print(df.iloc[2])  # a row series instead of a column, the 3rd row because python is 0-indexed"
   ]
  },
  {
   "cell_type": "code",
   "execution_count": null,
   "metadata": {},
   "outputs": [],
   "source": [
    "# using iloc - index locate\n",
    "# print the example and study the output\n",
    "print(df.iloc[2:5]) # slice, iloc is end-exclusive so only get rows 2,3,4 excluding 5"
   ]
  },
  {
   "cell_type": "code",
   "execution_count": null,
   "metadata": {},
   "outputs": [],
   "source": [
    "# using iloc - index locate\n",
    "# print the example and study the output\n",
    "print(df.iloc[[2,3,4]]) # specifying the parts of the slice 1 by 1, used for debugging usually"
   ]
  },
  {
   "cell_type": "code",
   "execution_count": null,
   "metadata": {
    "ExecuteTime": {
     "end_time": "2021-10-25T17:18:02.338651Z",
     "start_time": "2021-10-25T17:18:02.316550Z"
    },
    "cell_style": "split",
    "id": "DHVII11F1DgT",
    "outputId": "6253d48c-42f5-4981-ec05-3bf25125c09f"
   },
   "outputs": [],
   "source": [
    "# using loc - label locate\n",
    "# print the example and study the output\n",
    "print(df.loc['Simba'])# label based"
   ]
  },
  {
   "cell_type": "code",
   "execution_count": null,
   "metadata": {},
   "outputs": [],
   "source": [
    "# using loc - label locate\n",
    "# print the example and study the output\n",
    "print(df.loc['Simba':'Cinderella']) # slice based"
   ]
  },
  {
   "cell_type": "code",
   "execution_count": null,
   "metadata": {},
   "outputs": [],
   "source": [
    "# using loc - label locate\n",
    "# print the example and study the output\n",
    "row_labels = ['Simba','Rapunzel','Cinderella']\n",
    "df.loc[row_labels]"
   ]
  },
  {
   "cell_type": "code",
   "execution_count": null,
   "metadata": {},
   "outputs": [],
   "source": [
    "# You try! How to get a result with only Carl and Coco? \n",
    "# You can do it with iloc or loc\n"
   ]
  },
  {
   "cell_type": "markdown",
   "metadata": {
    "id": "MrCwU7K41DgT"
   },
   "source": [
    "### Updating"
   ]
  },
  {
   "cell_type": "markdown",
   "metadata": {},
   "source": [
    "#### Changing rows for a particular column\n",
    "\n",
    "- df.loc[row_indexer, column_indexer]\n",
    "- while working on multiple columns is possible, we usually work on 1 column at a time as physically each column means something different and should be handled differently"
   ]
  },
  {
   "cell_type": "code",
   "execution_count": null,
   "metadata": {
    "ExecuteTime": {
     "end_time": "2021-10-25T17:18:03.484048Z",
     "start_time": "2021-10-25T17:18:03.462820Z"
    },
    "id": "QxFJdeso1DgU",
    "outputId": "0d14cfc7-3905-4b81-bf1c-bc2a55013f32"
   },
   "outputs": [],
   "source": [
    "df"
   ]
  },
  {
   "cell_type": "code",
   "execution_count": null,
   "metadata": {},
   "outputs": [],
   "source": [
    "df.loc['Carl',\"savings\"] = 0\n",
    "df"
   ]
  },
  {
   "cell_type": "markdown",
   "metadata": {},
   "source": [
    "#### Changing columns \n",
    "- Feature engineering in machine learning requires generating new columns and updating existing ones"
   ]
  },
  {
   "cell_type": "markdown",
   "metadata": {},
   "source": [
    "##### Update existing column "
   ]
  },
  {
   "cell_type": "code",
   "execution_count": null,
   "metadata": {
    "ExecuteTime": {
     "end_time": "2021-10-25T17:18:06.224995Z",
     "start_time": "2021-10-25T17:18:06.215045Z"
    }
   },
   "outputs": [],
   "source": []
  },
  {
   "cell_type": "code",
   "execution_count": null,
   "metadata": {
    "ExecuteTime": {
     "end_time": "2021-10-25T17:18:07.924051Z",
     "start_time": "2021-10-25T17:18:07.911727Z"
    }
   },
   "outputs": [],
   "source": [
    "# you can generate 1 col from more than 1 col\n"
   ]
  },
  {
   "cell_type": "code",
   "execution_count": null,
   "metadata": {
    "ExecuteTime": {
     "end_time": "2021-10-25T17:18:13.211011Z",
     "start_time": "2021-10-25T17:18:13.194785Z"
    }
   },
   "outputs": [],
   "source": [
    "# you can assign multiple columns as long as num of cols on both sides of = match\n"
   ]
  },
  {
   "cell_type": "markdown",
   "metadata": {},
   "source": [
    "### Exercise\n",
    "- Update the savings column with less than 25 dollars to 25 dollars \n",
    "- Remember syntax is `df.loc[boolean_series_created_from_comparison, column_name_string]`"
   ]
  },
  {
   "cell_type": "code",
   "execution_count": null,
   "metadata": {
    "ExecuteTime": {
     "end_time": "2021-10-25T17:20:39.392858Z",
     "start_time": "2021-10-25T17:20:39.380749Z"
    }
   },
   "outputs": [],
   "source": [
    "data = {\"cust_id\": [1,2,3,4,5,6],\n",
    "       \"cust_name\": [\"Carl\", \"Aladdin\", \"Simba\", \"Rapunzel\", \"Cinderella\", \"Coco\"],\n",
    "       \"savings\": [25.99,31.99,20.99,25.99,20.99,26.99]}\n",
    "\n",
    "df = pd.DataFrame(data)\n",
    "df = df.set_index('cust_name') # moving a column into index to demonstrate position vs label indexing\n",
    "\n",
    "df"
   ]
  },
  {
   "cell_type": "code",
   "execution_count": null,
   "metadata": {},
   "outputs": [],
   "source": [
    "# Your code below: Fill in the blanks\n",
    "# Clue: If you need to more than one value at once, you need to FILTER for those relevant rows\n",
    "df.loc[______, ______] = ____"
   ]
  },
  {
   "cell_type": "markdown",
   "metadata": {},
   "source": [
    "### Axis = 0 or 1? "
   ]
  },
  {
   "cell_type": "markdown",
   "metadata": {
    "id": "hsN1-JU-1DgU"
   },
   "source": [
    "***Statistic functions can be applied on the DataFrame***\n",
    "- List of dataframe methods: https://pandas.pydata.org/docs/reference/api/pandas.DataFrame.html"
   ]
  },
  {
   "cell_type": "code",
   "execution_count": null,
   "metadata": {
    "ExecuteTime": {
     "end_time": "2021-10-08T16:12:24.005570Z",
     "start_time": "2021-10-08T16:12:23.996821Z"
    },
    "id": "wz6BRYYc1DgV",
    "outputId": "db809710-a0b8-4a69-ac79-736895fbaac1"
   },
   "outputs": [],
   "source": [
    "# recreate the dataframe\n",
    "data = {\"cust_id\": [1,2,3,4,5,6],\n",
    "       \"savings\": [25.99,31.99,20.99,25.99,20.99,26.99]}\n",
    "\n",
    "df = pd.DataFrame(data)\n",
    "df"
   ]
  },
  {
   "cell_type": "code",
   "execution_count": null,
   "metadata": {},
   "outputs": [],
   "source": [
    "# study this outputs. why do you get this result?\n",
    "print(df.sum()) # default is axis=0, down the columns, each result is the sum down 1 column"
   ]
  },
  {
   "cell_type": "code",
   "execution_count": null,
   "metadata": {},
   "outputs": [],
   "source": [
    "# study this output\n",
    "print(df.sum(axis = 1))   # more rarely we can to sum across rows. "
   ]
  },
  {
   "cell_type": "code",
   "execution_count": null,
   "metadata": {
    "ExecuteTime": {
     "end_time": "2021-10-08T16:12:38.593487Z",
     "start_time": "2021-10-08T16:12:38.580110Z"
    },
    "id": "ZEfBk5RQ1DgW",
    "outputId": "de7771b0-fd31-40cc-d322-3974da3d0490"
   },
   "outputs": [],
   "source": [
    "# more functions\n",
    "print(df.____())\n",
    "print(df.____())"
   ]
  },
  {
   "cell_type": "code",
   "execution_count": null,
   "metadata": {
    "ExecuteTime": {
     "end_time": "2021-10-09T12:39:06.391417Z",
     "start_time": "2021-10-09T12:39:06.372522Z"
    },
    "id": "WQ4NpNqR1DgW",
    "outputId": "a1ee178e-2dd7-47fa-ccad-f604c6d999ec"
   },
   "outputs": [],
   "source": [
    "# VERY USEFUL!!\n"
   ]
  },
  {
   "cell_type": "markdown",
   "metadata": {},
   "source": [
    "### Importing Data into DataFrame\n",
    "- More examples of what formats pandas can read from/write to, Excel is common use-case: https://pandas.pydata.org/pandas-docs/stable/user_guide/io.html"
   ]
  },
  {
   "cell_type": "markdown",
   "metadata": {
    "id": "GCS_2jw41DgX"
   },
   "source": [
    "- we can read data file in various format into a DataFrame object\n",
    "- CSV files can be read with ***read_csv()*** function"
   ]
  },
  {
   "cell_type": "code",
   "execution_count": null,
   "metadata": {
    "ExecuteTime": {
     "end_time": "2021-10-25T18:12:34.252658Z",
     "start_time": "2021-10-25T18:12:34.241219Z"
    },
    "id": "1-yDr8ew1DgX"
   },
   "outputs": [],
   "source": [
    "#import movie metadata\n",
    "movies = pd.read_csv(\"assets/movies.csv\")"
   ]
  },
  {
   "cell_type": "code",
   "execution_count": null,
   "metadata": {},
   "outputs": [],
   "source": [
    "movies.info()"
   ]
  },
  {
   "cell_type": "code",
   "execution_count": null,
   "metadata": {
    "ExecuteTime": {
     "end_time": "2021-10-25T18:12:34.410354Z",
     "start_time": "2021-10-25T18:12:34.403498Z"
    },
    "id": "QJqHPVaI1DgX",
    "outputId": "57a3a81b-a221-45c4-d243-b4eca68030cf"
   },
   "outputs": [],
   "source": [
    "#check our dataset\n"
   ]
  },
  {
   "cell_type": "markdown",
   "metadata": {
    "collapsed": true,
    "id": "K9b5VpuF1Dgb"
   },
   "source": [
    "## Joins in Pandas\n",
    "\n",
    "How to join 2 DataFrames to get the data we need to solve our questions."
   ]
  },
  {
   "cell_type": "markdown",
   "metadata": {
    "id": "pzYq38dx1Dgb"
   },
   "source": [
    "We have the movies DataFrame which contains movie title"
   ]
  },
  {
   "cell_type": "markdown",
   "metadata": {
    "id": "F4RKnbyo1Dgd"
   },
   "source": [
    "And, we have the ratings DataFrame which contain each movie's rating"
   ]
  },
  {
   "cell_type": "code",
   "execution_count": null,
   "metadata": {
    "ExecuteTime": {
     "end_time": "2021-10-25T18:12:31.945523Z",
     "start_time": "2021-10-25T18:12:31.931907Z"
    },
    "id": "hWCFkoU21Dgd",
    "outputId": "c550bae8-b20a-45ac-b513-fd442146c4aa"
   },
   "outputs": [],
   "source": [
    "ratings = pd.read_csv(\"assets/ratings.csv\")"
   ]
  },
  {
   "cell_type": "code",
   "execution_count": null,
   "metadata": {},
   "outputs": [],
   "source": [
    "ratings.info()"
   ]
  },
  {
   "cell_type": "code",
   "execution_count": null,
   "metadata": {},
   "outputs": [],
   "source": [
    "# check your second dataset\n"
   ]
  },
  {
   "cell_type": "markdown",
   "metadata": {
    "id": "QphwvPse1Dgd"
   },
   "source": [
    "## How do we get a combined table that has movieId, movie title and movie rating?\n",
    "\n",
    "### Join using pd.merge"
   ]
  },
  {
   "cell_type": "markdown",
   "metadata": {
    "id": "WhhKzp9_1Dgd"
   },
   "source": [
    "### Merge\n",
    "\n",
    "- The merge function of pandas is equivalent to database-style joins\n",
    "- There are 4 common joins\n",
    "\n",
    "<img src=\"img/sql-joins.png\" style=\"margin: 20px; height: 350px\">\n",
    "<img src=\"img/join.png\" style=\"height: 500px\">"
   ]
  },
  {
   "cell_type": "code",
   "execution_count": null,
   "metadata": {
    "ExecuteTime": {
     "end_time": "2021-10-24T16:21:00.214717Z",
     "start_time": "2021-10-24T16:21:00.196040Z"
    },
    "id": "2i_SrL6J1Dge"
   },
   "outputs": [],
   "source": [
    "# https://pandas.pydata.org/pandas-docs/stable/reference/api/pandas.DataFrame.merge.html\n",
    "movies.merge(ratings, how='inner')"
   ]
  },
  {
   "cell_type": "code",
   "execution_count": null,
   "metadata": {},
   "outputs": [],
   "source": [
    "# how many rows do you see? why? \n",
    "# which values are NaN? Why?\n",
    "movies.merge(ratings, how='left')"
   ]
  },
  {
   "cell_type": "code",
   "execution_count": null,
   "metadata": {},
   "outputs": [],
   "source": [
    "# how many rows do you see? why? \n",
    "# which values are NaN? Why?\n",
    "movies.merge(ratings, how='right')"
   ]
  },
  {
   "cell_type": "code",
   "execution_count": null,
   "metadata": {},
   "outputs": [],
   "source": [
    "# how many rows do you see? why? \n",
    "# which values are NaN? Why?\n",
    "movies.merge(ratings, how='outer')"
   ]
  },
  {
   "cell_type": "markdown",
   "metadata": {},
   "source": [
    "### Mismatching column names \n",
    "- requires specifying `left_on`, `right_on`\n",
    "- Defines the 1(or more) set of columns from each side whose values are compared to find matches\n"
   ]
  },
  {
   "cell_type": "code",
   "execution_count": null,
   "metadata": {
    "ExecuteTime": {
     "end_time": "2021-10-25T18:15:38.939484Z",
     "start_time": "2021-10-25T18:15:38.927823Z"
    }
   },
   "outputs": [],
   "source": [
    "movies.merge(ratings,left_on='movieId', right_on='movieId')"
   ]
  },
  {
   "cell_type": "markdown",
   "metadata": {},
   "source": [
    "### Summarizing JOINS\n",
    "- What information do I need and which columns in which tables are they in?\n",
    "- Now that i know the tables, what are the column(s) from each table that let me join them\n",
    "- Which type of join do I want?\n",
    "    - Depends whether you want to not lose data from left table (**left join**), right table (**right join**), or both tables (**outer join**)\n",
    "    - Depends on whether you don't want nans to be generated (**inner join**)\n",
    "    - Depends on what's the unit of analysis\n",
    "        - Usually customers table on left, purchases on right\n",
    "        - customers left join purchases\n",
    "        - those customers who never bought will not appear in purchases, but left join keeps these 0-purchase people in the result set (inner and right join will throw them out), so later groupby-analysis can count them to have bought 0 instead of completely missing them"
   ]
  },
  {
   "cell_type": "markdown",
   "metadata": {
    "id": "1tkMvUIU1Dgf"
   },
   "source": [
    "## Concat\n",
    "\n",
    "The ***concat()*** function does all of the heavy lifting of performing concatenation operations along an axis while performing optional set logic (union or intersection) of the indexes (if any) on the other axes. \n",
    "\n",
    "- i.e, as an example above, you can \"add\" your df1, df2, and df3 to form the dataframe \"result\""
   ]
  },
  {
   "cell_type": "markdown",
   "metadata": {
    "id": "BTABrYW-1Dgf"
   },
   "source": [
    "<img src=\"img/concat.png\" style=\"margin: 20px; height: 400px\">"
   ]
  },
  {
   "cell_type": "code",
   "execution_count": null,
   "metadata": {
    "ExecuteTime": {
     "end_time": "2021-10-09T12:40:21.739724Z",
     "start_time": "2021-10-09T12:40:21.732972Z"
    },
    "id": "yHDHn_Mj1Dgf"
   },
   "outputs": [],
   "source": [
    "#Exercise\n",
    "df1 = pd.DataFrame({'A': ['A0', 'A1', 'A2'],\n",
    "                    'B': ['B0', 'B1', 'B2'],\n",
    "                    'C': ['C0', 'C1', 'C2']},index=[0, 1, 2])\n",
    "\n",
    "df2 = pd.DataFrame({'A': ['E2', 'E3', 'E6'],\n",
    "                    'B': ['F2', 'F3', 'F6'],\n",
    "                    'C': ['G2', 'G3', 'G6']},index=[3, 4, 5])"
   ]
  },
  {
   "cell_type": "code",
   "execution_count": null,
   "metadata": {
    "ExecuteTime": {
     "end_time": "2021-08-01T04:35:04.221507Z",
     "start_time": "2021-08-01T04:35:04.207782Z"
    },
    "id": "4OXU9v-U1Dgg",
    "outputId": "6c23ce89-3cd7-49e8-97ae-cea6f6afad67"
   },
   "outputs": [],
   "source": []
  },
  {
   "cell_type": "code",
   "execution_count": null,
   "metadata": {
    "ExecuteTime": {
     "end_time": "2021-08-01T04:35:04.956615Z",
     "start_time": "2021-08-01T04:35:04.941565Z"
    },
    "id": "EHZfUw4d1Dgg",
    "outputId": "35842f96-d0b9-4079-915a-bce3f83e1cd5"
   },
   "outputs": [],
   "source": []
  },
  {
   "cell_type": "code",
   "execution_count": null,
   "metadata": {
    "ExecuteTime": {
     "end_time": "2021-08-01T04:35:05.417756Z",
     "start_time": "2021-08-01T04:35:05.402631Z"
    },
    "id": "rE740j0G1Dgg",
    "outputId": "24bd6d36-ae4a-4114-de25-dc3e074fdf8d"
   },
   "outputs": [],
   "source": []
  },
  {
   "cell_type": "markdown",
   "metadata": {
    "id": "WSiW0pfQ1Dgh"
   },
   "source": [
    "## Exercises "
   ]
  },
  {
   "cell_type": "markdown",
   "metadata": {
    "id": "udxDo0wW1Dgh"
   },
   "source": [
    "### Joins \n",
    "- Try to join `fraud_customer.csv` and `fraud_transactions` together (both csv are inside assets folder at same level as this jupyter notebook)\n",
    "    - use df.merge"
   ]
  },
  {
   "cell_type": "code",
   "execution_count": null,
   "metadata": {
    "ExecuteTime": {
     "end_time": "2021-10-25T13:03:53.885500Z",
     "start_time": "2021-10-25T13:03:53.866884Z"
    }
   },
   "outputs": [],
   "source": [
    "customer = pd.read_csv('assets/fraud_customer.csv')\n",
    "customer.head()"
   ]
  },
  {
   "cell_type": "code",
   "execution_count": null,
   "metadata": {},
   "outputs": [],
   "source": [
    "transaction = pd.read_csv('assets/fraud_transaction.csv')\n",
    "transaction.head()"
   ]
  },
  {
   "cell_type": "code",
   "execution_count": null,
   "metadata": {},
   "outputs": [],
   "source": [
    "# Write the code to join the two datasets together\n",
    "# Take note of the column names!!\n",
    "\n",
    "\n",
    "\n",
    "\n",
    "\n"
   ]
  },
  {
   "cell_type": "markdown",
   "metadata": {
    "id": "vCMNEGG-1Dgk"
   },
   "source": [
    "## Lesson Summary\n",
    "\n",
    "\n",
    "Let's review what we learned today. We:\n",
    "\n",
    "- explored numpy arrays to use for basic operations and matrices\n",
    "- used pandas dataframe and series to manipulate data\n",
    "- understand and used different types of joins and explored data models and its applications to the movies dataset\n",
    "\n",
    "- MUST USE CHEATSHEETS (Putting as your desktop background is a trick)\n",
    "\n",
    "|         Select by Label         |      Explicit Syntax      | Shorthand Convention |\n",
    "|:-------------------------------:|:-------------------------:|:--------------------:|\n",
    "| Single column from dataframe    | df.loc[:,\"col1\"]          | df[\"col1\"]           |\n",
    "| List of columns from dataframe  | df.loc[:,[\"col1\",\"col7\"]] | df[[\"col1\",\"col7\"]]  |\n",
    "| Slice of columns from dataframe | df.loc[:,\"col1\":\"col4\"]   |                      |\n",
    "| Single row from dataframe       | df.loc[\"row4\"]            |                      |\n",
    "| List of rows from dataframe     | df.loc[[\"row1\", \"row8\"]]  |                      |\n",
    "| Slice of rows from dataframe    | df.loc[\"row3\":\"row5\"]     | df[\"row3\":\"row5\"]    |\n",
    "| Single item from series         | s.loc[\"item8\"]            | s[\"item8\"]           |\n",
    "| List of items from series       | s.loc[[\"item1\",\"item7\"]]  | s[[\"item1\",\"item7\"]] |\n",
    "| Slice of items from series      | s.loc[\"item2\":\"item4\"]    | s[\"item2\":\"item4\"]   |"
   ]
  },
  {
   "cell_type": "markdown",
   "metadata": {},
   "source": [
    "# Exercises\n",
    "- Pandas exercises https://github.com/guipsamora/pandas_exercises\n",
    "    - For those who never used git, just add `zipball/master/` to end of the url of any repository to download whole repository as 1 zip\n",
    "    - Eg. https://github.com/guipsamora/pandas_exercises/zipball/master"
   ]
  },
  {
   "cell_type": "markdown",
   "metadata": {
    "id": "PmHeYemu1Dgk"
   },
   "source": [
    "# Readings\n",
    "\n",
    "- Numpy \n",
    "    - use cases: https://arxiv.org/pdf/1102.1523.pdf\n",
    "    - Broadcasting:\n",
    "        - https://blog.finxter.com/numpy-broadcasting-a-simple-tutorial/\n",
    "        - https://medium.com/@souravdey/l2-distance-matrix-vectorization-trick-26aa3247ac6c (application to KNN algorithm)\n",
    "    - Reshaping (numpy): https://towardsdatascience.com/reshaping-numpy-arrays-in-python-a-step-by-step-pictorial-tutorial-aed5f471cf0b\n",
    "\n",
    "\n",
    "- Pandas\n",
    "    - Official cookbook: https://pandas.pydata.org/pandas-docs/version/0.17.0/cookbook.html#cookbook\n",
    "        - Cookbooks are the next level go-to after familiar with syntax, to be exposed to common problems and patterns to solve using a tool\n",
    "    - Different sort of reshaping for pandas: - Pandas: https://pandas.pydata.org/docs/user_guide/reshaping.html\n",
    "    - Cheatsheets: https://blog.finxter.com/pandas-cheat-sheets/\n",
    "    - JOINS with multiple matching rows on right table for each row on left (Venn diagram cannot express when multiple rows in right table match single row in left table): https://stackoverflow.com/questions/38549/what-is-the-difference-between-inner-join-and-outer-join#answer-27458534\n",
    "    - Official Docs: https://pandas.pydata.org/pandas-docs/stable/user_guide/merging.html\n",
    "    \n",
    "- Quirks with pandas & and | \n",
    "    - &,| behaves differently in pandas than normal python because pandas operates on 1D operands\n",
    "        - Involves general programming concept called **operator overloading**, same operator does different things depending on data type of operands, every library may have own quirk, not transferrable knowledge, learn by memory\n",
    "        - You saw this in 1+1, 'good'+'morning', [1,2]+[3]\n",
    "    - https://stackoverflow.com/questions/39388950/logical-or-bitwise-or-in-pandas-data-frame\n",
    "    - https://stackoverflow.com/questions/21415661/logical-operators-for-boolean-indexing-in-pandas"
   ]
  }
 ],
 "metadata": {
  "colab": {
   "collapsed_sections": [
    "29Hd59d71Dfi",
    "MwwJkpUt1Dfp",
    "m-wS027l1Dfq",
    "p8fq8oZx1Dfz",
    "jHAXkWG71Df1",
    "Vd9gjfTu1Df6",
    "C8OvjUzu1Df8",
    "-ch4LFtg1Df-",
    "gs_rNJaN1Df_",
    "rjdvvlK31DgA",
    "aMpyyg4M1DgA",
    "9-DOofBh1DgC",
    "rvpdkNwv1DgD",
    "7njsbidw1DgD",
    "C84qBZHh1DgE",
    "ux1Bn7e51DgG",
    "R5RupZpt1DgS",
    "MrCwU7K41DgT",
    "46i9t0W91DgY",
    "cMO-VjXJ1DgZ",
    "zov74Nk71oQF",
    "VwWXH-3x1y-i",
    "WhhKzp9_1Dgd",
    "1tkMvUIU1Dgf",
    "udxDo0wW1Dgh",
    "7gdPIzUZ1Dgi",
    "0zcYXs-t1Dgj"
   ],
   "name": "SciPy (Numpy and Pandas).ipynb",
   "provenance": []
  },
  "kernelspec": {
   "display_name": "Python 3",
   "language": "python",
   "name": "python3"
  },
  "language_info": {
   "codemirror_mode": {
    "name": "ipython",
    "version": 3
   },
   "file_extension": ".py",
   "mimetype": "text/x-python",
   "name": "python",
   "nbconvert_exporter": "python",
   "pygments_lexer": "ipython3",
   "version": "3.8.5"
  },
  "toc": {
   "base_numbering": 1,
   "nav_menu": {},
   "number_sections": true,
   "sideBar": true,
   "skip_h1_title": false,
   "title_cell": "Table of Contents",
   "title_sidebar": "Contents",
   "toc_cell": false,
   "toc_position": {
    "height": "calc(100% - 180px)",
    "left": "10px",
    "top": "150px",
    "width": "333.047px"
   },
   "toc_section_display": true,
   "toc_window_display": false
  },
  "varInspector": {
   "cols": {
    "lenName": 16,
    "lenType": 16,
    "lenVar": 40
   },
   "kernels_config": {
    "python": {
     "delete_cmd_postfix": "",
     "delete_cmd_prefix": "del ",
     "library": "var_list.py",
     "varRefreshCmd": "print(var_dic_list())"
    },
    "r": {
     "delete_cmd_postfix": ") ",
     "delete_cmd_prefix": "rm(",
     "library": "var_list.r",
     "varRefreshCmd": "cat(var_dic_list()) "
    }
   },
   "types_to_exclude": [
    "module",
    "function",
    "builtin_function_or_method",
    "instance",
    "_Feature"
   ],
   "window_display": false
  }
 },
 "nbformat": 4,
 "nbformat_minor": 1
}
