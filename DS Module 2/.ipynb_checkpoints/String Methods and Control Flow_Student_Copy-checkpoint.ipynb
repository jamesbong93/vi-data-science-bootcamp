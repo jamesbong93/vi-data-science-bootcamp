{
 "cells": [
  {
   "cell_type": "markdown",
   "metadata": {
    "id": "DwxMfA2NYKwc"
   },
   "source": [
    "<img src=\"./img/vi_logo.png\" style=\"float: left; margin: 10px; height: 45px\">\n",
    "\n",
    "# Vertical Institute Data Science 101\n",
    "# Lesson 2: String Methods and Control Flow\n",
    "\n",
    "\n",
    "---"
   ]
  },
  {
   "cell_type": "markdown",
   "metadata": {
    "id": "Hop0aBCzYKwv"
   },
   "source": [
    "\n",
    "### Learning Objectives\n",
    "\n",
    "#### Part 1: String Methods\n",
    "**After this lesson, you will be able to:**\n",
    "- Discuss Python as a programming language.\n",
    "- Define integers, strings, lists, and dictionaries.\n",
    "- Demonstrate arithmetic operations and string operations.\n",
    "- Demonstrate variable assignment.\n",
    "\n",
    "#### Part 2: Python Iterations, Control Flow, and Functions\n",
    "**After this lesson, you will be able to:**\n",
    "- Understand `Python` control flow and conditional programming.  \n",
    "- Implement `for` loops to iterate through data structures.\n",
    "- Apply `if ... elif ... else` conditional statements.\n",
    "- Create functions to perform repetitive actions.\n",
    "- Combine control flow and conditional statements to solve the classic \"FizzBuzz\" code challenge."
   ]
  },
  {
   "cell_type": "markdown",
   "metadata": {},
   "source": [
    "## Strings \n",
    "___\n",
    "<img src=\"img/string_bank.png\" style=\"height: 500px\">\n"
   ]
  },
  {
   "cell_type": "code",
<<<<<<< HEAD
   "execution_count": 1,
=======
   "execution_count": null,
>>>>>>> d7b861289df566c3a9f0ce3f1743fab0c3d707d2
   "metadata": {
    "ExecuteTime": {
     "end_time": "2021-10-14T17:58:40.761233Z",
     "start_time": "2021-10-14T17:58:40.757339Z"
    },
    "id": "eHiQzKC15jkW",
    "outputId": "887c492e-f6fa-4fe7-b85b-1a360c8b6617"
   },
<<<<<<< HEAD
   "outputs": [
    {
     "name": "stdout",
     "output_type": "stream",
     "text": [
      "Welcome to Python Bank!\n",
      "I want to check my Account Balance\n",
      "\n",
      "Your Account Balance is $12,523.10\n",
      "\n",
      "Your Account Number is 123-412-1111\n",
      "\n",
      "\n",
      "Thank you for using Python Bank!\n",
      "\n",
      "Good Bye!\n",
      "\n"
     ]
    }
   ],
=======
   "outputs": [],
>>>>>>> d7b861289df566c3a9f0ce3f1743fab0c3d707d2
   "source": [
    "# You can use '' or \"\" or '''''' or \"\"\"\"\"\" to declare a string\n",
    "print('Welcome to Python Bank!')\n",
    "\n",
    "print(\"I want to check my Account Balance\")\n",
    "\n",
    "print('''\n",
    "Your Account Balance is $12,523.10\n",
    "\n",
    "Your Account Number is 123-412-1111\n",
    "''')\n",
    "\n",
    "print(\"\"\"\n",
    "Thank you for using Python Bank!\n",
    "\n",
    "Good Bye!\n",
    "\"\"\")"
   ]
  },
  {
   "cell_type": "code",
<<<<<<< HEAD
   "execution_count": 4,
=======
   "execution_count": null,
>>>>>>> d7b861289df566c3a9f0ce3f1743fab0c3d707d2
   "metadata": {
    "ExecuteTime": {
     "end_time": "2021-10-14T17:58:40.766529Z",
     "start_time": "2021-10-14T17:58:40.763225Z"
    },
    "id": "a0bp25CL5jkW",
    "outputId": "a857b9f1-1ea4-45a9-cb58-78ecd613b270"
   },
<<<<<<< HEAD
   "outputs": [
    {
     "ename": "SyntaxError",
     "evalue": "EOL while scanning string literal (<ipython-input-4-59940416d822>, line 2)",
     "output_type": "error",
     "traceback": [
      "\u001b[0;36m  File \u001b[0;32m\"<ipython-input-4-59940416d822>\"\u001b[0;36m, line \u001b[0;32m2\u001b[0m\n\u001b[0;31m    print('this will raise an error\")\u001b[0m\n\u001b[0m                                     ^\u001b[0m\n\u001b[0;31mSyntaxError\u001b[0m\u001b[0;31m:\u001b[0m EOL while scanning string literal\n"
     ]
    }
   ],
=======
   "outputs": [],
>>>>>>> d7b861289df566c3a9f0ce3f1743fab0c3d707d2
   "source": [
    "# But whichever quotation mark you choose, you have to be consistent\n",
    "print('this will raise an error\")"
   ]
  },
  {
   "cell_type": "markdown",
   "metadata": {
    "id": "_zr5BO965jkW"
   },
   "source": [
    "- Strings have a lot of associated methods and attributes that allow us to better understand and manipulate them.\n",
    "- use `dir(any_string_object)` to see all the methods you can use on a string"
   ]
  },
  {
   "cell_type": "code",
<<<<<<< HEAD
   "execution_count": 5,
=======
   "execution_count": null,
>>>>>>> d7b861289df566c3a9f0ce3f1743fab0c3d707d2
   "metadata": {
    "ExecuteTime": {
     "end_time": "2021-10-14T17:58:40.772222Z",
     "start_time": "2021-10-14T17:58:40.772210Z"
    },
    "id": "YykvCI4y5jkX"
   },
<<<<<<< HEAD
   "outputs": [
    {
     "data": {
      "text/plain": [
       "26"
      ]
     },
     "execution_count": 5,
     "metadata": {},
     "output_type": "execute_result"
    }
   ],
=======
   "outputs": [],
>>>>>>> d7b861289df566c3a9f0ce3f1743fab0c3d707d2
   "source": [
    "# Length of the string. \n",
    "# New function! len()\n",
    "s = \"Hello Python Bank Customer\"\n",
<<<<<<< HEAD
    "len(s)"
=======
    "________"
>>>>>>> d7b861289df566c3a9f0ce3f1743fab0c3d707d2
   ]
  },
  {
   "cell_type": "code",
<<<<<<< HEAD
   "execution_count": 6,
=======
   "execution_count": null,
>>>>>>> d7b861289df566c3a9f0ce3f1743fab0c3d707d2
   "metadata": {
    "ExecuteTime": {
     "end_time": "2021-10-14T17:58:40.775173Z",
     "start_time": "2021-10-14T17:58:40.775155Z"
    },
    "id": "9-jEaWgt5jkX"
   },
<<<<<<< HEAD
   "outputs": [
    {
     "name": "stdout",
     "output_type": "stream",
     "text": [
      "hello python bank customer\n",
      "HELLO PYTHON BANK CUSTOMER\n"
     ]
    }
   ],
=======
   "outputs": [],
>>>>>>> d7b861289df566c3a9f0ce3f1743fab0c3d707d2
   "source": [
    "# We can also easily convert the string to upper or lower case\n",
    "\n",
    "# This is a helpful tool to normalize various text various into the same text during text processing\n",
    "# eg. Cat, cat --> cat/CAT\n",
    "print(s.lower())\n",
    "print(s.upper())"
   ]
  },
  {
   "cell_type": "code",
<<<<<<< HEAD
   "execution_count": 8,
=======
   "execution_count": null,
>>>>>>> d7b861289df566c3a9f0ce3f1743fab0c3d707d2
   "metadata": {
    "ExecuteTime": {
     "end_time": "2021-10-14T17:58:40.776326Z",
     "start_time": "2021-10-14T17:58:40.776313Z"
    },
    "id": "KwHPxwsI5jkX"
   },
<<<<<<< HEAD
   "outputs": [
    {
     "data": {
      "text/plain": [
       "'Hello Hello Hello Hello Hello '"
      ]
     },
     "execution_count": 8,
     "metadata": {},
     "output_type": "execute_result"
    }
   ],
=======
   "outputs": [],
>>>>>>> d7b861289df566c3a9f0ce3f1743fab0c3d707d2
   "source": [
    "# Multiplying is very easy and straightforward.\n",
    "# Interesting behaviour\n",
    "x = 'Hello '\n",
    "x * 5"
   ]
  },
  {
   "cell_type": "code",
<<<<<<< HEAD
   "execution_count": 9,
=======
   "execution_count": null,
>>>>>>> d7b861289df566c3a9f0ce3f1743fab0c3d707d2
   "metadata": {
    "ExecuteTime": {
     "end_time": "2021-10-24T13:44:43.922498Z",
     "start_time": "2021-10-24T13:44:43.911370Z"
    }
   },
<<<<<<< HEAD
   "outputs": [
    {
     "name": "stdout",
     "output_type": "stream",
     "text": [
      "True\n",
      "False\n"
     ]
    }
   ],
=======
   "outputs": [],
>>>>>>> d7b861289df566c3a9f0ce3f1743fab0c3d707d2
   "source": [
    "# membership checking \n",
    "# More special than lists/sets/dictionaries because can check not just character but substrings\n",
    "print('H' in 'Hello')\n",
    "print('h' in 'Hello')"
   ]
  },
  {
   "cell_type": "markdown",
   "metadata": {
    "id": "L0UhHAplYKw8"
   },
   "source": [
    "\n",
    "## Part 1: String Methods\n"
   ]
  },
  {
   "cell_type": "markdown",
   "metadata": {
    "id": "PzsGACQDYKw_"
   },
   "source": [
    "\n",
    "### String Indexing\n",
    "\n",
    "We can extract characters at specific index locations in a string using indexing."
   ]
  },
  {
   "cell_type": "code",
<<<<<<< HEAD
   "execution_count": 10,
=======
   "execution_count": null,
>>>>>>> d7b861289df566c3a9f0ce3f1743fab0c3d707d2
   "metadata": {
    "ExecuteTime": {
     "end_time": "2021-10-24T12:46:21.139838Z",
     "start_time": "2021-10-24T12:46:21.136473Z"
    },
    "id": "gbBtqNSlYKxB"
   },
   "outputs": [],
   "source": [
    "s = \"Hello world\""
   ]
  },
  {
   "cell_type": "code",
<<<<<<< HEAD
   "execution_count": 11,
=======
   "execution_count": null,
>>>>>>> d7b861289df566c3a9f0ce3f1743fab0c3d707d2
   "metadata": {
    "ExecuteTime": {
     "end_time": "2021-10-24T12:46:21.346485Z",
     "start_time": "2021-10-24T12:46:21.334575Z"
    },
    "id": "si55WbQyYKxD",
    "outputId": "8b496369-8c8f-4712-e351-005ba648099e"
   },
<<<<<<< HEAD
   "outputs": [
    {
     "data": {
      "text/plain": [
       "'H'"
      ]
     },
     "execution_count": 11,
     "metadata": {},
     "output_type": "execute_result"
    }
   ],
   "source": [
    "# Indexing the first (index 0) character in the string:\n",
    "s[0]"
=======
   "outputs": [],
   "source": [
    "# Indexing the first (index 0) character in the string:\n"
>>>>>>> d7b861289df566c3a9f0ce3f1743fab0c3d707d2
   ]
  },
  {
   "cell_type": "code",
<<<<<<< HEAD
   "execution_count": 12,
=======
   "execution_count": null,
>>>>>>> d7b861289df566c3a9f0ce3f1743fab0c3d707d2
   "metadata": {
    "ExecuteTime": {
     "end_time": "2021-10-24T12:46:21.529903Z",
     "start_time": "2021-10-24T12:46:21.525675Z"
    },
    "id": "0T1lmlQtYKxM",
    "outputId": "c296f93e-15c4-442d-82f6-a43d0229acd3"
   },
<<<<<<< HEAD
   "outputs": [
    {
     "data": {
      "text/plain": [
       "'e'"
      ]
     },
     "execution_count": 12,
     "metadata": {},
     "output_type": "execute_result"
    }
   ],
   "source": [
    "# How do we retrieve the letter 'e' from 'Hello World'?\n",
    "s[1]"
=======
   "outputs": [],
   "source": [
    "# How do we retrieve the letter 'e' from 'Hello World'?\n"
>>>>>>> d7b861289df566c3a9f0ce3f1743fab0c3d707d2
   ]
  },
  {
   "cell_type": "code",
<<<<<<< HEAD
   "execution_count": 13,
=======
   "execution_count": null,
>>>>>>> d7b861289df566c3a9f0ce3f1743fab0c3d707d2
   "metadata": {
    "ExecuteTime": {
     "end_time": "2021-10-24T12:46:21.711250Z",
     "start_time": "2021-10-24T12:46:21.708169Z"
    }
   },
<<<<<<< HEAD
   "outputs": [
    {
     "data": {
      "text/plain": [
       "'d'"
      ]
     },
     "execution_count": 13,
     "metadata": {},
     "output_type": "execute_result"
    }
   ],
   "source": [
    "# How do we get the last letter 'd' in 'Hello world'?\n",
    "s[-1]"
=======
   "outputs": [],
   "source": [
    "# How do we get the last letter 'd' in 'Hello world'?\n"
>>>>>>> d7b861289df566c3a9f0ce3f1743fab0c3d707d2
   ]
  },
  {
   "cell_type": "code",
<<<<<<< HEAD
   "execution_count": 15,
=======
   "execution_count": null,
>>>>>>> d7b861289df566c3a9f0ce3f1743fab0c3d707d2
   "metadata": {
    "ExecuteTime": {
     "end_time": "2021-10-24T12:46:21.899568Z",
     "start_time": "2021-10-24T12:46:21.896484Z"
    },
    "id": "ZDg7lE-fYKxR"
   },
<<<<<<< HEAD
   "outputs": [
    {
     "data": {
      "text/plain": [
       "'Hello'"
      ]
     },
     "execution_count": 15,
     "metadata": {},
     "output_type": "execute_result"
    }
   ],
   "source": [
    "# How do you call \"Hello\" in our string using slicing?\n",
    "s[0:5]"
=======
   "outputs": [],
   "source": [
    "# How do you call \"Hello\" in our string using slicing?\n"
>>>>>>> d7b861289df566c3a9f0ce3f1743fab0c3d707d2
   ]
  },
  {
   "cell_type": "markdown",
   "metadata": {
    "id": "YTbkNgK_YKxV"
   },
   "source": [
    "Most ranges or functions with ranges have upper ends that are not inclusive. So, a range of `[0:5]` starts at `0` and stops before `5`."
   ]
  },
  {
   "cell_type": "code",
<<<<<<< HEAD
   "execution_count": 16,
=======
   "execution_count": null,
>>>>>>> d7b861289df566c3a9f0ce3f1743fab0c3d707d2
   "metadata": {
    "ExecuteTime": {
     "end_time": "2021-10-24T12:46:22.277733Z",
     "start_time": "2021-10-24T12:46:22.274111Z"
    },
    "id": "ZUTZCfX-YKxX"
   },
<<<<<<< HEAD
   "outputs": [
    {
     "data": {
      "text/plain": [
       "6"
      ]
     },
     "execution_count": 16,
     "metadata": {},
     "output_type": "execute_result"
    }
   ],
=======
   "outputs": [],
>>>>>>> d7b861289df566c3a9f0ce3f1743fab0c3d707d2
   "source": [
    "# How do we call \"world\" based on what we know about when the index of \"w\" starts?\n",
    "# Use s.index(\"w\") to automatically find it instead of manually scanning\n",
    "s.index(\"w\")"
   ]
  },
  {
   "cell_type": "markdown",
   "metadata": {
    "id": "lGfrwcR_YKxc"
   },
   "source": [
    "In addition to specifying a slice, you can add a step size or character skip rate."
   ]
  },
  {
   "cell_type": "code",
<<<<<<< HEAD
   "execution_count": 19,
=======
   "execution_count": null,
>>>>>>> d7b861289df566c3a9f0ce3f1743fab0c3d707d2
   "metadata": {
    "ExecuteTime": {
     "end_time": "2021-10-24T12:46:22.675846Z",
     "start_time": "2021-10-24T12:46:22.672502Z"
    },
    "id": "l2qGBOjcYKxd"
   },
<<<<<<< HEAD
   "outputs": [
    {
     "data": {
      "text/plain": [
       "'Hlo'"
      ]
     },
     "execution_count": 19,
     "metadata": {},
     "output_type": "execute_result"
    }
   ],
=======
   "outputs": [],
>>>>>>> d7b861289df566c3a9f0ce3f1743fab0c3d707d2
   "source": [
    "# Define a step size of 2, i.e., every other character:\n",
    "# s[start_index:end_index:step_size]\n",
    "s[0:6:2] # Index 0 up to but not including 6, and also get every 2nd value"
   ]
  },
  {
   "cell_type": "markdown",
   "metadata": {
    "id": "NT1lcoxMYKxg"
   },
   "source": [
    "\n",
    "### String Concatenation\n",
    "\n",
    "To add two strings together, type the first string, an addition sign, and then the second string."
   ]
  },
  {
   "cell_type": "code",
   "execution_count": null,
   "metadata": {
    "ExecuteTime": {
     "end_time": "2021-10-24T12:46:23.366562Z",
     "start_time": "2021-10-24T12:46:23.361279Z"
    },
    "id": "XZXMvFkNYKxj",
    "outputId": "c1fe6f79-c64c-408d-eb92-d47a8f34078c"
   },
   "outputs": [],
   "source": [
    "x = 'Hello '\n",
    "y = 'world'\n",
    "\n",
    "print(x + y)"
   ]
  },
  {
   "cell_type": "markdown",
   "metadata": {
    "id": "tkofq-vhYKxs"
   },
   "source": [
    "### Splitting and Joining "
   ]
  },
  {
   "cell_type": "code",
<<<<<<< HEAD
   "execution_count": 20,
=======
   "execution_count": null,
>>>>>>> d7b861289df566c3a9f0ce3f1743fab0c3d707d2
   "metadata": {
    "ExecuteTime": {
     "end_time": "2021-10-10T14:28:16.937296Z",
     "start_time": "2021-10-10T14:28:16.933325Z"
    },
    "id": "Xxx3l78DYKxt",
    "outputId": "be146434-0d5a-4480-9529-a06310fc9980"
   },
<<<<<<< HEAD
   "outputs": [
    {
     "data": {
      "text/plain": [
       "['we', 'are', 'learning', 'python', 'today!']"
      ]
     },
     "execution_count": 20,
     "metadata": {},
     "output_type": "execute_result"
    }
   ],
=======
   "outputs": [],
>>>>>>> d7b861289df566c3a9f0ce3f1743fab0c3d707d2
   "source": [
    "# Split by spaces\n",
    "s = \"we are learning python today!\"\n",
    "\n",
<<<<<<< HEAD
    "s.split()  # using split function"
=======
    "s._____()  # using split function"
>>>>>>> d7b861289df566c3a9f0ce3f1743fab0c3d707d2
   ]
  },
  {
   "cell_type": "code",
<<<<<<< HEAD
   "execution_count": 23,
=======
   "execution_count": null,
>>>>>>> d7b861289df566c3a9f0ce3f1743fab0c3d707d2
   "metadata": {
    "ExecuteTime": {
     "end_time": "2021-10-10T14:29:23.986620Z",
     "start_time": "2021-10-10T14:29:23.980228Z"
    },
    "id": "pcKrd_6GYKxv",
    "outputId": "788611f2-28f9-43d8-abca-2c014532e191"
   },
<<<<<<< HEAD
   "outputs": [
    {
     "data": {
      "text/plain": [
       "'I shall drinkbubbleteatomorrow'"
      ]
     },
     "execution_count": 23,
     "metadata": {},
     "output_type": "execute_result"
    }
   ],
=======
   "outputs": [],
>>>>>>> d7b861289df566c3a9f0ce3f1743fab0c3d707d2
   "source": [
    "# Combine a list of words using some predefined string\n",
    "', '.join(['I ', 'shall ', 'drink', 'bubble', 'tea', 'tomorrow'])"
   ]
  },
  {
   "cell_type": "code",
<<<<<<< HEAD
   "execution_count": 28,
=======
   "execution_count": null,
>>>>>>> d7b861289df566c3a9f0ce3f1743fab0c3d707d2
   "metadata": {
    "ExecuteTime": {
     "end_time": "2021-10-24T12:38:01.938064Z",
     "start_time": "2021-10-24T12:38:01.935470Z"
    },
    "colab": {
     "base_uri": "https://localhost:8080/",
     "height": 130
    },
    "executionInfo": {
     "elapsed": 7,
     "status": "error",
     "timestamp": 1634908339426,
     "user": {
      "displayName": "Louis reinaldo",
      "photoUrl": "https://lh3.googleusercontent.com/a-/AOh14Ggf3SpltmmtDBqf3mgwHXCksZv1dJmsAcTHg2UQ=s64",
      "userId": "08337447071234864737"
     },
     "user_tz": -480
    },
    "id": "uj3kt7YMHgNs",
    "outputId": "9d6b802a-c999-46ff-e569-2b0814a9cc44"
   },
<<<<<<< HEAD
   "outputs": [
    {
     "name": "stdout",
     "output_type": "stream",
     "text": [
      "['DBS', 'POSB', 'HSBC', 'JPMORGAN']\n"
     ]
    }
   ],
=======
   "outputs": [],
>>>>>>> d7b861289df566c3a9f0ce3f1743fab0c3d707d2
   "source": [
    "# Practise: Given the string below, create a list of banks using the split function\n",
    "banks_string =\"DBS POSB HSBC JPMORGAN\"\n",
    "\n",
    "# fill in the blank\n",
<<<<<<< HEAD
    "banks_list = banks_string.split()\n",
    "print(banks_list)\n",
=======
    "banks_list = banks_string.____()\n",
>>>>>>> d7b861289df566c3a9f0ce3f1743fab0c3d707d2
    "\n",
    "# this should return ['DBS', 'POSB', 'HSBC', 'JPMORGAN']"
   ]
  },
  {
   "cell_type": "markdown",
   "metadata": {
    "id": "B6w5uegVYKx2"
   },
   "source": [
    "\n",
    "## Part 2: Python Iterations, Control Flow, and Functions\n",
    "\n",
    "We've gone over how data can exist within the Python language. Now, let's look at the core ways of interacting with it.\n",
    "\n",
    "- `if… elif… else` statements\n",
    "- `for` loops\n",
    "- Functions\n",
    "\n",
    "\n",
    "First, let's bring in one of the many available Python libraries to help us with some of the statements we'll be creating."
   ]
  },
  {
   "cell_type": "markdown",
   "metadata": {
    "id": "onUJvG-4YKx3"
   },
   "source": [
    "\n",
    "### `if… else` Statements\n",
    "\n",
    "---\n",
    "\n",
    "In Python, **indentation matters**! This is especially true when we look at the control structures in this lesson. In each case, a block of indented code is only sometimes run. There will always be a condition in the line preceding the indented block that determines whether the indented code is run or skipped.\n",
    "\n",
    "#### `if` Statement\n",
    "\n",
    "The simplest example of a control structure is the `if` statement."
   ]
  },
  {
   "cell_type": "code",
<<<<<<< HEAD
   "execution_count": 50,
=======
   "execution_count": null,
>>>>>>> d7b861289df566c3a9f0ce3f1743fab0c3d707d2
   "metadata": {
    "ExecuteTime": {
     "end_time": "2021-10-06T14:39:45.234183Z",
     "start_time": "2021-10-06T14:39:45.230169Z"
    },
    "id": "r_jvVpMTYKx4",
    "outputId": "11ad92ee-68a4-4105-e23f-a174079d7b7f"
   },
<<<<<<< HEAD
   "outputs": [
    {
     "name": "stdout",
     "output_type": "stream",
     "text": [
      "True\n",
      "Approve C\n"
     ]
    }
   ],
   "source": [
    "age = 10\n",
    "\n",
    "print(age < 20)\n",
    "if (age < 20):\n",
    "    print(\"Approve C\")"
   ]
  },
  {
   "cell_type": "code",
   "execution_count": 39,
=======
   "outputs": [],
   "source": []
  },
  {
   "cell_type": "code",
   "execution_count": null,
>>>>>>> d7b861289df566c3a9f0ce3f1743fab0c3d707d2
   "metadata": {
    "ExecuteTime": {
     "end_time": "2021-10-06T14:40:16.087834Z",
     "start_time": "2021-10-06T14:40:16.084570Z"
    },
    "id": "tk6QJGwJYKx5",
    "outputId": "4518aa39-e799-48b5-e511-f47494590c04"
   },
<<<<<<< HEAD
   "outputs": [
    {
     "data": {
      "text/plain": [
       "True"
      ]
     },
     "execution_count": 39,
     "metadata": {},
     "output_type": "execute_result"
    }
   ],
   "source": [
    "age < 20"
   ]
=======
   "outputs": [],
   "source": []
>>>>>>> d7b861289df566c3a9f0ce3f1743fab0c3d707d2
  },
  {
   "cell_type": "markdown",
   "metadata": {
    "id": "hNX12CXVYKyK"
   },
   "source": [
    "Notice that, in Python, the line before every indented block must end with a colon (`:`). In fact, it turns out that the `if` statement has a very specific syntax.\n",
    "\n",
    "```if <expression>:\n",
    "    <one or more indented lines>```\n",
    "\n",
    "When the `if` statement is run, the expression is evaluated to `True` or `False` by applying the built-in `bool()` function to it. If the expression evaluates to `True`, the code block is run; otherwise, it is skipped."
   ]
  },
  {
   "cell_type": "markdown",
   "metadata": {
    "id": "4Uhm4D7aYKyL"
   },
   "source": [
    "### Not just True/False but Truthy /Falsy\n",
    "- Not all expressions return True/False\n",
    "- Things like 0, 0.0 or empty containers are falsy [] {}, non-0 numbers (-2.3,1,2) and non-empty containers are truthy\n",
    "- Wrap any object with `bool(any_object)` to see for yourself \n",
    "    - Truthy objects become True\n",
    "    - Falsy objects become False\n",
    "    \n",
    "- What is Truthy/Falsy: https://www.freecodecamp.org/news/truthy-and-falsy-values-in-python/"
   ]
  },
  {
   "cell_type": "code",
<<<<<<< HEAD
   "execution_count": 51,
=======
   "execution_count": null,
>>>>>>> d7b861289df566c3a9f0ce3f1743fab0c3d707d2
   "metadata": {
    "ExecuteTime": {
     "end_time": "2021-10-24T12:52:18.247789Z",
     "start_time": "2021-10-24T12:52:18.242473Z"
    },
    "id": "vwy7SzFrYKyM"
   },
   "outputs": [],
   "source": [
    "if 0: # 0 also means False\n",
    "    print('Hey there!')"
   ]
  },
  {
   "cell_type": "code",
<<<<<<< HEAD
   "execution_count": 52,
   "metadata": {},
   "outputs": [
    {
     "name": "stdout",
     "output_type": "stream",
     "text": [
      "Hey there!\n"
     ]
    }
   ],
=======
   "execution_count": null,
   "metadata": {},
   "outputs": [],
>>>>>>> d7b861289df566c3a9f0ce3f1743fab0c3d707d2
   "source": [
    "if 1: # 1 also means True\n",
    "    print('Hey there!')"
   ]
  },
  {
   "cell_type": "code",
<<<<<<< HEAD
   "execution_count": 53,
=======
   "execution_count": null,
>>>>>>> d7b861289df566c3a9f0ce3f1743fab0c3d707d2
   "metadata": {},
   "outputs": [],
   "source": [
    "l = []\n",
    "\n",
    "if l: # Empty string also means False\n",
    "    print('Hey there!')"
   ]
  },
  {
   "cell_type": "code",
<<<<<<< HEAD
   "execution_count": 54,
   "metadata": {},
   "outputs": [
    {
     "name": "stdout",
     "output_type": "stream",
     "text": [
      "Hey there!\n"
     ]
    }
   ],
=======
   "execution_count": null,
   "metadata": {},
   "outputs": [],
>>>>>>> d7b861289df566c3a9f0ce3f1743fab0c3d707d2
   "source": [
    "l = [\"this\",\"is\",\"not\", \"empty\"]\n",
    "\n",
    "if l:  # Non-empty string also means True\n",
    "    print('Hey there!')"
   ]
  },
  {
   "cell_type": "markdown",
   "metadata": {
    "id": "MrsGU2h3YKyN"
   },
   "source": [
    "#### `if` ... `else`\n",
    "\n",
    "In many cases, you may want to run some code if the expression evaluates to `True` and some different code if it evaluates to `False`. This is done using `else`. Note how it is at the same indentation level as the `if` statement, followed by a colon, followed by a code block. Let's see it in action."
   ]
  },
  {
   "cell_type": "markdown",
   "metadata": {
    "id": "YNe98O99YKyO"
   },
   "source": [
    "<img src=\"img/if_else.png\" style=\"margin: 20px; height: 400px\">"
   ]
  },
  {
   "cell_type": "code",
<<<<<<< HEAD
   "execution_count": 57,
   "metadata": {},
   "outputs": [
    {
     "name": "stdout",
     "output_type": "stream",
     "text": [
      "y\n",
      "z\n"
     ]
    }
   ],
=======
   "execution_count": null,
   "metadata": {},
   "outputs": [],
>>>>>>> d7b861289df566c3a9f0ce3f1743fab0c3d707d2
   "source": [
    "#what is the output of the code below?\n",
    "\n",
    "if 1 > 2:\n",
    "    print(\"x\")\n",
<<<<<<< HEAD
    "else:\n",
=======
    "____: # fill in the blank here first!\n",
>>>>>>> d7b861289df566c3a9f0ce3f1743fab0c3d707d2
    "    print(\"y\")\n",
    "\n",
    "print(\"z\")"
   ]
  },
  {
   "cell_type": "markdown",
   "metadata": {
    "id": "powtA8z5YKyQ"
   },
   "source": [
    "#### `if` ... `elif` ... `else`\n",
    "\n",
    "Sometimes, you might want to run one specific code block out of several. For example, perhaps we provide the user with three choices and want something different to happen with each one.\n",
    "\n",
    "`elif` stands for `else if`. It belongs on a line between the initial `if` statement and an (optional) `else`. "
   ]
  },
  {
   "cell_type": "markdown",
   "metadata": {
    "id": "9sKuaFIXYKyR"
   },
   "source": [
    "<img src=\"img/if_elif.png\" style=\"margin: 20px; height: 400px\">"
   ]
  },
  {
   "cell_type": "code",
<<<<<<< HEAD
   "execution_count": 62,
=======
   "execution_count": null,
>>>>>>> d7b861289df566c3a9f0ce3f1743fab0c3d707d2
   "metadata": {
    "ExecuteTime": {
     "end_time": "2021-10-06T14:48:20.585240Z",
     "start_time": "2021-10-06T14:48:20.581124Z"
    },
    "id": "U-BDqI-wYKyS",
    "outputId": "7b624e2c-d10a-4870-bc08-ce6c4d9fb033"
   },
<<<<<<< HEAD
   "outputs": [
    {
     "name": "stdout",
     "output_type": "stream",
     "text": [
      "Exactly $30,000\n"
     ]
    }
   ],
   "source": [
    "# try the following\n",
    "deposit = 30000\n",
=======
   "outputs": [],
   "source": [
    "# try the following\n",
    "deposit = 45000\n",
>>>>>>> d7b861289df566c3a9f0ce3f1743fab0c3d707d2
    "\n",
    "# if, elif and else\n",
    "\n",
    "# if, elif and else\n",
    "if deposit > 30000:\n",
    "    print('Above $30,000') \n",
<<<<<<< HEAD
    "elif deposit < 30000:\n",
=======
    "___________________: # fill in the blank here first!\n",
>>>>>>> d7b861289df566c3a9f0ce3f1743fab0c3d707d2
    "    print('Below $30,000')\n",
    "else:\n",
    "    print('Exactly $30,000')\n",
    "\n"
   ]
  },
  {
   "cell_type": "markdown",
   "metadata": {
    "id": "EhiEOMmsYKyT"
   },
   "source": [
    "This code works by evaluating each condition in order. If a condition evaluates to `True`, the rest are skipped."
   ]
  },
  {
   "cell_type": "code",
<<<<<<< HEAD
   "execution_count": 64,
=======
   "execution_count": null,
>>>>>>> d7b861289df566c3a9f0ce3f1743fab0c3d707d2
   "metadata": {
    "ExecuteTime": {
     "end_time": "2021-10-06T14:48:24.755877Z",
     "start_time": "2021-10-06T14:48:24.750188Z"
    },
    "id": "yPkv4qOtYKyV",
    "outputId": "804f0cec-9fdd-4874-e797-3d26716e6887"
   },
<<<<<<< HEAD
   "outputs": [
    {
     "name": "stdout",
     "output_type": "stream",
     "text": [
      "Exactly $30,000\n"
     ]
    }
   ],
=======
   "outputs": [],
>>>>>>> d7b861289df566c3a9f0ce3f1743fab0c3d707d2
   "source": [
    "# what's the difference between the above if-elif-else and this?\n",
    "# if, if, if\n",
    "if deposit > 30000:\n",
    "    print('Above $30,000')\n",
    "if deposit < 30000:\n",
    "    print('Below $30,000')\n",
    "if deposit == 30000:\n",
    "    print('Exactly $30,000')"
   ]
  },
  {
   "cell_type": "markdown",
   "metadata": {
    "collapsed": true,
    "id": "4e5NFTNvYKyW"
   },
   "source": [
    "### Exercise\n",
    "Complete the code below. Fill in the ___ with your answer"
   ]
  },
  {
   "cell_type": "code",
<<<<<<< HEAD
   "execution_count": 94,
   "metadata": {
    "id": "ngvtm9c2IfVD"
   },
   "outputs": [
    {
     "name": "stdout",
     "output_type": "stream",
     "text": [
      "sell\n"
     ]
    }
   ],
=======
   "execution_count": null,
   "metadata": {
    "id": "ngvtm9c2IfVD"
   },
   "outputs": [],
>>>>>>> d7b861289df566c3a9f0ce3f1743fab0c3d707d2
   "source": [
    "# practice: write a simple if elif else logic that tells us \n",
    "# what to do with TSLA stocks today (worth $895 yesterday)\n",
    "# if we should sell (if stock price increase by 50%),\n",
    "# buy more (drop by 10% or more ) \n",
    "# or else hold\n",
    "tsla = 895\n",
<<<<<<< HEAD
    "tsla_today = 1400\n",
    "if tsla_today >= tsla * 1.5: \n",
    "    print('sell')\n",
    "elif tsla_today <= tsla * 0.9:\n",
    "    print('buy')\n",
    "else:\n",
    "    print('hold')"
=======
    "tsla_today = 1000\n",
    "if tsla_today > tsla * ___ : \n",
    "    print('sell')\n",
    "elif ______:\n",
    "    ___\n",
    "else:\n",
    "    ___"
>>>>>>> d7b861289df566c3a9f0ce3f1743fab0c3d707d2
   ]
  },
  {
   "cell_type": "markdown",
   "metadata": {
    "id": "ZZr74n6QYKyY"
   },
   "source": [
    "\n",
    "### `for` Loops\n",
    "\n",
    "\n",
    "One of the primary purposes of using a programming language is to automate repetitive tasks. One such means in Python is the `for` loop.\n",
    "\n",
    "The `for` loop allows you to perform a task repeatedly on every element within an object, such as every name in a list.\n",
    "\n",
    "\n",
    "Let's see how the pseudocode works:\n",
    "\n",
    "```python\n",
    "# Take next item out from container from left to right \n",
    "    # perform task on item.\n",
    "```"
   ]
  },
  {
   "cell_type": "code",
<<<<<<< HEAD
   "execution_count": 87,
=======
   "execution_count": null,
>>>>>>> d7b861289df566c3a9f0ce3f1743fab0c3d707d2
   "metadata": {
    "ExecuteTime": {
     "end_time": "2021-10-23T14:26:00.874189Z",
     "start_time": "2021-10-23T14:26:00.869526Z"
    },
    "id": "8F82NdFnYKyZ"
   },
   "outputs": [],
   "source": [
    "# creating a small list\n",
    "tools = [\"python\", \"sql\", \"r\", \"java\"]"
   ]
  },
  {
   "cell_type": "code",
<<<<<<< HEAD
   "execution_count": 88,
=======
   "execution_count": null,
>>>>>>> d7b861289df566c3a9f0ce3f1743fab0c3d707d2
   "metadata": {
    "ExecuteTime": {
     "end_time": "2021-10-23T14:26:00.882842Z",
     "start_time": "2021-10-23T14:26:00.878065Z"
    }
   },
<<<<<<< HEAD
   "outputs": [
    {
     "name": "stdout",
     "output_type": "stream",
     "text": [
      "python\n",
      "sql\n",
      "r\n",
      "java\n"
     ]
    }
   ],
=======
   "outputs": [],
>>>>>>> d7b861289df566c3a9f0ce3f1743fab0c3d707d2
   "source": [
    "# What if i have to extract the all the values one by one?\n",
    "# Method 1: Tedious way\n",
    "print(tools[0])\n",
    "print(tools[1])\n",
    "print(tools[2])\n",
    "print(tools[3])"
   ]
  },
  {
   "cell_type": "code",
<<<<<<< HEAD
   "execution_count": 89,
=======
   "execution_count": null,
>>>>>>> d7b861289df566c3a9f0ce3f1743fab0c3d707d2
   "metadata": {
    "ExecuteTime": {
     "end_time": "2021-10-23T14:26:00.891406Z",
     "start_time": "2021-10-23T14:26:00.887011Z"
    },
    "id": "OEMUQtKYYKya",
    "outputId": "952fe638-bf9d-4e24-e409-e73a72f2a686"
   },
<<<<<<< HEAD
   "outputs": [
    {
     "name": "stdout",
     "output_type": "stream",
     "text": [
      "python\n",
      "sql\n",
      "r\n",
      "java\n"
     ]
    }
   ],
   "source": [
    "# Method 2: Smart way using loop!\n",
    "for tool in tools:      # How long is this 1D container? don't know, don't care, sometimes infinite, just process all\n",
=======
   "outputs": [],
   "source": [
    "# Method 2: Smart way using loop!\n",
    "__ ____ ___ _____:      # How long is this 1D container? don't know, don't care, sometimes infinite, just process all\n",
    "    \n",
>>>>>>> d7b861289df566c3a9f0ce3f1743fab0c3d707d2
    "    print(tool)"
   ]
  },
  {
   "cell_type": "code",
<<<<<<< HEAD
   "execution_count": 109,
=======
   "execution_count": null,
>>>>>>> d7b861289df566c3a9f0ce3f1743fab0c3d707d2
   "metadata": {
    "ExecuteTime": {
     "end_time": "2021-10-23T14:26:01.125665Z",
     "start_time": "2021-10-23T14:26:01.122155Z"
    },
    "id": "WL8o4QinKnbg"
   },
<<<<<<< HEAD
   "outputs": [
    {
     "name": "stdout",
     "output_type": "stream",
     "text": [
      "JPMORGAN\n"
     ]
    }
   ],
=======
   "outputs": [],
>>>>>>> d7b861289df566c3a9f0ce3f1743fab0c3d707d2
   "source": [
    "# Practise looping banks_list from the previous exercise and only print out JPMORGAN\n",
    "\n",
    "banks_list = ['DBS', 'POSB', 'HSBC', 'JPMORGAN']\n",
    "\n",
    "# Fill in the blanks\n",
    "for bank in banks_list:\n",
    "    \n",
    "  # what do we use to control conditions?\n",
<<<<<<< HEAD
    "    if bank == \"JPMORGAN\":\n",
    "        print(bank)"
=======
    "    if _____:\n",
    "        \n",
    "        print(____)"
>>>>>>> d7b861289df566c3a9f0ce3f1743fab0c3d707d2
   ]
  },
  {
   "cell_type": "markdown",
   "metadata": {
    "id": "rQcLGa7lYKyc"
   },
   "source": [
    "This process of cycling through a list item by item is known as \"iteration.\" \n",
    "#### Range()\n",
    "The **range()** function returns a sequence of numbers, starting from 0 by default, and increments by 1 (by default), and ends at a specified number.\n",
    "\n",
    "***range(start, stop[, step])***\n",
    "\n",
    "- ***range(n)*** : integer values from 1 to less than n, increment by 1\n",
    "\n",
    "- ***range(start, stop)*** : integer values from start to one less than stop, increment by 1"
   ]
  },
  {
   "cell_type": "code",
<<<<<<< HEAD
   "execution_count": 93,
=======
   "execution_count": null,
>>>>>>> d7b861289df566c3a9f0ce3f1743fab0c3d707d2
   "metadata": {
    "ExecuteTime": {
     "end_time": "2021-07-27T14:29:26.697359Z",
     "start_time": "2021-07-27T14:29:26.692267Z"
    },
    "id": "eGnJMLuEYKyd",
    "outputId": "39c190cc-eb65-4dfb-f54f-db85bf144e8f"
   },
<<<<<<< HEAD
   "outputs": [
    {
     "data": {
      "text/plain": [
       "range(0, 3)"
      ]
     },
     "execution_count": 93,
     "metadata": {},
     "output_type": "execute_result"
    }
   ],
=======
   "outputs": [],
>>>>>>> d7b861289df566c3a9f0ce3f1743fab0c3d707d2
   "source": [
    "range(3)"
   ]
  },
  {
   "cell_type": "code",
<<<<<<< HEAD
   "execution_count": 91,
=======
   "execution_count": null,
>>>>>>> d7b861289df566c3a9f0ce3f1743fab0c3d707d2
   "metadata": {
    "ExecuteTime": {
     "end_time": "2021-07-27T14:29:27.176462Z",
     "start_time": "2021-07-27T14:29:27.172460Z"
    },
    "id": "ybE4rQsTYKye",
    "outputId": "cf3c4707-932c-44e5-91b3-382fb74a7f8d"
   },
<<<<<<< HEAD
   "outputs": [
    {
     "name": "stdout",
     "output_type": "stream",
     "text": [
      "0\n",
      "1\n",
      "2\n"
     ]
    }
   ],
=======
   "outputs": [],
>>>>>>> d7b861289df566c3a9f0ce3f1743fab0c3d707d2
   "source": [
    "# if only 1 argument, then it is generating numbers from 0 to x-1\n",
    "for i in range(3):   # 0, 1, 2\n",
    "    print(i)"
   ]
  },
  {
   "cell_type": "code",
<<<<<<< HEAD
   "execution_count": 92,
=======
   "execution_count": null,
>>>>>>> d7b861289df566c3a9f0ce3f1743fab0c3d707d2
   "metadata": {
    "ExecuteTime": {
     "end_time": "2021-07-27T14:29:28.175080Z",
     "start_time": "2021-07-27T14:29:28.171466Z"
    },
    "id": "UhKP_KkXYKyg",
    "outputId": "245019e4-cf48-46b9-dc12-27b986ed01ab"
   },
<<<<<<< HEAD
   "outputs": [
    {
     "name": "stdout",
     "output_type": "stream",
     "text": [
      "1\n",
      "2\n",
      "3\n",
      "4\n",
      "5\n"
     ]
    }
   ],
=======
   "outputs": [],
>>>>>>> d7b861289df566c3a9f0ce3f1743fab0c3d707d2
   "source": [
    "# You can specify the start and end\n",
    "for i in range(1, 6): # 1 to 5\n",
    "    print(i)"
   ]
  },
  {
   "cell_type": "markdown",
   "metadata": {
    "id": "fkqgzqphYKyn"
   },
   "source": [
    "### In Class Exercise: For loops + Fizzbuzz"
   ]
  },
  {
   "cell_type": "markdown",
   "metadata": {
    "collapsed": true,
    "id": "FflXv7SkYKyo"
   },
   "source": [
    "#### 1. Write a for loop that prints all even numbers from 2 to 10"
   ]
  },
  {
   "cell_type": "code",
<<<<<<< HEAD
   "execution_count": 140,
   "metadata": {
    "id": "rgWTj9nTYKyp"
   },
   "outputs": [
    {
     "name": "stdout",
     "output_type": "stream",
     "text": [
      "2\n",
      "4\n",
      "6\n",
      "8\n",
      "10\n"
     ]
    }
   ],
   "source": [
    "# Fill in the blanks\n",
    "for i in range(2, 11):\n",
    "    \n",
    "    if i % 2 == 0:\n",
    "        print(i)\n"
=======
   "execution_count": null,
   "metadata": {
    "id": "rgWTj9nTYKyp"
   },
   "outputs": [],
   "source": [
    "# Fill in the blanks\n",
    "__ ___ in _____:\n",
    "    \n",
    "    if _____:\n",
    "        \n",
    "        _______\n"
>>>>>>> d7b861289df566c3a9f0ce3f1743fab0c3d707d2
   ]
  },
  {
   "cell_type": "markdown",
   "metadata": {
    "id": "Ua1v5MVrYKyr"
   },
   "source": [
    "#### 2. Iterate from 1 to 20 using the following instructions:\n",
    "\n",
    "1) If a number is divisible by 3, print \"fizz\" <br>\n",
    "2) If a number is divisible by 5, print \"buzz\" <br>\n",
    "3) If a number is both divisible by 3 and by 5, print \"fizzbuzz\"<br>\n",
    "4) Otherwise, print just the number.\n",
    "\n",
    "Note: Each number should only trigger 1 print statement!"
   ]
  },
  {
   "cell_type": "code",
<<<<<<< HEAD
   "execution_count": 153,
   "metadata": {},
   "outputs": [
    {
     "name": "stdout",
     "output_type": "stream",
     "text": [
      "1\n",
      "2\n",
      "fizz\n",
      "4\n",
      "buzz\n",
      "fizz\n",
      "7\n",
      "8\n",
      "fizz\n",
      "buzz\n",
      "11\n",
      "fizz\n",
      "13\n",
      "14\n",
      "fizzbuzz\n",
      "16\n",
      "17\n",
      "fizz\n",
      "19\n",
      "buzz\n",
      "1\n",
      "2\n",
      "fizz\n",
      "4\n",
      "buzz\n",
      "fizz\n",
      "7\n",
      "8\n",
      "fizz\n",
      "buzz\n",
      "11\n",
      "fizz\n",
      "13\n",
      "14\n",
      "fizzbuzz\n",
      "16\n",
      "17\n",
      "fizz\n",
      "19\n",
      "buzz\n"
     ]
    }
   ],
   "source": [
    "# Easy solution\n",
    "for i in range(1, 20+1):\n",
    "    if i % 3 == 0 and i % 5 == 0:\n",
    "        print(\"fizzbuzz\")\n",
    "    elif i % 3 == 0:\n",
    "        print(\"fizz\")\n",
    "    elif i % 5 == 0:\n",
    "        print(\"buzz\")\n",
    "    else:\n",
    "        print(i)\n",
    "\n",
    "# Optimized solution\n",
    "for i in range(1, 21):\n",
    "    output = \"\"\n",
    "    if i % 3 == 0:\n",
    "        output += \"fizz\"\n",
    "    if i % 5 == 0:\n",
    "        output += \"buzz\"\n",
    "        \n",
    "    print(output or i)\n",
=======
   "execution_count": null,
   "metadata": {},
   "outputs": [],
   "source": [
    "for i in range(1, 20+1):\n",
    "    ________\n",
    "        _______\n",
    "    ________\n",
    "        _______\n",
>>>>>>> d7b861289df566c3a9f0ce3f1743fab0c3d707d2
    "        \n",
    "# your code will be longer. "
   ]
  },
  {
   "cell_type": "markdown",
   "metadata": {
    "id": "AyJ-0zrfYKyt"
   },
   "source": [
    "This is the expected output from your code:  \n",
    "1  <br>\n",
    "2  \n",
    "fizz    \n",
    "4        <br> \n",
    "buzz      \n",
    "fizz    \n",
    "7    <br> \n",
    "8    \n",
    "fizz    \n",
    "buzz    \n",
    "11    \n",
    "fizz  \n",
    "13  \n",
    "14  \n",
    "fizzbuzz  \n",
    "16  \n",
    "17  \n",
    "fizz  \n",
    "19  \n",
    "buzz  \n",
    "\n",
    "Remember this example. FizzBuzz is a common coding challenge. It is relatively easy to solve, but those who ask are always looking for more creative ways to solve or optimize it."
   ]
  },
  {
   "cell_type": "markdown",
   "metadata": {
    "id": "d2fbJALfYKy7"
   },
   "source": [
    "### Functions (Bonus!)\n",
    "---\n",
    "\n",
    "Similar to the way we can use `for` loops as a means of performing repetitive tasks on a series of objects, we can also create functions to perform repetitive tasks. Within a function, we can write a large block of action and then call the function whenever we want to use it.  \n",
    "\n",
    "\n",
    "Let's make some pseudocode:\n",
    "```python\n",
    "# Define the function name and the requirements it needs.\n",
    "    # Perform actions.\n",
    "    # Optional: Return output.\n",
    "```\n",
    "\n",
    "Let's create a function that takes two numbers as arguments and returns their sum, difference, and product. "
   ]
  },
  {
   "cell_type": "code",
<<<<<<< HEAD
   "execution_count": 103,
=======
   "execution_count": null,
>>>>>>> d7b861289df566c3a9f0ce3f1743fab0c3d707d2
   "metadata": {
    "ExecuteTime": {
     "end_time": "2021-10-06T14:56:52.482816Z",
     "start_time": "2021-10-06T14:56:52.477856Z"
    },
    "colab": {
     "base_uri": "https://localhost:8080/"
    },
    "executionInfo": {
     "elapsed": 21,
     "status": "ok",
     "timestamp": 1634912720361,
     "user": {
      "displayName": "Han",
      "photoUrl": "https://lh3.googleusercontent.com/a/default-user=s64",
      "userId": "17532577447856661470"
     },
     "user_tz": -480
    },
    "id": "k4yD3dFJYKy7",
    "outputId": "064f67ec-a61c-4d4a-fbd6-462dbf794ac4"
   },
<<<<<<< HEAD
   "outputs": [
    {
     "name": "stdout",
     "output_type": "stream",
     "text": [
      "1\n",
      "4\n",
      "9\n"
     ]
    }
   ],
=======
   "outputs": [],
>>>>>>> d7b861289df566c3a9f0ce3f1743fab0c3d707d2
   "source": [
    "# Task: print the square of each number\n",
    "# Example of tedious, repeated code\n",
    "print(1**2)\n",
    "print(2**2)\n",
    "print(3**2)"
   ]
  },
  {
   "cell_type": "markdown",
   "metadata": {
    "id": "-KTjzBiiYKy8"
   },
   "source": [
    "#### Function definition and calling "
   ]
  },
  {
   "cell_type": "markdown",
   "metadata": {
    "ExecuteTime": {
     "end_time": "2021-11-04T10:25:03.895875Z",
     "start_time": "2021-11-04T10:25:03.892460Z"
    }
   },
   "source": [
    "<img src=\"img/func_bank.png\" style=\"height: 300px\">\n"
   ]
  },
  {
   "cell_type": "code",
<<<<<<< HEAD
   "execution_count": 104,
=======
   "execution_count": null,
>>>>>>> d7b861289df566c3a9f0ce3f1743fab0c3d707d2
   "metadata": {
    "ExecuteTime": {
     "end_time": "2021-10-23T14:42:16.673222Z",
     "start_time": "2021-10-23T14:42:16.668928Z"
    }
   },
   "outputs": [],
   "source": [
    "# defining the simplest possible function with 0 parameters\n",
    "def func():\n",
    "    pass\n",
    "    \n",
    "# calling the function with 0 arguments\n",
    "func()"
   ]
  },
  {
   "cell_type": "code",
<<<<<<< HEAD
   "execution_count": 112,
=======
   "execution_count": null,
>>>>>>> d7b861289df566c3a9f0ce3f1743fab0c3d707d2
   "metadata": {
    "ExecuteTime": {
     "end_time": "2021-10-23T14:39:17.206088Z",
     "start_time": "2021-10-23T14:39:17.194172Z"
    },
    "colab": {
     "base_uri": "https://localhost:8080/"
    },
    "executionInfo": {
     "elapsed": 15,
     "status": "ok",
     "timestamp": 1634912720362,
     "user": {
      "displayName": "Han",
      "photoUrl": "https://lh3.googleusercontent.com/a/default-user=s64",
      "userId": "17532577447856661470"
     },
     "user_tz": -480
    },
    "id": "ojqBTdRcYKy9",
    "outputId": "8c55f96a-21b8-4009-e83b-5a43f1625104"
   },
<<<<<<< HEAD
   "outputs": [
    {
     "name": "stdout",
     "output_type": "stream",
     "text": [
      "9\n"
     ]
    }
   ],
=======
   "outputs": [],
>>>>>>> d7b861289df566c3a9f0ce3f1743fab0c3d707d2
   "source": [
    "def square(number):\n",
    "    squared_number = number**2\n",
    "    \n",
    "    return squared_number\n",
    "\n",
    "three_squared = square(3)\n",
    "\n",
    "print(three_squared)"
   ]
  },
  {
   "cell_type": "markdown",
   "metadata": {
    "id": "TSHLvYCWYKy-"
   },
   "source": [
    "#### Use the function and a loop to print out the squares of 1, 2, 3, ..., i"
   ]
  },
  {
   "cell_type": "code",
<<<<<<< HEAD
   "execution_count": 119,
=======
   "execution_count": null,
>>>>>>> d7b861289df566c3a9f0ce3f1743fab0c3d707d2
   "metadata": {
    "ExecuteTime": {
     "end_time": "2021-10-06T14:59:40.741279Z",
     "start_time": "2021-10-06T14:59:40.732625Z"
    },
    "colab": {
     "base_uri": "https://localhost:8080/"
    },
    "executionInfo": {
     "elapsed": 11,
     "status": "ok",
     "timestamp": 1634912720362,
     "user": {
      "displayName": "Han",
      "photoUrl": "https://lh3.googleusercontent.com/a/default-user=s64",
      "userId": "17532577447856661470"
     },
     "user_tz": -480
    },
    "id": "_i3zNJijYKy-",
    "outputId": "1a37ea52-8bec-4048-bd82-73f153af99fb"
   },
<<<<<<< HEAD
   "outputs": [
    {
     "name": "stdout",
     "output_type": "stream",
     "text": [
      "1\n",
      "4\n",
      "9\n"
     ]
    }
   ],
=======
   "outputs": [],
>>>>>>> d7b861289df566c3a9f0ce3f1743fab0c3d707d2
   "source": [
    "# combining all the things we learnt\n",
    "\n",
    "def square_all(i):\n",
    "    \n",
    "    for i in range(1, i+1):\n",
    "        \n",
    "        print(i ** 2)\n",
<<<<<<< HEAD
    "\n",
    "square_all(3)\n"
=======
    "    \n"
>>>>>>> d7b861289df566c3a9f0ce3f1743fab0c3d707d2
   ]
  },
  {
   "cell_type": "markdown",
   "metadata": {
    "id": "U1vgJ0MDYKzD"
   },
   "source": [
    "### In Class Exercise Part 2: Functions"
   ]
  },
  {
   "cell_type": "markdown",
   "metadata": {
    "id": "VtXmvQm4YKzE"
   },
   "source": [
    "#### 1. Write a function that takes a word as an argument and returns the number of vowels (letters a,e,i,o,u) in the word.\n",
    "\n",
    "Try it out on three words.\n",
    "1. functions --> 3 vowels (u, i, o)\n",
    "2. are --> 2 vowels (a, e)\n",
    "3. fun --> 1 vowel (u)\n"
   ]
  },
  {
   "cell_type": "code",
<<<<<<< HEAD
   "execution_count": 120,
   "metadata": {},
   "outputs": [
    {
     "name": "stdout",
     "output_type": "stream",
     "text": [
      "True\n",
      "False\n"
     ]
    }
   ],
=======
   "execution_count": null,
   "metadata": {},
   "outputs": [],
>>>>>>> d7b861289df566c3a9f0ce3f1743fab0c3d707d2
   "source": [
    "# clue 1: run this cell and see the output\n",
    "print('a' in 'aeiou')\n",
    "print('b' in 'aeiou')"
   ]
  },
  {
   "cell_type": "code",
<<<<<<< HEAD
   "execution_count": 121,
=======
   "execution_count": null,
>>>>>>> d7b861289df566c3a9f0ce3f1743fab0c3d707d2
   "metadata": {},
   "outputs": [],
   "source": [
    "# clue 2:\n",
    "# in your function, you can consider using at least 1 for loop and at least 1 if"
   ]
  },
  {
   "cell_type": "code",
<<<<<<< HEAD
   "execution_count": 124,
=======
   "execution_count": null,
>>>>>>> d7b861289df566c3a9f0ce3f1743fab0c3d707d2
   "metadata": {
    "ExecuteTime": {
     "end_time": "2021-07-27T14:30:07.898570Z",
     "start_time": "2021-07-27T14:30:07.896049Z"
    },
    "id": "xVP4Ec65YKzF"
   },
<<<<<<< HEAD
   "outputs": [
    {
     "name": "stdout",
     "output_type": "stream",
     "text": [
      "3\n",
      "2\n",
      "1\n"
     ]
    }
   ],
=======
   "outputs": [],
>>>>>>> d7b861289df566c3a9f0ce3f1743fab0c3d707d2
   "source": [
    "# write your answer (code) below\n",
    "# def <function name> (input) :\n",
    "    # some logic\n",
    "    # return\n",
    "    \n",
<<<<<<< HEAD
    "def number_vowel(word):\n",
    "    number = 0\n",
    "    for i in word:\n",
    "        if i in (\"a\", \"e\", \"i\", \"o\", \"u\"):\n",
    "            number+=1\n",
    "    \n",
    "    return number\n",
=======
    "def number_vowel(____):\n",
    "    \n",
    "    _________\n",
    "    \n",
>>>>>>> d7b861289df566c3a9f0ce3f1743fab0c3d707d2
    "    \n",
    "    \n",
    "test_cases = ['functions','are','fun']\n",
    "\n",
    "for case in test_cases:\n",
    "    print(number_vowel(case))\n",
    "    \n",
    "# output\n",
    "# 3\n",
    "# 2\n",
    "# 1"
   ]
  },
  {
   "cell_type": "markdown",
   "metadata": {
    "id": "LmsvdGKaYKzB"
   },
   "source": [
    "### Behaviour of return \n",
    "- Functions exit on first run of return statement, no matter what else is written below"
   ]
  },
  {
   "cell_type": "code",
<<<<<<< HEAD
   "execution_count": 125,
=======
   "execution_count": null,
>>>>>>> d7b861289df566c3a9f0ce3f1743fab0c3d707d2
   "metadata": {
    "ExecuteTime": {
     "end_time": "2021-10-10T14:44:33.533433Z",
     "start_time": "2021-10-10T14:44:33.525880Z"
    },
    "id": "BES3P5YoYKzC",
    "outputId": "3845de16-bb44-4376-ad3f-67c6bca95ce1"
   },
<<<<<<< HEAD
   "outputs": [
    {
     "name": "stdout",
     "output_type": "stream",
     "text": [
      "dont know\n",
      "larger than three\n"
     ]
    }
   ],
=======
   "outputs": [],
>>>>>>> d7b861289df566c3a9f0ce3f1743fab0c3d707d2
   "source": [
    "def f(num):  \n",
    "    if num > 3:\n",
    "        return 'larger than three'\n",
    "    else:\n",
    "        return \"dont know\"\n",
    "    \n",
    "print(f(3))\n",
    "print(f(4))"
   ]
  },
  {
   "cell_type": "code",
<<<<<<< HEAD
   "execution_count": 126,
   "metadata": {},
   "outputs": [
    {
     "name": "stdout",
     "output_type": "stream",
     "text": [
      "dont know\n",
      "larger than three\n"
     ]
    }
   ],
=======
   "execution_count": null,
   "metadata": {},
   "outputs": [],
>>>>>>> d7b861289df566c3a9f0ce3f1743fab0c3d707d2
   "source": [
    "# what about this?\n",
    "\n",
    "def f(num):  \n",
    "    if num > 3:\n",
    "        return 'larger than three'\n",
    "    else:\n",
    "        return \"dont know\"\n",
    "    \n",
    "    print('Hello!!!')\n",
    "    \n",
    "print(f(3))\n",
    "print(f(4))\n",
    "\n",
    "# the function ENDS when it return any stuff"
   ]
  },
  {
   "cell_type": "markdown",
   "metadata": {},
   "source": [
    "## Take-home Exercises: "
   ]
  },
  {
   "cell_type": "markdown",
   "metadata": {},
   "source": [
    "### Exercise 1: Add bank to list of banks "
   ]
  },
  {
<<<<<<< HEAD
   "cell_type": "code",
   "execution_count": null,
=======
   "cell_type": "markdown",
>>>>>>> d7b861289df566c3a9f0ce3f1743fab0c3d707d2
   "metadata": {
    "ExecuteTime": {
     "end_time": "2021-10-24T13:21:20.894999Z",
     "start_time": "2021-10-24T13:21:20.888825Z"
    }
   },
<<<<<<< HEAD
   "outputs": [],
=======
>>>>>>> d7b861289df566c3a9f0ce3f1743fab0c3d707d2
   "source": [
    "- Write a function named `add_bank` that adds variable `bank` to an input list `l` and assign returned value to variable `updated_banks`\n",
    "- test calling the function on two different sets of inputs \n",
    "    - `l = [], bank = 'DBS' ---> Output: ['DBS']`\n",
    "    - `l = ['HSBC'], bank = 'SCB' ---> Output: ['HSBC', 'SCB']`"
   ]
  },
  {
   "cell_type": "code",
<<<<<<< HEAD
   "execution_count": 137,
   "metadata": {},
   "outputs": [
    {
     "name": "stdout",
     "output_type": "stream",
     "text": [
      "['HSBC', 'SCB']\n"
     ]
    }
   ],
   "source": [
    "# Your code here\n",
    "def add_bank(list_of_banks, bank_to_add):\n",
    "    return list_of_banks.append(bank_to_add)\n",
    "\n",
    "list_of_banks = ['HSBC']\n",
    "bank_to_add = \"SCB\"\n",
    "\n",
    "add_bank(list_of_banks, bank_to_add)\n",
    "\n",
    "print(list_of_banks)"
=======
   "execution_count": null,
   "metadata": {},
   "outputs": [],
   "source": [
    "# Your code here\n",
    "def add_bank(list_of_banks, bank_to_add):\n",
    "    \n",
    "    _________"
>>>>>>> d7b861289df566c3a9f0ce3f1743fab0c3d707d2
   ]
  },
  {
   "cell_type": "markdown",
   "metadata": {
    "id": "T8zZ5jUoYKzF"
   },
   "source": [
    "### Exercise 2:\n",
    "The following function returns a string based on the string input.\n",
    "1) Understand what is the code doing  \n",
    "2) Find a simpler way to rewrite this function using a data structure you already learnt (Clue: Dictionary)"
   ]
  },
  {
   "cell_type": "code",
<<<<<<< HEAD
   "execution_count": 146,
   "metadata": {
    "id": "AtL3Y_utYKzH"
   },
   "outputs": [
    {
     "data": {
      "text/plain": [
       "'confident'"
      ]
     },
     "execution_count": 146,
     "metadata": {},
     "output_type": "execute_result"
    }
   ],
   "source": [
    "def if_else(subject):\n",
    "    subject_dict = {\n",
    "        \"lists\": \"very confident\",\n",
    "        \"dictionaries\": \"confident\",\n",
    "        \"iterables\": \"not sure\"\n",
    "    }\n",
    "    \n",
    "    return subject_dict.get(subject)\n",
    "#     if subject = 'lists':\n",
    "#         return 'very confident'\n",
    "#     if subject = 'dictionaries':\n",
    "#         return 'confident'\n",
    "#     if subject = 'iterables':\n",
    "#         return 'not sure'    \n",
    "\n",
    "if_else(\"dictionaries\")"
=======
   "execution_count": null,
   "metadata": {
    "id": "AtL3Y_utYKzH"
   },
   "outputs": [],
   "source": [
    "def if_else(subject):\n",
    "    if subject = 'lists':\n",
    "        return 'very confident'\n",
    "    if subject = 'dictionaries':\n",
    "        return 'confident'\n",
    "    if subject = 'iterables':\n",
    "        return 'not sure'    "
>>>>>>> d7b861289df566c3a9f0ce3f1743fab0c3d707d2
   ]
  },
  {
   "cell_type": "markdown",
   "metadata": {
    "collapsed": true,
    "id": "IHQa10czYKzK"
   },
   "source": [
    "\n",
    "<a name=\"conclusion\"></a>\n",
    "## Lesson Summary\n",
    "\n",
    "\n",
    "Let's review what we learned today. We:\n",
    "\n",
    "- Reviewed `Python` control flow and conditional programming. \n",
    "- Implemented `for` loops to iterate through data structures.\n",
    "- Applied `if… else` conditional statements.\n",
    "- Created functions to perform repetitive actions.\n",
    "- Combined control flow and conditional statements to solve the classic \"FizzBuzz\" code challenge."
   ]
  },
  {
   "cell_type": "markdown",
   "metadata": {},
   "source": [
    "# Take home Exercises\n",
    "- - https://pynative.com/python-exercises-with-solutions/ (same link as lesson 1)"
   ]
  },
  {
   "cell_type": "markdown",
   "metadata": {
    "id": "Lgw5d5b5YKzL"
   },
   "source": [
    "# Readings \n",
    "- Built-in Tools to iterate through python objects: https://docs.python.org/3/library/itertools.html\n",
    "- Built-in tools to work with containers: https://docs.python.org/3/library/collections.html \n",
    "- Different ways to define and call functions: https://levelup.gitconnected.com/5-types-of-arguments-in-python-function-definition-e0e2a2cafd29 (use incognito-mode to get past paywall) \n",
    "- List comprehensions (Writing loops as 1-liner): https://treyhunner.com/2015/12/python-list-comprehensions-now-in-color/ \n",
    "- Lambda functions (Writing functions as 1-liner): https://treyhunner.com/2018/09/stop-writing-lambda-expressions/\n"
   ]
  }
 ],
 "metadata": {
  "anaconda-cloud": {},
  "colab": {
   "name": "String Methods and Control Flow.ipynb",
   "provenance": []
  },
  "kernelspec": {
   "display_name": "Python 3",
   "language": "python",
   "name": "python3"
  },
  "language_info": {
   "codemirror_mode": {
    "name": "ipython",
    "version": 3
   },
   "file_extension": ".py",
   "mimetype": "text/x-python",
   "name": "python",
   "nbconvert_exporter": "python",
   "pygments_lexer": "ipython3",
   "version": "3.8.5"
  },
  "toc": {
   "base_numbering": 1,
   "nav_menu": {},
   "number_sections": true,
   "sideBar": true,
   "skip_h1_title": false,
   "title_cell": "Table of Contents",
   "title_sidebar": "Contents",
   "toc_cell": false,
   "toc_position": {
    "height": "calc(100% - 180px)",
    "left": "10px",
    "top": "150px",
    "width": "426.198px"
   },
   "toc_section_display": true,
   "toc_window_display": true
  },
  "varInspector": {
   "cols": {
    "lenName": 16,
    "lenType": 16,
    "lenVar": 40
   },
   "kernels_config": {
    "python": {
     "delete_cmd_postfix": "",
     "delete_cmd_prefix": "del ",
     "library": "var_list.py",
     "varRefreshCmd": "print(var_dic_list())"
    },
    "r": {
     "delete_cmd_postfix": ") ",
     "delete_cmd_prefix": "rm(",
     "library": "var_list.r",
     "varRefreshCmd": "cat(var_dic_list()) "
    }
   },
   "types_to_exclude": [
    "module",
    "function",
    "builtin_function_or_method",
    "instance",
    "_Feature"
   ],
   "window_display": false
  }
 },
 "nbformat": 4,
 "nbformat_minor": 1
}
